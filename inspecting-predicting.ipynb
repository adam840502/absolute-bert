{
 "cells": [
  {
   "cell_type": "code",
   "execution_count": 1,
   "id": "8993056f-c602-4f78-8db0-9e743dd27d4e",
   "metadata": {},
   "outputs": [],
   "source": [
    "import pathlib\n",
    "import numpy as np\n",
    "\n",
    "import matplotlib.pyplot as plt\n",
    "\n",
    "import torch\n",
    "from torch import nn\n",
    "\n",
    "import datasets\n",
    "from transformers import AutoTokenizer\n",
    "\n",
    "import umap"
   ]
  },
  {
   "cell_type": "code",
   "execution_count": 2,
   "id": "2b03f39e-7e27-4427-8c41-2c32dc59b04e",
   "metadata": {},
   "outputs": [
    {
     "name": "stderr",
     "output_type": "stream",
     "text": [
      "/home/adam/miniconda3/envs/lima/lib/python3.12/site-packages/datasets/load.py:1461: FutureWarning: The repository for bookcorpus contains custom code which must be executed to correctly load the dataset. You can inspect the repository content at https://hf.co/datasets/bookcorpus\n",
      "You can avoid this message in future by passing the argument `trust_remote_code=True`.\n",
      "Passing `trust_remote_code=True` will be mandatory to load this dataset from the next major release of `datasets`.\n",
      "  warnings.warn(\n"
     ]
    },
    {
     "data": {
      "text/plain": [
       "{'text': ['usually , he would be tearing around the living room , playing with his toys .',\n",
       "  'but just one look at a minion sent him practically catatonic .',\n",
       "  \"that had been megan 's plan when she got him dressed earlier .\"]}"
      ]
     },
     "execution_count": 2,
     "metadata": {},
     "output_type": "execute_result"
    }
   ],
   "source": [
    "dataset = datasets.load_dataset('bookcorpus')['train']\n",
    "dataset[:3]"
   ]
  },
  {
   "cell_type": "code",
   "execution_count": 3,
   "id": "05349014-3edb-4a0a-9c80-9207d89c99d5",
   "metadata": {},
   "outputs": [],
   "source": [
    "tokenizer = AutoTokenizer.from_pretrained('bert-base-uncased')"
   ]
  },
  {
   "cell_type": "code",
   "execution_count": 107,
   "id": "b7ac73c1-a037-4f1a-b395-e1c534acc3f7",
   "metadata": {},
   "outputs": [],
   "source": [
    "subpath = '20240704.20:55:54' # 4 abs_bert, bookcorpus\n",
    "subpath = '20240704.21:19:36' # 5 abs_bert, wiki\n",
    "# subpath = '20240704.21:26:11' # 6 abs_bert, bookcorpus, xavier_init_embedding\n",
    "subpath = '20240704.21:33:23' # 7 abs_bert, wiki, xavier_init_embedding\n",
    "# subpath = '20240709.10:26:55' # abs_architecture, lr 1e-5~1e-3, early exploded\n",
    "subpath = '20240709.11:13:35' # abs_architecture, lr 1e-5~1e-3, exploded at 10000\n",
    "subpath = '20240709.12:14:48' # time_attention, lr 1e-5~1e-3, exploded at before 6000\n",
    "subpath = '20240709.14:18:30'\n",
    "subpath = '20240709.15:13:59'\n",
    "subpath = '20240709.16:56:30' \n",
    "subpath = '20240710.02:31:19' # sum_of_softmax\n",
    "# subpath = '20240710.03:33:50' # e1_as_pivot\n",
    "subpath = '20240710.15:09:00' # e1_as_pivot\n",
    "subpath = '20240710.18:31:50' # sum_of_softmax\n",
    "subpath = '20240710.23:13:03' # all1_as_pivot, mask_prob0.15\n",
    "\n",
    "\n",
    "epoch_num = 0\n",
    "batch_num = 5000"
   ]
  },
  {
   "cell_type": "code",
   "execution_count": 108,
   "id": "d17d9b68-d9f5-42e0-a360-c89e4cdcc655",
   "metadata": {},
   "outputs": [],
   "source": [
    "import numpy as np\n",
    "import torch\n",
    "import torch.nn as nn\n",
    "\n",
    "class Absolute_attention(nn.Module):\n",
    "  def __init__(self, dim=256, num_heads=16, hidden_dim=None, time_dim=64):\n",
    "    super().__init__()\n",
    "\n",
    "    self.dim = dim\n",
    "    self.num_heads = num_heads\n",
    "    self.time_dim = time_dim\n",
    "\n",
    "    if isinstance(hidden_dim, int):\n",
    "      self.hidden_dim = hidden_dim\n",
    "    else:\n",
    "      assert dim % num_heads == 0\n",
    "      self.hidden_dim = dim // num_heads\n",
    "\n",
    "    # assert self.hidden_dim % 2 == 0\n",
    "    # self.time_embedding = time_embedding\n",
    "    self.time_angle = nn.Parameter(torch.rand(self.num_heads, self.time_dim))\n",
    "    self.head_time_delta = nn.Parameter(torch.rand(self.num_heads))\n",
    "\n",
    "    self.Q = nn.Linear(dim, num_heads * (self.hidden_dim + 1))\n",
    "    self.K = nn.Linear(dim, num_heads * self.hidden_dim)\n",
    "    self.V = nn.Linear(dim, num_heads * self.hidden_dim)\n",
    "    self.O = nn.Linear(num_heads * self.hidden_dim, dim)\n",
    "\n",
    "    with torch.no_grad():\n",
    "      self.Q.bias.copy_(torch.zeros_like(self.Q.bias))\n",
    "      self.K.bias.copy_(torch.zeros_like(self.K.bias))\n",
    "      self.V.bias.copy_(torch.zeros_like(self.V.bias))\n",
    "      self.O.bias.copy_(torch.zeros_like(self.O.bias))\n",
    "\n",
    "    self.dropout = nn.Dropout(p=0.5)\n",
    "\n",
    "  def forward(self, tensor, attention_mask):\n",
    "    batch_length = tensor.shape[:2]\n",
    "    # print(f'{tensor.shape=}')\n",
    "    q = self.Q(tensor).view(*batch_length, self.num_heads, self.hidden_dim + 1)\n",
    "    # q = (q + attention_mask[..., None, None])\n",
    "    q = q.softmax(dim=-1)\n",
    "\n",
    "    time_angles = (torch.arange(batch_length[1]).to(self.head_time_delta.device)[:, None, None]\n",
    "                   + self.head_time_delta[None, :, None]) * self.time_angle  # shape: [length, num_heads, dim_time] ?\n",
    "    cosines, sines = time_angles.cos(), time_angles.sin()\n",
    "    time = torch.cat([cosines + sines, cosines - sines], dim=-1) / np.sqrt(self.hidden_dim)  # shape: [length, num_heads, 2*dim_time] ?\n",
    "    q = q[..., :-1, None].sum(-2) * time\n",
    "    # q shape: [batch_size, length, num_heads, 2*dim_time] = [batch_size, length, 1, 1] * [length, num_heads, 2*dim_time] ?\n",
    "\n",
    "    k = self.K(tensor).view(*batch_length, self.num_heads, self.hidden_dim)  # bthd\n",
    "    k = k.softmax(dim=-1) * attention_mask[..., None, None]\n",
    "\n",
    "    k_time_angles = torch.arange(batch_length[1]).to(self.time_angle.device)[:, None, None] * self.time_angle\n",
    "    k_cosines, k_sines = time_angles.cos(), time_angles.sin()\n",
    "    k_time = torch.cat([k_cosines + k_sines, k_cosines - k_sines], dim=-1) / np.sqrt(self.hidden_dim)\n",
    "\n",
    "    attention = torch.einsum('blhd,thd->blth', q, k_time)\n",
    "\n",
    "    v = self.V(tensor).view(*batch_length, self.num_heads, self.hidden_dim)\n",
    "    adding_comb = torch.einsum('blth,bthd->blhd', attention, v)\n",
    "\n",
    "    output = self.O(adding_comb.reshape(*batch_length, self.dim))\n",
    "\n",
    "    return self.dropout(output)\n",
    "\n",
    "class Absolute_bert(nn.Module):\n",
    "  def __init__(self, vocab_size, dim=256, num_heads=8, hidden_dim=None, depth=8, attention_type=Absolute_attention, dtype=torch.float):\n",
    "    super().__init__()\n",
    "    self.vocab_size = vocab_size\n",
    "    self.dim = dim\n",
    "    self.num_heads = num_heads\n",
    "    self.hidden_dim = hidden_dim\n",
    "    self.depth = depth\n",
    "\n",
    "    self.embedding = nn.Embedding(vocab_size, dim, _weight=torch.nn.init.xavier_normal_(torch.ones([vocab_size, self.dim])))\n",
    "    # self.embedding = nn.Embedding(vocab_size, dim, _weight=torch.rand(vocab_size, self.dim) / np.sqrt(self.dim))\n",
    "\n",
    "    self.layers = nn.ModuleList([Absolute_attention(dim=dim,\n",
    "      num_heads=num_heads,\n",
    "      hidden_dim=hidden_dim\n",
    "      ) for _ in range(depth)])\n",
    "    self.dtype = dtype\n",
    "\n",
    "  def forward(self, input_ids, attention_mask, **kwargs):\n",
    "    # extended_attention_mask = attention_mask.to(dtype=self.dtype)  # fp16 compatibility\n",
    "    # extended_attention_mask = (1.0 - extended_attention_mask) * torch.finfo(self.dtype).min\n",
    "\n",
    "    tensor = self.embedding(input_ids)\n",
    "\n",
    "    for layer in self.layers:\n",
    "      output = layer(tensor, attention_mask)\n",
    "      tensor = tensor + output\n",
    "\n",
    "    return tensor\n",
    "\n",
    "class Absolute_bert_for_masked_LM(nn.Module):\n",
    "  def __init__(self, vocab_size, dim=256, num_heads=8, hidden_dim=None, depth=8, **kwargs):\n",
    "    super().__init__()\n",
    "    self.base_model = Absolute_bert(vocab_size, dim, num_heads, hidden_dim, depth, **kwargs)\n",
    "    self.bias = nn.Parameter(torch.zeros(vocab_size))\n",
    "\n",
    "  def forward(self, input_ids, attention_mask, labels=None, **kwargs):\n",
    "    tensor = self.base_model(input_ids=input_ids, attention_mask=attention_mask, **kwargs)\n",
    "\n",
    "    return tensor, labels\n",
    "\n",
    "  def word_embeddings(self):\n",
    "    return self.base_model.embedding.weight"
   ]
  },
  {
   "cell_type": "code",
   "execution_count": 109,
   "id": "e6858c5e-1792-4a54-ac65-194c89cb6ca4",
   "metadata": {},
   "outputs": [
    {
     "name": "stdout",
     "output_type": "stream",
     "text": [
      "weight norms, min: 0.1553989201784134, max: 0.35093221068382263\n",
      "min norms: ['kitchen', '[MASK]', 'amelie', 'councillors', 'camden', '##dial', 'sees', 'spence', 'arenas', 'sourced']\n",
      "max norms: ['for', ')', '(', 'a', 'of', 'in', 'and', ',', '.', 'the']\n",
      "bias norms, min: -0.00400241743773222, max: 0.024706829339265823\n",
      "min norms: ['[PAD]', '[unused736]', 'ಾ', 'gasps', '[unused988]', '[unused525]', 'ɒ', '##ை', '[unused126]', 'gasped']\n",
      "max norms: ['november', '6', ',', '8', 'b', '1997', '18', 'japanese', 'book', 'often']\n"
     ]
    },
    {
     "data": {
      "image/png": "[encoded data removed]",
      "text/plain": [
       "<Figure size 900x400 with 2 Axes>"
      ]
     },
     "metadata": {},
     "output_type": "display_data"
    }
   ],
   "source": [
    "folder_path = pathlib.Path('data/limanet/')\n",
    "\n",
    "model = torch.load(folder_path/subpath/f'epoch_{epoch_num}-batch_{batch_num}-model.pt', map_location='cpu')\n",
    "word_reprs = model.word_embeddings().detach()\n",
    "\n",
    "_, (ax_w, ax_b) = plt.subplots(1, 2, figsize=[9, 4])\n",
    "\n",
    "# weight stats\n",
    "norms = np.linalg.norm(word_reprs, axis=1)\n",
    "indices = norms.argsort()\n",
    "print(f\"weight norms, min: {norms.min()}, max: {norms.max()}\")\n",
    "print(\"min norms:\", tokenizer.convert_ids_to_tokens(indices[:10]))\n",
    "print(\"max norms:\", tokenizer.convert_ids_to_tokens(indices[-10:]))\n",
    "_ = ax_w.hist(norms, bins=100)\n",
    "\n",
    "# bias stats\n",
    "biases = model.bias.detach()\n",
    "indices = biases.argsort()\n",
    "print(f\"bias norms, min: {biases.min()}, max: {biases.max()}\")\n",
    "print(\"min norms:\", tokenizer.convert_ids_to_tokens(indices[:10]))\n",
    "print(\"max norms:\", tokenizer.convert_ids_to_tokens(indices[-10:]))\n",
    "if hasattr(model, 'predictor') and hasattr(model.predictor, 'base_vec'):\n",
    "  print(f\"base vec norm: {model.predictor.base_vec.norm()}\")\n",
    "_ = ax_b.hist(biases, bins=100)"
   ]
  },
  {
   "cell_type": "code",
   "execution_count": 110,
   "id": "da917ee3-0e83-452e-a0c1-62e051aad22c",
   "metadata": {},
   "outputs": [],
   "source": [
    "sentence = ['I love to [MASK].', 'Hi, how are [MASK]?']\n",
    "inputs = tokenizer(sentence, return_tensors='pt', padding=True, add_special_tokens=False)\n",
    "inputs\n",
    "\n",
    "res = model(**inputs)[0]"
   ]
  },
  {
   "cell_type": "code",
   "execution_count": 111,
   "id": "e614f288-8951-44fb-a921-1dc1c7003865",
   "metadata": {},
   "outputs": [
    {
     "data": {
      "text/plain": [
       "(['i', 'love', 'to', '[MASK]', '.', 'hi', ',', 'how', 'are', '[MASK]', '?'],\n",
       " array([3, 9]))"
      ]
     },
     "execution_count": 111,
     "metadata": {},
     "output_type": "execute_result"
    }
   ],
   "source": [
    "ids = tokenizer.encode(sentence, add_special_tokens=False)\n",
    "mask_pos = np.where([(id_ == tokenizer.vocab['[MASK]']) for id_ in ids])[0]\n",
    "tokenizer.convert_ids_to_tokens(ids), mask_pos"
   ]
  },
  {
   "cell_type": "code",
   "execution_count": 112,
   "id": "d6261123-3ac4-4fcc-8838-d968ac6094b2",
   "metadata": {},
   "outputs": [],
   "source": [
    "n_tops = 10\n",
    "\n",
    "score = res @ word_reprs.T\n",
    "preds = score.argsort(dim=2).flip(2)[:, :, :n_tops]"
   ]
  },
  {
   "cell_type": "code",
   "execution_count": 113,
   "id": "ca9f4cb4-a720-406c-8104-6ccdce0026f6",
   "metadata": {},
   "outputs": [
    {
     "name": "stdout",
     "output_type": "stream",
     "text": [
      "i      ['well', 'this', 'self', 'he', 'number', 'it', '2008', 'composed', '1973', 'adapted']\n",
      "love   ['it', 'village', 'known', 'well', '1863', 'romanized', 'tributary', 'referred', '2008', '2005']\n",
      "to     ['it', 'the', 'formed', '-', 'works', 'first', 'one', 'guy', 'self', 'well']\n",
      "[MASK] ['the', '2013', 'it', 'one', 'first', '2012', 'known', '.', 'municipalities', 'this']\n",
      ".      ['one', 'it', 'elected', 'village', 'external', 'up', '1948', 'least', 'he', 'daughter']\n",
      "[PAD]  [':', 'elected', 'the', '2013', 'saint', 'exhibitions', 'first', 'early', 'one', 'kingdom']\n",
      "\n",
      "hi     ['referred', 'name', 'village', 'this', 'one', '66', 'airplanes', 'december', '1877', 'stockholm']\n",
      ",      ['roads', 'one', 'cinematography', 'village', 'intended', 'won', 'shrink', 'inception', 'shah', '1949']\n",
      "how    ['it', 'born', 'one', '2008', 'links', 'refer', 'a', 'external', 'sussex', 'finland']\n",
      "are    ['it', 'the', '2012', 'refer', 'born', '1995', '2005', 'located', 'in', 'village']\n",
      "[MASK] ['she', 'is', 'one', 'links', 'external', 'well', 'romanized', '2005', '.', 'village']\n",
      "?      ['is', 'born', 'refer', 'it', 'romanized', 'she', 'the', 'surname', 'well', 'also']\n",
      "\n"
     ]
    }
   ],
   "source": [
    "for truth_ids, sample in zip(inputs['input_ids'], preds):\n",
    "  truth_tokens = tokenizer.convert_ids_to_tokens(truth_ids)\n",
    "  max_length = max([len(token) for token in truth_tokens])\n",
    "  \n",
    "  for token, candidates in zip(truth_tokens, sample):\n",
    "    print(token.ljust(max_length), tokenizer.convert_ids_to_tokens(candidates))\n",
    "  print()"
   ]
  },
  {
   "cell_type": "code",
   "execution_count": null,
   "id": "ff723a90-17e5-4e25-9713-ede5f84d4997",
   "metadata": {},
   "outputs": [],
   "source": []
  },
  {
   "cell_type": "code",
   "execution_count": null,
   "id": "bded4313-aef9-41ae-9629-ab6ac68b40c4",
   "metadata": {},
   "outputs": [],
   "source": []
  }
 ],
 "metadata": {
  "kernelspec": {
   "display_name": "Python 3 (ipykernel)",
   "language": "python",
   "name": "python3"
  },
  "language_info": {
   "codemirror_mode": {
    "name": "ipython",
    "version": 3
   },
   "file_extension": ".py",
   "mimetype": "text/x-python",
   "name": "python",
   "nbconvert_exporter": "python",
   "pygments_lexer": "ipython3",
   "version": "3.12.2"
  }
 },
 "nbformat": 4,
 "nbformat_minor": 5
}

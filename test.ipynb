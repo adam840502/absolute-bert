{
 "cells": [
  {
   "cell_type": "code",
   "execution_count": 1,
   "id": "dcb7a930-7e9f-4ec7-acb9-33d74c4e39f4",
   "metadata": {},
   "outputs": [
    {
     "name": "stderr",
     "output_type": "stream",
     "text": [
      "/home/adam/miniconda3/envs/lima/lib/python3.12/site-packages/tqdm/auto.py:21: TqdmWarning: IProgress not found. Please update jupyter and ipywidgets. See https://ipywidgets.readthedocs.io/en/stable/user_install.html\n",
      "  from .autonotebook import tqdm as notebook_tqdm\n"
     ]
    }
   ],
   "source": [
    "import pathlib\n",
    "import numpy as np\n",
    "\n",
    "import matplotlib.pyplot as plt\n",
    "\n",
    "import torch\n",
    "from torch import nn\n",
    "\n",
    "import datasets\n",
    "from transformers import AutoTokenizer"
   ]
  },
  {
   "cell_type": "code",
   "execution_count": 36,
   "id": "9e933b5c-a2fa-4b46-b9d0-7c31aef6e148",
   "metadata": {},
   "outputs": [],
   "source": [
    "tokenizer = AutoTokenizer.from_pretrained('bert-base-uncased')"
   ]
  },
  {
   "cell_type": "code",
   "execution_count": 37,
   "id": "fd7c9fc3-95f1-487e-9ac7-3eabb201d6e9",
   "metadata": {},
   "outputs": [
    {
     "data": {
      "text/plain": [
       "{'text': ['usually , he would be tearing around the living room , playing with his toys .',\n",
       "  'but just one look at a minion sent him practically catatonic .',\n",
       "  \"that had been megan 's plan when she got him dressed earlier .\"]}"
      ]
     },
     "execution_count": 37,
     "metadata": {},
     "output_type": "execute_result"
    }
   ],
   "source": [
    "dataset = datasets.load_dataset('bookcorpus')\n",
    "dataset['train'][:3]"
   ]
  },
  {
   "cell_type": "code",
   "execution_count": 33,
   "id": "34f0f704-b3e7-420e-8050-5ae1d36607c4",
   "metadata": {},
   "outputs": [],
   "source": [
    "# import model.rotator_lima3 as rotator\n",
    "# subpath = '20240422.11:52:35-batch_size_1024'\n",
    "\n",
    "# import model.rotator_multihead_local_coordinate as rotator\n",
    "# subpath = '20240422.02:23:48-batch_size_1024'\n",
    "# batch_num = 10000\n",
    "\n",
    "import model.rotator_multireslima_rotating_history as rotator\n",
    "subpath = '20240422.02:12:51-batch_size_1024' #for report\n",
    "subpath = '20240422.11:49:56-batch_size_1024' #rotator_lima3, dim96, head12, depth3\n",
    "\n",
    "batch_num = 10000"
   ]
  },
  {
   "cell_type": "code",
   "execution_count": 34,
   "id": "faac43b7-48cf-4283-b29e-041ebf523b96",
   "metadata": {},
   "outputs": [],
   "source": [
    "folder_path = pathlib.Path('data/limanet/')\n",
    "model = torch.load(folder_path/subpath/f'batch_{batch_num}-model.pt').cpu()"
   ]
  },
  {
   "cell_type": "code",
   "execution_count": 35,
   "id": "0f553579-7fd8-445a-8e7d-6ce4e8a6748f",
   "metadata": {},
   "outputs": [
    {
     "data": {
      "text/plain": [
       "Parameter containing:\n",
       "tensor(0.5746, requires_grad=True)"
      ]
     },
     "execution_count": 35,
     "metadata": {},
     "output_type": "execute_result"
    }
   ],
   "source": [
    "model.predictor.rotary_denom"
   ]
  },
  {
   "cell_type": "code",
   "execution_count": 38,
   "id": "868f37ac-dea9-47d4-a8b6-89de47a991e2",
   "metadata": {},
   "outputs": [
    {
     "name": "stdout",
     "output_type": "stream",
     "text": [
      "tensor([[ 2169,  2051,  2016,  2246,  2046,  6701,  1005,  1055,  2227,  1010,\n",
      "          2016,  2001,  8794,  2008,  2002,  2246,  2498,  2066,  2010,  2269,\n",
      "          1012,     0,     0,     0,     0],\n",
      "        [ 2010,  8899,  8855,  2606,  1998,  2630,  2159,  2020,  3294,  5106,\n",
      "          1012,     0,     0,     0,     0,     0,     0,     0,     0,     0,\n",
      "             0,     0,     0,     0,     0],\n",
      "        [ 2009,  2001,  2069,  2010,  3857,  2008,  2002,  2001,  2635,  2044,\n",
      "          2010,  2269,  1012,     0,     0,     0,     0,     0,     0,     0,\n",
      "             0,     0,     0,     0,     0],\n",
      "        [ 2073, 12756,  2001,  1037, 11737,  2378, 28546,  1019,  1005,  1017,\n",
      "          1005,  1005,  1010,  4482,  2001,  1020,  1005,  1015,  1005,  1005,\n",
      "          1998,  2048,  3634,  7038,  1012],\n",
      "        [ 6701,  2001,  2525, 25719,  2125,  1996,  6093,  1999,  4578,  1998,\n",
      "          3635,  2429,  2000,  2010, 23614,  2937,  1012,     0,     0,     0,\n",
      "             0,     0,     0,     0,     0]])\n"
     ]
    }
   ],
   "source": [
    "samples = dataset['train'][10:15]['text']\n",
    "\n",
    "input_ids = tokenizer(samples, padding=True, return_tensors='pt', add_special_tokens=False)['input_ids']\n",
    "print(input_ids)"
   ]
  },
  {
   "cell_type": "code",
   "execution_count": 39,
   "id": "5242dd9e-e1be-4324-b359-f12d5c05ce33",
   "metadata": {},
   "outputs": [],
   "source": [
    "# # for early non-multihead limanet\n",
    "\n",
    "# using_distance = 'L2'\n",
    "\n",
    "# histories = model.initial_history\n",
    "# for l in range(input_ids.shape[1]):\n",
    "#     predicts, histories = model.inference(input_ids[:, l], histories, return_updated_history=True, distance=using_distance)\n",
    "#     tokenizer.batch_decode(predicts[:, :5])\n",
    "    \n",
    "#     for predict, input_id in zip(predicts, input_ids):\n",
    "#         candidates = tokenizer.convert_ids_to_tokens(predict[:5].detach().numpy())\n",
    "#         feeded = tokenizer.decode(input_id[:l+1])\n",
    "#         print(f\"{feeded} : {candidates=}\")\n",
    "\n",
    "#     print()"
   ]
  },
  {
   "cell_type": "code",
   "execution_count": 40,
   "id": "a3f20ecd-d00b-4490-8d80-09c073e13e0a",
   "metadata": {},
   "outputs": [
    {
     "name": "stdout",
     "output_type": "stream",
     "text": [
      "each : candidates=['each', 'made', 'were', 'be', 'go']\n",
      "his : candidates=['them', 'voice', 'made', 'with', '!']\n",
      "it : candidates=['made', 'i', 'of', \"'\", 'was']\n",
      "where : candidates=['made', 'if', 'never', 'off', 'and']\n",
      "mason : candidates=['##ing', 'never', 'found', 'be', 'could']\n",
      "\n",
      "each time : candidates=['found', 'did', 'voice', 'off', 'if']\n",
      "his platinum : candidates=['if', 'everyone', 'did', 'go', 'could']\n",
      "it was : candidates=['doing', 'all', 'n', 'a', 'were']\n",
      "where megan : candidates=['was', 'sure', 'teeth', 'hand', 'hands']\n",
      "mason was : candidates=['all', 'an', 'off', 'if', 'a']\n",
      "\n",
      "each time she : candidates=['made', 'back', 'if', 'they', 'few']\n",
      "his platinum blond : candidates=['life', 's', 'right', 'made', 'go']\n",
      "it was only : candidates=['be', 'made', 'reason', 't', 'found']\n",
      "where megan was : candidates=['made', 'off', 'two', 'life', 'one']\n",
      "mason was already : candidates=['made', 'back', 'there', 'were', 'thing']\n",
      "\n",
      "each time she looked : candidates=['off', 'why', 'thing', 'this', 'two']\n",
      "his platinum blond hair : candidates=['them', 'sure', 'see', 'one', 'as']\n",
      "it was only his : candidates=['t', 'off', '##ing', 'through', 's']\n",
      "where megan was a : candidates=['if', 'as', 'right', 'all', 'off']\n",
      "mason was already registering : candidates=['-', 're', 'go', 'around', 'hand']\n",
      "\n",
      "each time she looked into : candidates=['back', 'made', 'go', 'if', 'the']\n",
      "his platinum blond hair and : candidates=['made', 'off', 'back', 't', 'enough']\n",
      "it was only his build : candidates=['if', 'as', 'returned', 'hands', 'little']\n",
      "where megan was a dim : candidates=['ll', 'from', 'if', 'very', 'hell']\n",
      "mason was already registering off : candidates=['made', 'did', 'face', 'all', 'if']\n",
      "\n",
      "each time she looked into mason : candidates=['lip', 'decided', 'day', 'out', 'if']\n",
      "his platinum blond hair and blue : candidates=['any', 'if', 'off', 'should', 'why']\n",
      "it was only his build that : candidates=['i', 'so', 'them', 'there', 'found']\n",
      "where megan was a dimin : candidates=['ever', 'sure', 'many', 'coming', 'hands']\n",
      "mason was already registering off the : candidates=['one', 'not', 'there', 'off', 'go']\n",
      "\n",
      "each time she looked into mason ' : candidates=['s', 'found', 'll', 'hard', 'if']\n",
      "his platinum blond hair and blue eyes : candidates=['made', 'off', 'to', 'there', 'on']\n",
      "it was only his build that he : candidates=['made', 'll', 's', 'back', '-']\n",
      "where megan was a diminutive : candidates=['t', '##ful', 'to', 'i', 'did']\n",
      "mason was already registering off the charts : candidates=['##ful', 'herself', 'short', 'll', 'made']\n",
      "\n",
      "each time she looked into mason's : candidates=['made', 's', 'for', 'if', 'so']\n",
      "his platinum blond hair and blue eyes were : candidates=['as', 'off', 'if', 'go', 'hands']\n",
      "it was only his build that he was : candidates=['back', 'for', 'all', 'as', 'never']\n",
      "where megan was a diminutive 5 : candidates=['on', '-', 'found', 'kept', 'do']\n",
      "mason was already registering off the charts in : candidates=['on', 'hands', 'the', 'never', 'made']\n",
      "\n",
      "each time she looked into mason's face : candidates=['all', 'll', 'life', 'face', 'voice']\n",
      "his platinum blond hair and blue eyes were completely : candidates=['hard', 'made', 'time', 'one', 'to']\n",
      "it was only his build that he was taking : candidates=['made', 'hands', 'almost', '##ing', 'taking']\n",
      "where megan was a diminutive 5 ' : candidates=[\"'\", 'off', 'll', 'if', 'made']\n",
      "mason was already registering off the charts in height : candidates=['little', 'one', 'off', 'than', 't']\n",
      "\n",
      "each time she looked into mason's face, : candidates=['as', 'with', 'not', 'right', 'hands']\n",
      "his platinum blond hair and blue eyes were completely hers : candidates=['t', 'if', 'life', 'before', 'long']\n",
      "it was only his build that he was taking after : candidates=['that', 'if', 'for', 'found', 'off']\n",
      "where megan was a diminutive 5'3 : candidates=['not', 'go', 'might', 'found', 'all']\n",
      "mason was already registering off the charts in height and : candidates=['off', 'be', 'so', 'when', 'i']\n",
      "\n",
      "each time she looked into mason's face, she : candidates=['back', 'made', 'were', 'was', 'took']\n",
      "his platinum blond hair and blue eyes were completely hers. : candidates=['off', 'be', 'made', 'back', 'any']\n",
      "it was only his build that he was taking after his : candidates=['one', 'on', 'real', 'there', 'as']\n",
      "where megan was a diminutive 5'3 ' : candidates=[\"'\", 'made', 'right', 's', 'off']\n",
      "mason was already registering off the charts in height and weight : candidates=['off', 'life', 'how', 'two', 'made']\n",
      "\n",
      "each time she looked into mason's face, she was : candidates=['off', 'hands', 'reason', 'if', 'on']\n",
      "his platinum blond hair and blue eyes were completely hers. [PAD] : candidates=['-', 'thought', 'made', 'wondered', 'should']\n",
      "it was only his build that he was taking after his father : candidates=['all', 'hands', 'there', 'not', 'made']\n",
      "where megan was a diminutive 5'3'' : candidates=['ll', 's', 'hands', \"'\", 'found']\n",
      "mason was already registering off the charts in height and weight according : candidates=['off', 'if', 'as', 'made', 'caught']\n",
      "\n",
      "each time she looked into mason's face, she was grateful : candidates=['if', 'not', 'any', 'enough', 'found']\n",
      "his platinum blond hair and blue eyes were completely hers. [PAD] [PAD] : candidates=['one', 'for', 'same', 're', 'kick']\n",
      "it was only his build that he was taking after his father. : candidates=['found', 'back', 'hands', 'voice', 'made']\n",
      "where megan was a diminutive 5'3'', : candidates=['made', 'll', 'he', 'bed', 'of']\n",
      "mason was already registering off the charts in height and weight according to : candidates=['off', 'take', 'go', 'how', 'made']\n",
      "\n",
      "each time she looked into mason's face, she was grateful that : candidates=['made', 'if', 'i', 'as', 'not']\n",
      "his platinum blond hair and blue eyes were completely hers. [PAD] [PAD] [PAD] : candidates=['bed', 'help', 'turned', 'under', 'block']\n",
      "it was only his build that he was taking after his father. [PAD] : candidates=['help', 'one', 'bed', 'under', 'life']\n",
      "where megan was a diminutive 5'3'', davis : candidates=['i', 'off', 'here', 'nice', 'not']\n",
      "mason was already registering off the charts in height and weight according to his : candidates=['right', 'go', 'made', 'he', 'still']\n",
      "\n",
      "each time she looked into mason's face, she was grateful that he : candidates=['one', 'go', '##ing', 'if', 'made']\n",
      "his platinum blond hair and blue eyes were completely hers. [PAD] [PAD] [PAD] [PAD] : candidates=['hands', 'the', 'all', 'your', 'appreciate']\n",
      "it was only his build that he was taking after his father. [PAD] [PAD] : candidates=['hands', 'the', 'all', 'your', 'we']\n",
      "where megan was a diminutive 5'3'', davis was : candidates=['if', 'll', 'all', 'hands', 'back']\n",
      "mason was already registering off the charts in height and weight according to his pediatric : candidates=['them', 'be', 'about', 'did', 'when']\n",
      "\n",
      "each time she looked into mason's face, she was grateful that he looked : candidates=['each', 'all', 'life', 'late', 'go']\n",
      "his platinum blond hair and blue eyes were completely hers. [PAD] [PAD] [PAD] [PAD] [PAD] : candidates=['off', 'i', 'being', 'turn', 'wonder']\n",
      "it was only his build that he was taking after his father. [PAD] [PAD] [PAD] : candidates=['off', 'i', 'being', 'turn', 'wonder']\n",
      "where megan was a diminutive 5'3'', davis was 6 : candidates=['each', 'exactly', 'off', '!', 'their']\n",
      "mason was already registering off the charts in height and weight according to his pediatrician : candidates=['me', 'hands', 'say', 'hurt', 'felt']\n",
      "\n",
      "each time she looked into mason's face, she was grateful that he looked nothing : candidates=['them', 'with', 'off', 'back', 'on']\n",
      "his platinum blond hair and blue eyes were completely hers. [PAD] [PAD] [PAD] [PAD] [PAD] [PAD] : candidates=['want', 'get', 'move', 'say', 'should']\n",
      "it was only his build that he was taking after his father. [PAD] [PAD] [PAD] [PAD] : candidates=['want', 'get', 'move', 'say', 'should']\n",
      "where megan was a diminutive 5'3'', davis was 6 ' : candidates=['s', 'll', 'off', 'found', 'never']\n",
      "mason was already registering off the charts in height and weight according to his pediatrician. : candidates=['found', 'back', 'made', '##ing', 'on']\n",
      "\n",
      "each time she looked into mason's face, she was grateful that he looked nothing like : candidates=['made', 'little', 'your', 'hard', 'not']\n",
      "his platinum blond hair and blue eyes were completely hers. [PAD] [PAD] [PAD] [PAD] [PAD] [PAD] [PAD] : candidates=['working', 'right', 'put', 'real', 'as']\n",
      "it was only his build that he was taking after his father. [PAD] [PAD] [PAD] [PAD] [PAD] : candidates=['working', 'right', 'put', 'real', 'as']\n",
      "where megan was a diminutive 5'3'', davis was 6'1 : candidates=['if', 'short', 'inside', 'go', 'part']\n",
      "mason was already registering off the charts in height and weight according to his pediatrician. [PAD] : candidates=['put', 'as', 'outside', 'right', 'not']\n",
      "\n",
      "each time she looked into mason's face, she was grateful that he looked nothing like his : candidates=['t', 'up', 'life', 'hands', 'off']\n",
      "his platinum blond hair and blue eyes were completely hers. [PAD] [PAD] [PAD] [PAD] [PAD] [PAD] [PAD] [PAD] : candidates=['-', 'll', 'lost', 'go', 'combination']\n",
      "it was only his build that he was taking after his father. [PAD] [PAD] [PAD] [PAD] [PAD] [PAD] : candidates=['-', 'll', 'lost', 'go', 'combination']\n",
      "where megan was a diminutive 5'3'', davis was 6'1 ' : candidates=[\"'\", 's', 'hands', 'll', 'if']\n",
      "mason was already registering off the charts in height and weight according to his pediatrician. [PAD] [PAD] : candidates=['-', 'll', 'lost', 'go', 'for']\n",
      "\n",
      "each time she looked into mason's face, she was grateful that he looked nothing like his father : candidates=['did', 'voice', 'how', 'should', 'on']\n",
      "his platinum blond hair and blue eyes were completely hers. [PAD] [PAD] [PAD] [PAD] [PAD] [PAD] [PAD] [PAD] [PAD] : candidates=['ll', 'reason', 'met', '-', 'firmly']\n",
      "it was only his build that he was taking after his father. [PAD] [PAD] [PAD] [PAD] [PAD] [PAD] [PAD] : candidates=['ll', 'reason', 'met', '-', 'firmly']\n",
      "where megan was a diminutive 5'3'', davis was 6'1'' : candidates=[\"'\", 's', 't', 'if', 'hands']\n",
      "mason was already registering off the charts in height and weight according to his pediatrician. [PAD] [PAD] [PAD] : candidates=['ll', 'reason', 'met', '-', 'firmly']\n",
      "\n",
      "each time she looked into mason's face, she was grateful that he looked nothing like his father. : candidates=['made', 'back', 'off', 'were', 're']\n",
      "his platinum blond hair and blue eyes were completely hers. [PAD] [PAD] [PAD] [PAD] [PAD] [PAD] [PAD] [PAD] [PAD] [PAD] : candidates=['feet', 'one', 'under', 'did', 'quick']\n",
      "it was only his build that he was taking after his father. [PAD] [PAD] [PAD] [PAD] [PAD] [PAD] [PAD] [PAD] : candidates=['feet', 'one', 'under', 'did', 'quick']\n",
      "where megan was a diminutive 5'3'', davis was 6'1'' and : candidates=['say', 'hands', 'off', 'on', 'as']\n",
      "mason was already registering off the charts in height and weight according to his pediatrician. [PAD] [PAD] [PAD] [PAD] : candidates=['feet', 'one', 'under', 'did', 'quick']\n",
      "\n",
      "each time she looked into mason's face, she was grateful that he looked nothing like his father. [PAD] : candidates=['never', 'hands', 'wide', 'like', 'all']\n",
      "his platinum blond hair and blue eyes were completely hers. [PAD] [PAD] [PAD] [PAD] [PAD] [PAD] [PAD] [PAD] [PAD] [PAD] [PAD] : candidates=['never', 'like', 'hands', 'did', 'how']\n",
      "it was only his build that he was taking after his father. [PAD] [PAD] [PAD] [PAD] [PAD] [PAD] [PAD] [PAD] [PAD] : candidates=['never', 'like', 'hands', 'did', 'how']\n",
      "where megan was a diminutive 5'3'', davis was 6'1'' and two : candidates=['i', '-', 'made', 'be', 'go']\n",
      "mason was already registering off the charts in height and weight according to his pediatrician. [PAD] [PAD] [PAD] [PAD] [PAD] : candidates=['never', 'like', 'hands', 'did', 'how']\n",
      "\n",
      "each time she looked into mason's face, she was grateful that he looked nothing like his father. [PAD] [PAD] : candidates=['know', 'made', 'found', 'bed', 'touch']\n",
      "his platinum blond hair and blue eyes were completely hers. [PAD] [PAD] [PAD] [PAD] [PAD] [PAD] [PAD] [PAD] [PAD] [PAD] [PAD] [PAD] : candidates=['made', 'know', 'bed', 'found', 'hated']\n",
      "it was only his build that he was taking after his father. [PAD] [PAD] [PAD] [PAD] [PAD] [PAD] [PAD] [PAD] [PAD] [PAD] : candidates=['made', 'know', 'bed', 'found', 'hated']\n",
      "where megan was a diminutive 5'3'', davis was 6'1'' and two hundred : candidates=['ever', 'if', 'opened', 'go', 'found']\n",
      "mason was already registering off the charts in height and weight according to his pediatrician. [PAD] [PAD] [PAD] [PAD] [PAD] [PAD] : candidates=['made', 'know', 'bed', 'found', 'hated']\n",
      "\n",
      "each time she looked into mason's face, she was grateful that he looked nothing like his father. [PAD] [PAD] [PAD] : candidates=['so', 'hand', '!', 'he', 'want']\n",
      "his platinum blond hair and blue eyes were completely hers. [PAD] [PAD] [PAD] [PAD] [PAD] [PAD] [PAD] [PAD] [PAD] [PAD] [PAD] [PAD] [PAD] : candidates=['so', 'hand', '!', 'he', 'want']\n",
      "it was only his build that he was taking after his father. [PAD] [PAD] [PAD] [PAD] [PAD] [PAD] [PAD] [PAD] [PAD] [PAD] [PAD] : candidates=['so', 'hand', '!', 'he', 'want']\n",
      "where megan was a diminutive 5'3'', davis was 6'1'' and two hundred pounds : candidates=['thing', 'than', ',', 'late', 'attention']\n",
      "mason was already registering off the charts in height and weight according to his pediatrician. [PAD] [PAD] [PAD] [PAD] [PAD] [PAD] [PAD] : candidates=['so', 'hand', '!', 'he', 'want']\n",
      "\n",
      "each time she looked into mason's face, she was grateful that he looked nothing like his father. [PAD] [PAD] [PAD] [PAD] : candidates=['were', 'sharp', '-', 'right', 'one']\n",
      "his platinum blond hair and blue eyes were completely hers. [PAD] [PAD] [PAD] [PAD] [PAD] [PAD] [PAD] [PAD] [PAD] [PAD] [PAD] [PAD] [PAD] [PAD] : candidates=['were', 'sharp', '-', 'right', 'one']\n",
      "it was only his build that he was taking after his father. [PAD] [PAD] [PAD] [PAD] [PAD] [PAD] [PAD] [PAD] [PAD] [PAD] [PAD] [PAD] : candidates=['were', 'sharp', '-', 'right', 'one']\n",
      "where megan was a diminutive 5'3'', davis was 6'1'' and two hundred pounds. : candidates=['be', 'one', '-', 'each', 'same']\n",
      "mason was already registering off the charts in height and weight according to his pediatrician. [PAD] [PAD] [PAD] [PAD] [PAD] [PAD] [PAD] [PAD] : candidates=['were', 'sharp', '-', 'right', 'one']\n",
      "\n"
     ]
    }
   ],
   "source": [
    "using_distance = 'L2'\n",
    "\n",
    "histories = [history.clone() for history in model.initial_history]\n",
    "for l in range(input_ids.shape[1]):\n",
    "    \n",
    "    predicts, histories = model.inference(input_ids[:, l], histories, l, return_updated_history=True, distance=using_distance)\n",
    "    tokenizer.batch_decode(predicts[:, :5])\n",
    "    \n",
    "    for predict, input_id in zip(predicts, input_ids):\n",
    "        candidates = tokenizer.convert_ids_to_tokens(predict[:5].detach().numpy())\n",
    "        feeded = tokenizer.decode(input_id[:l+1])\n",
    "        print(f\"{feeded} : {candidates=}\")\n",
    "\n",
    "    print()"
   ]
  },
  {
   "cell_type": "code",
   "execution_count": 10,
   "id": "d2e1d4ae-91a8-47cd-9b1c-9fa3b7f76cb3",
   "metadata": {},
   "outputs": [
    {
     "data": {
      "text/plain": [
       "torch.Size([5])"
      ]
     },
     "execution_count": 10,
     "metadata": {},
     "output_type": "execute_result"
    }
   ],
   "source": [
    "input_ids[:, l].shape"
   ]
  }
 ],
 "metadata": {
  "kernelspec": {
   "display_name": "Python 3 (ipykernel)",
   "language": "python",
   "name": "python3"
  },
  "language_info": {
   "codemirror_mode": {
    "name": "ipython",
    "version": 3
   },
   "file_extension": ".py",
   "mimetype": "text/x-python",
   "name": "python",
   "nbconvert_exporter": "python",
   "pygments_lexer": "ipython3",
   "version": "3.12.2"
  }
 },
 "nbformat": 4,
 "nbformat_minor": 5
}

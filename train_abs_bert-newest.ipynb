{
 "cells": [
  {
   "cell_type": "code",
   "execution_count": 1,
   "metadata": {
    "colab": {
     "base_uri": "https://localhost:8080/"
    },
    "id": "QsHwepRgHs6m",
    "outputId": "0de98f63-a252-46d6-aef6-ed51bbb25c48"
   },
   "outputs": [],
   "source": [
    "# import os\n",
    "# from pathlib import Path\n",
    "# from google.colab import drive\n",
    "\n",
    "# PATH = \"/content/drive\"\n",
    "# drive.mount(PATH)\n",
    "\n",
    "# folder_path = Path('MyDrive/models/abs_bert')"
   ]
  },
  {
   "cell_type": "code",
   "execution_count": 2,
   "metadata": {
    "id": "BE8QpGXCO9iz"
   },
   "outputs": [],
   "source": [
    "# !pip install --quiet transformers datasets\n",
    "# !pip install --quiet tensorboard\n",
    "# tensorboard --logdir=runs"
   ]
  },
  {
   "cell_type": "code",
   "execution_count": 3,
   "metadata": {
    "colab": {
     "base_uri": "https://localhost:8080/"
    },
    "id": "jCos9wWPHmS3",
    "outputId": "6f563cf5-0189-43f6-c544-d5a30527ba09"
   },
   "outputs": [
    {
     "data": {
      "text/plain": [
       "True"
      ]
     },
     "execution_count": 3,
     "metadata": {},
     "output_type": "execute_result"
    }
   ],
   "source": [
    "import torch\n",
    "device = 'cuda:7' if torch.cuda.is_available() else 'cpu'\n",
    "torch.cuda.is_available()"
   ]
  },
  {
   "cell_type": "code",
   "execution_count": null,
   "metadata": {},
   "outputs": [],
   "source": []
  },
  {
   "cell_type": "code",
   "execution_count": 4,
   "metadata": {
    "id": "dGlSE7acnjve"
   },
   "outputs": [],
   "source": [
    "from collections import defaultdict\n",
    "import os\n",
    "import datetime\n",
    "from pathlib import Path\n",
    "import json\n",
    "from tqdm import tqdm\n",
    "\n",
    "from torch import nn\n",
    "from torch.utils.data import DataLoader\n",
    "import torch.optim.lr_scheduler as lr_scheduler\n",
    "\n",
    "# import datasets\n",
    "# from datasets import load_dataset\n",
    "from transformers import AutoTokenizer\n",
    "\n",
    "# import utils.load_corpus as load_corpus\n",
    "# import utils.losses as l\n",
    "\n",
    "import model.absolute_bert_fix_negative_layer_norm as Abs_bert\n",
    "\n",
    "import importlib"
   ]
  },
  {
   "cell_type": "code",
   "execution_count": 5,
   "metadata": {
    "colab": {
     "base_uri": "https://localhost:8080/"
    },
    "id": "FjMKJ7VtH1sy",
    "outputId": "96f59f21-da0b-4bd6-cde1-88c26a483b72"
   },
   "outputs": [],
   "source": [
    "# colab\n",
    "# folder_path = Path(folder_path)\n",
    "# os.makedirs(PATH/folder_path, exist_ok=True)\n",
    "\n",
    "# 59\n",
    "PATH = \"data\"\n",
    "folder_path = Path(f\"limanet\")\n",
    "os.makedirs(PATH/folder_path, exist_ok=True)"
   ]
  },
  {
   "cell_type": "code",
   "execution_count": null,
   "metadata": {},
   "outputs": [],
   "source": []
  },
  {
   "cell_type": "code",
   "execution_count": 6,
   "metadata": {
    "colab": {
     "base_uri": "https://localhost:8080/"
    },
    "id": "FjMKJ7VtH1sy",
    "outputId": "96f59f21-da0b-4bd6-cde1-88c26a483b72"
   },
   "outputs": [
    {
     "data": {
      "text/plain": [
       "tensor([[ 101, 1045, 2293, 4743, 1012,  102,    0,    0,    0],\n",
       "        [ 101, 7632, 1010, 1045, 1005, 1049, 3960, 1012,  102]])"
      ]
     },
     "execution_count": 6,
     "metadata": {},
     "output_type": "execute_result"
    }
   ],
   "source": [
    "tokenizer_type = 'bert-base-uncased'\n",
    "\n",
    "tokenizer = AutoTokenizer.from_pretrained(tokenizer_type)\n",
    "text = [\"I love bird.\", \"Hi, I'm Bob.\"]\n",
    "tokenized = tokenizer(text, return_tensors='pt', padding=True)\n",
    "tokenized['input_ids']"
   ]
  },
  {
   "cell_type": "code",
   "execution_count": 14,
   "metadata": {
    "colab": {
     "base_uri": "https://localhost:8080/",
     "height": 153,
     "referenced_widgets": [
      "fff2d68968ba4e39bfc7cea47f842558",
      "da358db5ba284536b14b9028d2439cec",
      "a87b48a56fbd47c2a4f9dced3d8f79bc",
      "0731381b11d04e06bb0662d7759d48fd",
      "0ad95c09ec7a49159e79926433686a2d",
      "2459972537b94585af9ac6603e060570",
      "7aa04beb95d14930a48e7f76c898ff45",
      "23b9f3358e0b46ee893cea571ab585dc",
      "3beef72616574b1089d6d0914c98df99",
      "2c4fa4925b034334aa4ad357a417768c",
      "ec60e65ca9d04ee09a6061bf6b8a8554"
     ]
    },
    "id": "OR2HYk5eH30w",
    "outputId": "65c9bb5c-c469-4d31-f4d0-dc6dd37c7d81"
   },
   "outputs": [
    {
     "name": "stderr",
     "output_type": "stream",
     "text": [
      "/home/adam/miniconda3/envs/lima/lib/python3.12/site-packages/datasets/load.py:1461: FutureWarning: The repository for wikipedia contains custom code which must be executed to correctly load the dataset. You can inspect the repository content at https://hf.co/datasets/wikipedia\n",
      "You can avoid this message in future by passing the argument `trust_remote_code=True`.\n",
      "Passing `trust_remote_code=True` will be mandatory to load this dataset from the next major release of `datasets`.\n",
      "  warnings.warn(\n"
     ]
    },
    {
     "name": "stdout",
     "output_type": "stream",
     "text": [
      "CPU times: user 3.38 s, sys: 506 ms, total: 3.89 s\n",
      "Wall time: 6.23 s\n"
     ]
    },
    {
     "data": {
      "text/plain": [
       "{'input_ids': torch.Size([128, 256]),\n",
       " 'token_type_ids': torch.Size([128, 256]),\n",
       " 'attention_mask': torch.Size([128, 256]),\n",
       " 'labels': torch.Size([128, 256])}"
      ]
     },
     "execution_count": 14,
     "metadata": {},
     "output_type": "execute_result"
    }
   ],
   "source": [
    "%%time\n",
    "\n",
    "batch_size = 128\n",
    "masking_probability = .15\n",
    "max_length = 256\n",
    "shuffle = True\n",
    "# cache_dir = PATH/Path('MyDrive/data')\n",
    "cache_dir='~/data1-0756727/cache/huggingface'\n",
    "\n",
    "from datasets import load_dataset\n",
    "from transformers import DataCollatorForLanguageModeling\n",
    "\n",
    "def load(tokenizer, masking_probability=0.15, cache_dir=None, max_length=512):\n",
    "  dataset = load_dataset(\"wikipedia\", \"20220301.en\", cache_dir=cache_dir)\n",
    "  # dataset = load_dataset(\"bookcorpus\", cache_dir=cache_dir)\n",
    "\n",
    "  collator = DataCollatorForLanguageModeling(tokenizer, mlm=True, mlm_probability=masking_probability)\n",
    "\n",
    "  def transform(batch):\n",
    "    tokenized = tokenizer(batch['text'], return_tensors='pt', padding=True, add_special_tokens=False, truncation=True, max_length=max_length)\n",
    "    # print(tokenized\n",
    "    input_ids, labels = collator.torch_mask_tokens(tokenized['input_ids'])\n",
    "\n",
    "    return tokenized | {\n",
    "      'input_ids': input_ids,\n",
    "      'labels': labels\n",
    "    }\n",
    "\n",
    "  dataset.set_transform(transform)\n",
    "\n",
    "  return dataset\n",
    "\n",
    "class Trainloader:\n",
    "  def __init__(self, dataset, batch_size):\n",
    "    self.data = dataset\n",
    "    self.batch_size = batch_size\n",
    "\n",
    "  def __len__(self):\n",
    "    return len(self.data) // batch_size + 1\n",
    "\n",
    "  def __iter__(self):\n",
    "    current_start = 0\n",
    "    for i in range(self.__len__()):\n",
    "      yield self.data[current_start:current_start+self.batch_size]\n",
    "      current_start += self.batch_size\n",
    "\n",
    "# import importlib\n",
    "# load_corpus = importlib.reload(load_corpus)\n",
    "\n",
    "# dataset = load_corpus.Load_bookcorpus(tokenizer, batch_size=batch_size, shuffle=shuffle, cache_dir='~/data1-0756727/cache/huggingface')\n",
    "# dataset = load_corpus.load_msmarco(tokenizer, batch_size=batch_size, shuffle=shuffle, cache_dir='~/data1-0756727/cache/huggingface')\n",
    "# dataset = load_corpus.Load_wiki(tokenizer, batch_size=batch_size, shuffle=shuffle, cache_dir='~/data1-0756727/cache/huggingface')\n",
    "\n",
    "# dataset.transformer(masking_probability=masking_probability)\n",
    "# print(dataset.dataset['train'][:2])\n",
    "\n",
    "dataset = load(tokenizer, masking_probability=masking_probability, cache_dir=cache_dir, max_length=max_length)\n",
    "\n",
    "train_loader = Trainloader(dataset['train'].shuffle() if shuffle else dataset['train'], batch_size)\n",
    "n = next(iter(train_loader))\n",
    "# print(tokenizer.decode(n['data']))\n",
    "{key: n[key].shape for key in n}"
   ]
  },
  {
   "cell_type": "code",
   "execution_count": 15,
   "metadata": {
    "id": "XdbWKxEpLc6Y"
   },
   "outputs": [],
   "source": [
    "import numpy as np\n",
    "\n",
    "class Sampled_softmax_cross_entropy(nn.Module):\n",
    "  \"\"\"https://douglasorr.github.io/2021-10-training-objectives/3-sampled/article.html\"\"\"\n",
    "\n",
    "  def __init__(self, model, num_sampling=100):\n",
    "    super().__init__()\n",
    "    self.num_sampling = num_sampling\n",
    "    self.model = model\n",
    "\n",
    "  def forward(self, predictions, labels):\n",
    "    \"\"\"\n",
    "    preds: shape [batch_size, dim]\n",
    "    labels: shape [batch_size, dim]\n",
    "    \"\"\"\n",
    "    # batch_sizes = predictions.shape[:-1]\n",
    "\n",
    "    # model = ...  # returns (batch_size x embedding_size)\n",
    "    projection = self.model.word_embeddings()  # shape (n_classes x embedding_size)\n",
    "    n_classes = projection.shape[0]\n",
    "\n",
    "    # 2. Get target label scores, paired_inner_product(pred_emb, label_emb)\n",
    "    label_scores = (predictions * projection[labels, :]).sum(-1) + self.model.bias[labels]\n",
    "\n",
    "    # 3. Sample shared noise & get scores\n",
    "    samples = torch.randint(high=n_classes, size=[self.num_sampling]).to(labels.device)\n",
    "    noise_scores = predictions @ projection[samples, :].T + self.model.bias[None, samples]\n",
    "    noise_scores += np.log(n_classes - 1)\n",
    "\n",
    "    # 4. Reject samples matching target label & correct for remaining samples\n",
    "    reject_samples = (labels[..., None] == samples[None, :]) & (labels[..., None] != -100)  #後面是 collator 會把非預測目標填為 -100\n",
    "    noise_scores -= 1e6 * reject_samples\n",
    "    noise_scores -= torch.log((self.num_sampling - reject_samples.sum(-1, keepdims=True)).float())\n",
    "\n",
    "    # 5. Apply regular softmax cross entropy\n",
    "    scores = torch.cat([label_scores[..., None], noise_scores], dim=-1)\n",
    "    pseudo_label = torch.masked_fill(labels.clone(), labels != -100, 0).view(-1)\n",
    "    loss = torch.nn.functional.cross_entropy(scores.view(-1, scores.shape[-1]), pseudo_label)\n",
    "\n",
    "    return loss"
   ]
  },
  {
   "cell_type": "code",
   "execution_count": 16,
   "metadata": {
    "colab": {
     "base_uri": "https://localhost:8080/"
    },
    "id": "Z-Qdn-ZJS_3E",
    "outputId": "b7bbb8bc-1ed6-4b06-a99f-dc6ebbeeb7c6"
   },
   "outputs": [
    {
     "data": {
      "text/plain": [
       "AdamW (\n",
       "Parameter Group 0\n",
       "    amsgrad: False\n",
       "    betas: (0.9, 0.999)\n",
       "    capturable: False\n",
       "    differentiable: False\n",
       "    eps: 1e-05\n",
       "    foreach: None\n",
       "    fused: None\n",
       "    initial_lr: 2e-05\n",
       "    lr: 2e-05\n",
       "    maximize: False\n",
       "    weight_decay: 0.01\n",
       ")"
      ]
     },
     "execution_count": 16,
     "metadata": {},
     "output_type": "execute_result"
    }
   ],
   "source": [
    "learning_rate = 0.01 # for cross entropy\n",
    "learning_rate = 2e-5 # for fine tuning\n",
    "\n",
    "model_params = {\n",
    "  'depth': 8,\n",
    "  'num_heads': 8,\n",
    "  'dim': 512,\n",
    "  # 'hidden_dim': 32,\n",
    "  # 'embedding_initialize_method': 'rand',\n",
    "  # 'attention_type': Absolute_global_attention,\n",
    "  # 'time_dim': 64,\n",
    "}\n",
    "loss_params = {\n",
    "  'sampling_word_size': 100,\n",
    "}\n",
    "\n",
    "# Abs_bert = importlib.reload(Abs_bert)\n",
    "# l = importlib.reload(l)\n",
    "\n",
    "# model = RNN_base(rotator.Rotator(tokenizer.vocab_size, **model_params), weight_tying=False).to(device)\n",
    "# using_loss = l.Complex_mse()\n",
    "# using_loss = l.Complex_triplet_loss(model)\n",
    "# using_loss = l.Complex_mse_triplet_loss(model)\n",
    "# using_loss = l.Complex_mse_squared_triplet_loss(model)\n",
    "# using_loss = l.Mse_multiplet_loss(model.model, **loss_params)\n",
    "# using_loss = l.Cos_multiplet_loss(model.model, **loss_params)\n",
    "\n",
    "model = Abs_bert.Absolute_bert_for_masked_LM(tokenizer.vocab_size, **model_params).to(device)\n",
    "# using_loss = l.Sampled_softmax_cross_entropy(model, num_sampling=loss_params['sampling_word_size'])\n",
    "using_loss = Sampled_softmax_cross_entropy(model, num_sampling=loss_params['sampling_word_size'])\n",
    "\n",
    "# model = RNN_base(rotator.Rotator(tokenizer.vocab_size, **model_params)).to(device)\n",
    "# using_loss = nn.CrossEntropyLoss()\n",
    "# using_loss = l.Cross_entropy_l2_embedding(model.model, min_squared_norm=model.model.dim)\n",
    "# using_loss = l.Cross_entropy_l2_embedding(model.model, l2_squared_weight=1e-3)\n",
    "\n",
    "# subpath = '20240624.12:08:14' # 4 ssm_ce_with_bias\n",
    "# batch_num = 25000\n",
    "# model = torch.load(PATH/folder_path/subpath/f'batch_{batch_num}-model.pt', map_location=device)\n",
    "\n",
    "# optimizer = torch.optim.Adam(model.parameters(), lr=learning_rate)\n",
    "optimizer = torch.optim.AdamW(model.parameters(), lr=learning_rate, eps=1e-5)\n",
    "scheduler = lr_scheduler.LinearLR(optimizer, total_iters=10, start_factor=1)\n",
    "# scheduler = lr_scheduler.CosineAnnealingWarmRestarts(optimizer, )\n",
    "optimizer\n"
   ]
  },
  {
   "cell_type": "code",
   "execution_count": 11,
   "metadata": {
    "colab": {
     "base_uri": "https://localhost:8080/",
     "height": 35
    },
    "id": "Gly8rUcRTCqK",
    "outputId": "6a00a948-7b40-4361-8d70-0db1e609b0f7"
   },
   "outputs": [
    {
     "data": {
      "text/plain": [
       "'20240711.03:00:33'"
      ]
     },
     "execution_count": 11,
     "metadata": {},
     "output_type": "execute_result"
    }
   ],
   "source": [
    "time_string = datetime.datetime.now(tz=datetime.timezone(datetime.timedelta(hours=8))).strftime('%Y%m%d.%H:%M:%S')\n",
    "subfolder_path = Path(time_string)\n",
    "\n",
    "os.makedirs(PATH/folder_path/subfolder_path, exist_ok=True)\n",
    "\n",
    "with open(PATH/folder_path/subfolder_path/f'parameters.json', 'w') as f:\n",
    "  f.write(json.dumps({\n",
    "    'tokenizer_type': tokenizer_type,\n",
    "    'model': str(model),\n",
    "    'model_params': str(model_params),\n",
    "    'learning_rate': learning_rate,\n",
    "    'batch_size': batch_size,\n",
    "    'masking_probability': masking_probability,\n",
    "    'shuffle': shuffle,\n",
    "    'loss_type': str(using_loss),\n",
    "    'loss_params': loss_params,\n",
    "  }))\n",
    "time_string"
   ]
  },
  {
   "cell_type": "code",
   "execution_count": 17,
   "metadata": {},
   "outputs": [],
   "source": [
    "from torch.utils.tensorboard import SummaryWriter\n",
    "\n",
    "# Writer will output to ./runs/ directory by default\n",
    "writer = SummaryWriter(log_dir=PATH/folder_path/subfolder_path/'tensorboard')"
   ]
  },
  {
   "cell_type": "code",
   "execution_count": null,
   "metadata": {
    "colab": {
     "base_uri": "https://localhost:8080/"
    },
    "id": "oooHFMrpTEek",
    "outputId": "88eaace3-eeaf-4ce8-e1db-657ba049bd09"
   },
   "outputs": [
    {
     "name": "stdout",
     "output_type": "stream",
     "text": [
      "20240711.03:00:33\n"
     ]
    },
    {
     "name": "stderr",
     "output_type": "stream",
     "text": [
      "  5%|▍         | 2332/50459 [14:02<5:23:23,  2.48it/s, loss=6.367382, final_loss=6.367382]  "
     ]
    }
   ],
   "source": [
    "num_epochs = 3\n",
    "save_every_n_batches = 5000\n",
    "clip_loss = 50\n",
    "\n",
    "multiloss = 0\n",
    "\n",
    "\n",
    "print(time_string)\n",
    "\n",
    "# os.makedirs(PATH/folder_path/subfolder_path, exist_ok=True)\n",
    "\n",
    "##############################################################################################################\n",
    "model.train() ################################################################################################\n",
    "# model.eval()\n",
    "##############################################################################################################\n",
    "\n",
    "global_step = 0\n",
    "\n",
    "loss_history = []\n",
    "for epoch_num, epoch in enumerate(range(num_epochs)):\n",
    "  bar = tqdm(train_loader)\n",
    "\n",
    "  for batch_num, batch in enumerate(bar):\n",
    "\n",
    "    optimizer.zero_grad()\n",
    "\n",
    "    batch = {key: batch[key].to(device) for key in batch}\n",
    "    predicts, targets = model(**batch)\n",
    "\n",
    "    # predicts = predicts @ model.word_embeddings().T + model.bias\n",
    "    # predicts = predicts.view(-1, tokenizer.vocab_size)\n",
    "    # targets = targets.view(-1)\n",
    "\n",
    "    if multiloss:\n",
    "      losses = using_loss(predicts, targets)\n",
    "      loss = sum(losses.values())\n",
    "    else:\n",
    "      loss = using_loss(predicts, targets)\n",
    "\n",
    "    if clip_loss is not None:\n",
    "      final_loss = torch.clip(loss, max=clip_loss)\n",
    "    else:\n",
    "      final_loss = loss\n",
    "\n",
    "    loss_dict = {\n",
    "      'loss': f\"{loss.item(): .6f}\",\n",
    "      'final_loss': f\"{final_loss.item(): .6f}\",\n",
    "    }\n",
    "\n",
    "    if global_step == 0:\n",
    "      writer.add_scalar('Loss/loss', loss, global_step)\n",
    "    \n",
    "    if multiloss:\n",
    "      loss_dict |= {key: f\"{losses[key].item(): .6f}\" for key in losses}\n",
    "\n",
    "    bar.set_postfix(loss_dict)\n",
    "\n",
    "    # with torch.autograd.detect_anomaly(True):\n",
    "      # loss.backward()\n",
    "      # torch.nn.utils.clip_grad_norm_(parameters=model.parameters(), max_norm=10, norm_type=2)\n",
    "\n",
    "    final_loss.backward()\n",
    "    optimizer.step()\n",
    "    global_step += 1\n",
    "    \n",
    "    if (batch_num % 100 == 0):\n",
    "      # torch.cuda.empty_cache()\n",
    "      loss_history.append([epoch_num, batch_num, loss_dict])\n",
    "      # print(f\"{datetime.datetime.now().strftime('%Y-%m-%d %H:%M:%S')}, batch {batch_num}\")\n",
    "\n",
    "    if (global_step % 100 == 0):\n",
    "      writer.add_scalar('Loss/loss', loss, global_step)\n",
    "\n",
    "    if (batch_num % 1000 == 999):\n",
    "      scheduler.step()\n",
    "\n",
    "    if (batch_num % save_every_n_batches == 0):\n",
    "      prefix = f\"epoch_{epoch_num}-batch_{batch_num}-\"\n",
    "      torch.save(model, PATH/folder_path/subfolder_path/(prefix + f'model.pt'))\n",
    "\n",
    "      with open(PATH/folder_path/subfolder_path/f'epoch_{epoch_num}-history.json', 'w') as f:\n",
    "        f.write(json.dumps(loss_history))\n",
    "\n",
    "      # torch.cuda.empty_cache()\n",
    "\n",
    "    if (batch_num in [500, 1000, 1500, 2000, 2500, 5000, 7500, 12500, 17500]):\n",
    "        prefix = f\"epoch_{epoch_num}-batch_{batch_num}-\"\n",
    "        torch.save(model, PATH/folder_path/subfolder_path/(prefix + 'model.pt'))\n",
    "\n",
    "        with open(PATH/folder_path/subfolder_path/f'epoch_{epoch_num}-history.json', 'w') as f:\n",
    "          f.write(json.dumps(loss_history))\n",
    "\n",
    "    # del batch, loss"
   ]
  },
  {
   "cell_type": "code",
   "execution_count": null,
   "metadata": {},
   "outputs": [],
   "source": []
  }
 ],
 "metadata": {
  "accelerator": "GPU",
  "colab": {
   "gpuType": "L4",
   "machine_shape": "hm",
   "provenance": []
  },
  "kernelspec": {
   "display_name": "Python 3 (ipykernel)",
   "language": "python",
   "name": "python3"
  },
  "language_info": {
   "codemirror_mode": {
    "name": "ipython",
    "version": 3
   },
   "file_extension": ".py",
   "mimetype": "text/x-python",
   "name": "python",
   "nbconvert_exporter": "python",
   "pygments_lexer": "ipython3",
   "version": "3.12.2"
  },
  "widgets": {
   "application/vnd.jupyter.widget-state+json": {
    "0731381b11d04e06bb0662d7759d48fd": {
     "model_module": "@jupyter-widgets/controls",
     "model_module_version": "1.5.0",
     "model_name": "HTMLModel",
     "state": {
      "_dom_classes": [],
      "_model_module": "@jupyter-widgets/controls",
      "_model_module_version": "1.5.0",
      "_model_name": "HTMLModel",
      "_view_count": null,
      "_view_module": "@jupyter-widgets/controls",
      "_view_module_version": "1.5.0",
      "_view_name": "HTMLView",
      "description": "",
      "description_tooltip": null,
      "layout": "IPY_MODEL_2c4fa4925b034334aa4ad357a417768c",
      "placeholder": "​",
      "style": "IPY_MODEL_ec60e65ca9d04ee09a6061bf6b8a8554",
      "value": " 41/41 [00:00&lt;00:00, 45.91it/s]"
     }
    },
    "0ad95c09ec7a49159e79926433686a2d": {
     "model_module": "@jupyter-widgets/base",
     "model_module_version": "1.2.0",
     "model_name": "LayoutModel",
     "state": {
      "_model_module": "@jupyter-widgets/base",
      "_model_module_version": "1.2.0",
      "_model_name": "LayoutModel",
      "_view_count": null,
      "_view_module": "@jupyter-widgets/base",
      "_view_module_version": "1.2.0",
      "_view_name": "LayoutView",
      "align_content": null,
      "align_items": null,
      "align_self": null,
      "border": null,
      "bottom": null,
      "display": null,
      "flex": null,
      "flex_flow": null,
      "grid_area": null,
      "grid_auto_columns": null,
      "grid_auto_flow": null,
      "grid_auto_rows": null,
      "grid_column": null,
      "grid_gap": null,
      "grid_row": null,
      "grid_template_areas": null,
      "grid_template_columns": null,
      "grid_template_rows": null,
      "height": null,
      "justify_content": null,
      "justify_items": null,
      "left": null,
      "margin": null,
      "max_height": null,
      "max_width": null,
      "min_height": null,
      "min_width": null,
      "object_fit": null,
      "object_position": null,
      "order": null,
      "overflow": null,
      "overflow_x": null,
      "overflow_y": null,
      "padding": null,
      "right": null,
      "top": null,
      "visibility": null,
      "width": null
     }
    },
    "23b9f3358e0b46ee893cea571ab585dc": {
     "model_module": "@jupyter-widgets/base",
     "model_module_version": "1.2.0",
     "model_name": "LayoutModel",
     "state": {
      "_model_module": "@jupyter-widgets/base",
      "_model_module_version": "1.2.0",
      "_model_name": "LayoutModel",
      "_view_count": null,
      "_view_module": "@jupyter-widgets/base",
      "_view_module_version": "1.2.0",
      "_view_name": "LayoutView",
      "align_content": null,
      "align_items": null,
      "align_self": null,
      "border": null,
      "bottom": null,
      "display": null,
      "flex": null,
      "flex_flow": null,
      "grid_area": null,
      "grid_auto_columns": null,
      "grid_auto_flow": null,
      "grid_auto_rows": null,
      "grid_column": null,
      "grid_gap": null,
      "grid_row": null,
      "grid_template_areas": null,
      "grid_template_columns": null,
      "grid_template_rows": null,
      "height": null,
      "justify_content": null,
      "justify_items": null,
      "left": null,
      "margin": null,
      "max_height": null,
      "max_width": null,
      "min_height": null,
      "min_width": null,
      "object_fit": null,
      "object_position": null,
      "order": null,
      "overflow": null,
      "overflow_x": null,
      "overflow_y": null,
      "padding": null,
      "right": null,
      "top": null,
      "visibility": null,
      "width": null
     }
    },
    "2459972537b94585af9ac6603e060570": {
     "model_module": "@jupyter-widgets/base",
     "model_module_version": "1.2.0",
     "model_name": "LayoutModel",
     "state": {
      "_model_module": "@jupyter-widgets/base",
      "_model_module_version": "1.2.0",
      "_model_name": "LayoutModel",
      "_view_count": null,
      "_view_module": "@jupyter-widgets/base",
      "_view_module_version": "1.2.0",
      "_view_name": "LayoutView",
      "align_content": null,
      "align_items": null,
      "align_self": null,
      "border": null,
      "bottom": null,
      "display": null,
      "flex": null,
      "flex_flow": null,
      "grid_area": null,
      "grid_auto_columns": null,
      "grid_auto_flow": null,
      "grid_auto_rows": null,
      "grid_column": null,
      "grid_gap": null,
      "grid_row": null,
      "grid_template_areas": null,
      "grid_template_columns": null,
      "grid_template_rows": null,
      "height": null,
      "justify_content": null,
      "justify_items": null,
      "left": null,
      "margin": null,
      "max_height": null,
      "max_width": null,
      "min_height": null,
      "min_width": null,
      "object_fit": null,
      "object_position": null,
      "order": null,
      "overflow": null,
      "overflow_x": null,
      "overflow_y": null,
      "padding": null,
      "right": null,
      "top": null,
      "visibility": null,
      "width": null
     }
    },
    "2c4fa4925b034334aa4ad357a417768c": {
     "model_module": "@jupyter-widgets/base",
     "model_module_version": "1.2.0",
     "model_name": "LayoutModel",
     "state": {
      "_model_module": "@jupyter-widgets/base",
      "_model_module_version": "1.2.0",
      "_model_name": "LayoutModel",
      "_view_count": null,
      "_view_module": "@jupyter-widgets/base",
      "_view_module_version": "1.2.0",
      "_view_name": "LayoutView",
      "align_content": null,
      "align_items": null,
      "align_self": null,
      "border": null,
      "bottom": null,
      "display": null,
      "flex": null,
      "flex_flow": null,
      "grid_area": null,
      "grid_auto_columns": null,
      "grid_auto_flow": null,
      "grid_auto_rows": null,
      "grid_column": null,
      "grid_gap": null,
      "grid_row": null,
      "grid_template_areas": null,
      "grid_template_columns": null,
      "grid_template_rows": null,
      "height": null,
      "justify_content": null,
      "justify_items": null,
      "left": null,
      "margin": null,
      "max_height": null,
      "max_width": null,
      "min_height": null,
      "min_width": null,
      "object_fit": null,
      "object_position": null,
      "order": null,
      "overflow": null,
      "overflow_x": null,
      "overflow_y": null,
      "padding": null,
      "right": null,
      "top": null,
      "visibility": null,
      "width": null
     }
    },
    "3beef72616574b1089d6d0914c98df99": {
     "model_module": "@jupyter-widgets/controls",
     "model_module_version": "1.5.0",
     "model_name": "ProgressStyleModel",
     "state": {
      "_model_module": "@jupyter-widgets/controls",
      "_model_module_version": "1.5.0",
      "_model_name": "ProgressStyleModel",
      "_view_count": null,
      "_view_module": "@jupyter-widgets/base",
      "_view_module_version": "1.2.0",
      "_view_name": "StyleView",
      "bar_color": null,
      "description_width": ""
     }
    },
    "7aa04beb95d14930a48e7f76c898ff45": {
     "model_module": "@jupyter-widgets/controls",
     "model_module_version": "1.5.0",
     "model_name": "DescriptionStyleModel",
     "state": {
      "_model_module": "@jupyter-widgets/controls",
      "_model_module_version": "1.5.0",
      "_model_name": "DescriptionStyleModel",
      "_view_count": null,
      "_view_module": "@jupyter-widgets/base",
      "_view_module_version": "1.2.0",
      "_view_name": "StyleView",
      "description_width": ""
     }
    },
    "a87b48a56fbd47c2a4f9dced3d8f79bc": {
     "model_module": "@jupyter-widgets/controls",
     "model_module_version": "1.5.0",
     "model_name": "FloatProgressModel",
     "state": {
      "_dom_classes": [],
      "_model_module": "@jupyter-widgets/controls",
      "_model_module_version": "1.5.0",
      "_model_name": "FloatProgressModel",
      "_view_count": null,
      "_view_module": "@jupyter-widgets/controls",
      "_view_module_version": "1.5.0",
      "_view_name": "ProgressView",
      "bar_style": "success",
      "description": "",
      "description_tooltip": null,
      "layout": "IPY_MODEL_23b9f3358e0b46ee893cea571ab585dc",
      "max": 41,
      "min": 0,
      "orientation": "horizontal",
      "style": "IPY_MODEL_3beef72616574b1089d6d0914c98df99",
      "value": 41
     }
    },
    "da358db5ba284536b14b9028d2439cec": {
     "model_module": "@jupyter-widgets/controls",
     "model_module_version": "1.5.0",
     "model_name": "HTMLModel",
     "state": {
      "_dom_classes": [],
      "_model_module": "@jupyter-widgets/controls",
      "_model_module_version": "1.5.0",
      "_model_name": "HTMLModel",
      "_view_count": null,
      "_view_module": "@jupyter-widgets/controls",
      "_view_module_version": "1.5.0",
      "_view_name": "HTMLView",
      "description": "",
      "description_tooltip": null,
      "layout": "IPY_MODEL_2459972537b94585af9ac6603e060570",
      "placeholder": "​",
      "style": "IPY_MODEL_7aa04beb95d14930a48e7f76c898ff45",
      "value": "Loading dataset shards: 100%"
     }
    },
    "ec60e65ca9d04ee09a6061bf6b8a8554": {
     "model_module": "@jupyter-widgets/controls",
     "model_module_version": "1.5.0",
     "model_name": "DescriptionStyleModel",
     "state": {
      "_model_module": "@jupyter-widgets/controls",
      "_model_module_version": "1.5.0",
      "_model_name": "DescriptionStyleModel",
      "_view_count": null,
      "_view_module": "@jupyter-widgets/base",
      "_view_module_version": "1.2.0",
      "_view_name": "StyleView",
      "description_width": ""
     }
    },
    "fff2d68968ba4e39bfc7cea47f842558": {
     "model_module": "@jupyter-widgets/controls",
     "model_module_version": "1.5.0",
     "model_name": "HBoxModel",
     "state": {
      "_dom_classes": [],
      "_model_module": "@jupyter-widgets/controls",
      "_model_module_version": "1.5.0",
      "_model_name": "HBoxModel",
      "_view_count": null,
      "_view_module": "@jupyter-widgets/controls",
      "_view_module_version": "1.5.0",
      "_view_name": "HBoxView",
      "box_style": "",
      "children": [
       "IPY_MODEL_da358db5ba284536b14b9028d2439cec",
       "IPY_MODEL_a87b48a56fbd47c2a4f9dced3d8f79bc",
       "IPY_MODEL_0731381b11d04e06bb0662d7759d48fd"
      ],
      "layout": "IPY_MODEL_0ad95c09ec7a49159e79926433686a2d"
     }
    }
   }
  }
 },
 "nbformat": 4,
 "nbformat_minor": 4
}

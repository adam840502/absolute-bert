{
 "cells": [
  {
   "cell_type": "code",
   "execution_count": 1,
   "metadata": {
    "colab": {
     "base_uri": "https://localhost:8080/"
    },
    "executionInfo": {
     "elapsed": 20327,
     "status": "ok",
     "timestamp": 1712972152246,
     "user": {
      "displayName": "溫子漢",
      "userId": "03827734041803749612"
     },
     "user_tz": -480
    },
    "id": "7qRPp5WdJF6K",
    "outputId": "a3fa7ee1-8df7-4eec-db1c-c966a9f6c823"
   },
   "outputs": [],
   "source": [
    "# !pip install datasets transformers"
   ]
  },
  {
   "cell_type": "code",
   "execution_count": 2,
   "metadata": {},
   "outputs": [],
   "source": [
    "import torch\n",
    "device = 'cuda:pick_a_device' if torch.cuda.is_available() else 'cpu'"
   ]
  },
  {
   "cell_type": "code",
   "execution_count": 3,
   "metadata": {
    "executionInfo": {
     "elapsed": 5,
     "status": "ok",
     "timestamp": 1712972152246,
     "user": {
      "displayName": "溫子漢",
      "userId": "03827734041803749612"
     },
     "user_tz": -480
    },
    "id": "th6oFB4JJXbg"
   },
   "outputs": [],
   "source": [
    "from collections import defaultdict\n",
    "import os\n",
    "import datetime\n",
    "from pathlib import Path\n",
    "import json\n",
    "from tqdm import tqdm\n",
    "\n",
    "from torch import nn\n",
    "from torch.utils.data import DataLoader\n",
    "import torch.optim.lr_scheduler as lr_scheduler\n",
    "\n",
    "# import datasets\n",
    "# from datasets import load_dataset\n",
    "from transformers import AutoTokenizer\n",
    "\n",
    "import utils.load_corpus as load_corpus\n",
    "import utils.losses as l\n",
    "\n",
    "import utils.RNN as RNN\n",
    "import model.pick_a_model as rotator\n",
    "\n",
    "import importlib"
   ]
  },
  {
   "cell_type": "code",
   "execution_count": null,
   "metadata": {},
   "outputs": [],
   "source": []
  },
  {
   "cell_type": "code",
   "execution_count": 4,
   "metadata": {
    "executionInfo": {
     "elapsed": 5,
     "status": "ok",
     "timestamp": 1712972152247,
     "user": {
      "displayName": "溫子漢",
      "userId": "03827734041803749612"
     },
     "user_tz": -480
    },
    "id": "HzjhZio7KkHu"
   },
   "outputs": [],
   "source": [
    "PATH = \"data\"\n",
    "folder_path = Path(f\"limanet\")\n",
    "os.makedirs(PATH/folder_path, exist_ok=True)"
   ]
  },
  {
   "cell_type": "code",
   "execution_count": 5,
   "metadata": {
    "colab": {
     "base_uri": "https://localhost:8080/"
    },
    "executionInfo": {
     "elapsed": 775,
     "status": "ok",
     "timestamp": 1712972153018,
     "user": {
      "displayName": "溫子漢",
      "userId": "03827734041803749612"
     },
     "user_tz": -480
    },
    "id": "ORJKy4IGa9Er",
    "outputId": "f8fe9709-4c29-410e-b62e-a9a12b380b46"
   },
   "outputs": [
    {
     "data": {
      "text/plain": [
       "tensor([[ 101, 1045, 2293, 4743, 1012,  102,    0,    0,    0],\n",
       "        [ 101, 7632, 1010, 1045, 1005, 1049, 3960, 1012,  102]])"
      ]
     },
     "execution_count": 5,
     "metadata": {},
     "output_type": "execute_result"
    }
   ],
   "source": [
    "tokenizer_type = 'bert-base-uncased'\n",
    "\n",
    "tokenizer = AutoTokenizer.from_pretrained(tokenizer_type)\n",
    "text = [\"I love bird.\", \"Hi, I'm Bob.\"]\n",
    "tokenized = tokenizer(text, return_tensors='pt', padding=True)\n",
    "tokenized['input_ids']"
   ]
  },
  {
   "cell_type": "code",
   "execution_count": 6,
   "metadata": {
    "colab": {
     "base_uri": "https://localhost:8080/"
    },
    "executionInfo": {
     "elapsed": 13,
     "status": "ok",
     "timestamp": 1712972170349,
     "user": {
      "displayName": "溫子漢",
      "userId": "03827734041803749612"
     },
     "user_tz": -480
    },
    "id": "PKq3J3zpmtsr",
    "jupyter": {
     "source_hidden": true
    },
    "outputId": "af55ae0f-ad29-4859-d3d5-0dd5bee53ac6"
   },
   "outputs": [],
   "source": [
    "# def transform(batch):\n",
    "#   tokenized = tokenizer(batch['text'], return_tensors='pt', padding=True, add_special_tokens=False)\n",
    "#   packed = torch.nn.utils.rnn.pack_padded_sequence(tokenized['input_ids'], tokenized['attention_mask'].sum(dim=1), enforce_sorted=False, batch_first=True)\n",
    "#   to_return = {\n",
    "#     'data': packed.data,\n",
    "#     'batch_sizes': packed.batch_sizes,\n",
    "#     'attention_mask': tokenized['attention_mask'],\n",
    "#     'sorted_indices': packed.sorted_indices,\n",
    "#     'unsorted_indices': packed.unsorted_indices\n",
    "#   }\n",
    "#   return to_return\n",
    "\n",
    "# dataset.set_transform(transform)\n",
    "\n",
    "# dataset['train'][:2]"
   ]
  },
  {
   "cell_type": "code",
   "execution_count": 7,
   "metadata": {
    "executionInfo": {
     "elapsed": 13,
     "status": "ok",
     "timestamp": 1712972170350,
     "user": {
      "displayName": "溫子漢",
      "userId": "03827734041803749612"
     },
     "user_tz": -480
    },
    "id": "OksOAPJwUgdk",
    "jupyter": {
     "source_hidden": true
    },
    "scrolled": true
   },
   "outputs": [],
   "source": [
    "# # test\n",
    "# rotator_depth = 3\n",
    "\n",
    "# import importlib\n",
    "# rotator = importlib.reload(rotator)\n",
    "# RNN = importlib.reload(RNN)\n",
    "\n",
    "# model = RNN.RNN(rotator.Rotator(tokenizer.vocab_size, depth=rotator_depth, dim=128, num_heads=32, hippo_dim=16, num_hippo_heads=8))#.to(device)\n",
    "# model.eval()\n",
    "# batch = dataset['train'][:3]\n",
    "\n",
    "# gen = model(**batch)\n",
    "# predicts, targets = [torch.concat(res) for res in zip(*gen)]\n",
    "# predicts.shape, targets.shape\n"
   ]
  },
  {
   "cell_type": "code",
   "execution_count": 8,
   "metadata": {},
   "outputs": [
    {
     "name": "stderr",
     "output_type": "stream",
     "text": [
      "/home/adam/miniconda3/envs/lima/lib/python3.12/site-packages/datasets/load.py:1461: FutureWarning: The repository for wikipedia contains custom code which must be executed to correctly load the dataset. You can inspect the repository content at https://hf.co/datasets/wikipedia\n",
      "You can avoid this message in future by passing the argument `trust_remote_code=True`.\n",
      "Passing `trust_remote_code=True` will be mandatory to load this dataset from the next major release of `datasets`.\n",
      "  warnings.warn(\n"
     ]
    },
    {
     "name": "stdout",
     "output_type": "stream",
     "text": [
      "{'data': tensor([9617, 1010, 1999,  ..., 2451, 1516, 2500]), 'batch_sizes': tensor([8, 8, 8, 8, 8, 8, 8, 8, 8, 8, 8, 8, 8, 8, 8, 8, 8, 8, 8, 8, 8, 8, 8, 8,\n",
      "        8, 8, 8, 8, 8, 8, 8, 8, 8, 8, 8, 8, 8, 8, 8, 8, 8, 8, 8, 8, 8, 8, 8, 8,\n",
      "        8, 8, 8, 8, 8, 8, 8, 8, 8, 8, 8, 8, 8, 8, 8, 8, 8, 8, 8, 8, 8, 8, 8, 8,\n",
      "        8, 8, 8, 8, 8, 8, 8, 8, 8, 8, 8, 8, 8, 8, 8, 8, 8, 8, 8, 8, 8, 8, 8, 8,\n",
      "        8, 8, 8, 8, 8, 8, 8, 8, 8, 8, 8, 8, 8, 8, 8, 8, 8, 8, 8, 8, 8, 8, 8, 8,\n",
      "        8, 8, 8, 8, 8, 8, 8, 8]), 'attention_mask': tensor([[1, 1, 1,  ..., 1, 1, 1],\n",
      "        [1, 1, 1,  ..., 1, 1, 1]]), 'sorted_indices': tensor([0, 1, 2, 3, 4, 5, 6, 7]), 'unsorted_indices': tensor([0, 1, 2, 3, 4, 5, 6, 7])}\n",
      "CPU times: user 4.03 s, sys: 4.55 s, total: 8.58 s\n",
      "Wall time: 5.57 s\n"
     ]
    },
    {
     "data": {
      "text/plain": [
       "{'data': torch.Size([38251]),\n",
       " 'batch_sizes': torch.Size([128]),\n",
       " 'attention_mask': torch.Size([128, 512]),\n",
       " 'sorted_indices': torch.Size([343]),\n",
       " 'unsorted_indices': torch.Size([343])}"
      ]
     },
     "execution_count": 8,
     "metadata": {},
     "output_type": "execute_result"
    }
   ],
   "source": [
    "%%time\n",
    "\n",
    "batch_size = 128\n",
    "shuffle = True\n",
    "\n",
    "import importlib\n",
    "load_corpus = importlib.reload(load_corpus)\n",
    "\n",
    "# dataset = load_corpus.load_bookcorpus(tokenizer, batch_size=batch_size, shuffle=shuffle, cache_dir='~/data1-0756727/cache/huggingface')\n",
    "# dataset = load_corpus.load_msmarco(tokenizer, batch_size=batch_size, shuffle=shuffle, cache_dir='~/data1-0756727/cache/huggingface')\n",
    "dataset = load_corpus.Load_wiki(tokenizer, batch_size=batch_size, shuffle=shuffle, cache_dir='~/data1-0756727/cache/huggingface')\n",
    "print(dataset.dataset['train'][:2])\n",
    "train_loader = dataset.loader()\n",
    "\n",
    "n = next(iter(train_loader))\n",
    "# print(tokenizer.decode(n['data']))\n",
    "{key: n[key].shape for key in n}"
   ]
  },
  {
   "cell_type": "code",
   "execution_count": 9,
   "metadata": {
    "colab": {
     "base_uri": "https://localhost:8080/"
    },
    "executionInfo": {
     "elapsed": 328,
     "status": "ok",
     "timestamp": 1712973346182,
     "user": {
      "displayName": "溫子漢",
      "userId": "03827734041803749612"
     },
     "user_tz": -480
    },
    "id": "5nDVcTzpiDP9",
    "outputId": "f0885cd6-f532-45b4-b27e-1083216dcde7",
    "scrolled": true
   },
   "outputs": [
    {
     "data": {
      "text/plain": [
       "AdamW (\n",
       "Parameter Group 0\n",
       "    amsgrad: False\n",
       "    betas: (0.9, 0.999)\n",
       "    capturable: False\n",
       "    differentiable: False\n",
       "    eps: 1e-08\n",
       "    foreach: None\n",
       "    fused: None\n",
       "    initial_lr: 0.001\n",
       "    lr: 1e-05\n",
       "    maximize: False\n",
       "    weight_decay: 0.01\n",
       ")"
      ]
     },
     "execution_count": 9,
     "metadata": {},
     "output_type": "execute_result"
    }
   ],
   "source": [
    "subpath = '20240624.12:08:14' # 4 ssm_ce_with_bias\n",
    "\n",
    "batch_num = 25000\n",
    "\n",
    "learning_rate = 0.01 # for cross entropy\n",
    "learning_rate = 0.001 # for fine tuning\n",
    "\n",
    "model_params = {\n",
    "  'rotator_depth': 3,\n",
    "  'num_heads': 32,\n",
    "  'dim': 128,\n",
    "  'hidden_dim': 32,\n",
    "  'rotary_denom': 0.5,\n",
    "  # 'embedding_initialize_method': 'rand'\n",
    "}\n",
    "loss_params = {\n",
    "  'sampling_word_size': 10,\n",
    "  'margin': 8, # for euclidean\n",
    "  # 'margin': .3, # for cosine\n",
    "}\n",
    "\n",
    "rotator = importlib.reload(rotator)\n",
    "l = importlib.reload(l)\n",
    "RNN = importlib.reload(RNN)\n",
    "\n",
    "RNN_base = RNN.RNN\n",
    "RNN_base = RNN.RNN_with_bias\n",
    "\n",
    "# model = RNN_base(rotator.Rotator(tokenizer.vocab_size, **model_params), weight_tying=False).to(device)\n",
    "# using_loss = l.Complex_mse()\n",
    "# using_loss = l.Complex_triplet_loss(model)\n",
    "# using_loss = l.Complex_mse_triplet_loss(model)\n",
    "# using_loss = l.Complex_mse_squared_triplet_loss(model)\n",
    "# using_loss = l.Mse_multiplet_loss(model.model, **loss_params)\n",
    "# using_loss = l.Cos_multiplet_loss(model.model, **loss_params)\n",
    "\n",
    "model = RNN_base(rotator.Rotator(tokenizer.vocab_size, **model_params), weight_tying=False, return_label_embeddings=False).to(device)\n",
    "using_loss = l.Sampled_softmax_cross_entropy(model)\n",
    "\n",
    "# model = RNN_base(rotator.Rotator(tokenizer.vocab_size, **model_params)).to(device)\n",
    "# using_loss = nn.CrossEntropyLoss()\n",
    "# using_loss = l.Cross_entropy_l2_embedding(model.model, min_squared_norm=model.model.dim)\n",
    "# using_loss = l.Cross_entropy_l2_embedding(model.model, l2_squared_weight=1e-3)\n",
    "\n",
    "model = torch.load(PATH/folder_path/subpath/f'batch_{batch_num}-model.pt', map_location=device)\n",
    "\n",
    "# optimizer = torch.optim.Adam(model.parameters(), lr=learning_rate)\n",
    "optimizer = torch.optim.AdamW(model.parameters(), lr=learning_rate)\n",
    "scheduler = lr_scheduler.LinearLR(optimizer, total_iters=10, start_factor=0.01)\n",
    "optimizer"
   ]
  },
  {
   "cell_type": "code",
   "execution_count": 10,
   "metadata": {},
   "outputs": [],
   "source": [
    "# # testing model output\n",
    "# batch = next(iter(train_loader))\n",
    "# batch = {key: batch[key].to(device) for key in batch}\n",
    "\n",
    "# gen = model(**batch)\n",
    "# predicts, targets = [torch.concat(res) for res in zip(*gen)]\n",
    "# losses = using_loss(predicts, targets)\n",
    "# loss = sum(losses.values())\n",
    "# loss_dict = {\n",
    "#   'total': f\"{loss.item(): .6f}\",\n",
    "#   **{key: f\"{losses[key].item(): .6f}\" for key in losses},\n",
    "# }\n",
    "\n",
    "# print(loss_dict)\n",
    "# # del batch, loss\n",
    "# # torch.cuda.empty_cache()"
   ]
  },
  {
   "cell_type": "code",
   "execution_count": 11,
   "metadata": {
    "executionInfo": {
     "elapsed": 299,
     "status": "ok",
     "timestamp": 1712973348182,
     "user": {
      "displayName": "溫子漢",
      "userId": "03827734041803749612"
     },
     "user_tz": -480
    },
    "id": "v5owcJeinrVP",
    "jupyter": {
     "source_hidden": true
    }
   },
   "outputs": [],
   "source": [
    "# def backward_hook(module, gin, gout):\n",
    "#   print(f\"{len(gin)=}, {len(gout)=}\")\n",
    "#   print(*[f\"{i=}, {gi.shape=}, {gi.mean()=}, {gi.min()=}, {gi.max()=}\" for i, gi in enumerate(gin)], sep='\\n')\n",
    "#   print(*[f\"{i=}, {go.shape=}, {go.mean()=}, {go.min()=}, {go.max()=}\" for i, go in enumerate(gout)], sep='\\n')\n",
    "\n",
    "# model.limas[0].register_backward_hook(backward_hook)"
   ]
  },
  {
   "cell_type": "code",
   "execution_count": 12,
   "metadata": {
    "executionInfo": {
     "elapsed": 20,
     "status": "ok",
     "timestamp": 1712972219114,
     "user": {
      "displayName": "溫子漢",
      "userId": "03827734041803749612"
     },
     "user_tz": -480
    },
    "id": "fjwk_J2biBnE"
   },
   "outputs": [
    {
     "data": {
      "text/plain": [
       "'20240626.09:08:18'"
      ]
     },
     "execution_count": 12,
     "metadata": {},
     "output_type": "execute_result"
    }
   ],
   "source": [
    "time_string = datetime.datetime.now(tz=datetime.timezone(datetime.timedelta(hours=8))).strftime('%Y%m%d.%H:%M:%S')\n",
    "subfolder_path = Path(time_string)\n",
    "\n",
    "os.makedirs(PATH/folder_path/subfolder_path, exist_ok=True)\n",
    "\n",
    "with open(PATH/folder_path/subfolder_path/f'parameters.json', 'w') as f:\n",
    "  f.write(json.dumps({\n",
    "    'tokenizer_type': tokenizer_type,\n",
    "    'model': str(model),\n",
    "    'model_params': model_params,\n",
    "    'learning_rate': learning_rate,\n",
    "    'batch_size': batch_size,\n",
    "    'shuffle': shuffle,\n",
    "    'loss_type': str(using_loss),\n",
    "    'loss_params': loss_params,\n",
    "  }))  \n",
    "time_string"
   ]
  },
  {
   "cell_type": "code",
   "execution_count": null,
   "metadata": {
    "colab": {
     "base_uri": "https://localhost:8080/"
    },
    "id": "YjU3iaLjiFsN",
    "outputId": "691fe7e1-4bb0-451a-c5ad-2e5a219c135e",
    "scrolled": true
   },
   "outputs": [
    {
     "name": "stderr",
     "output_type": "stream",
     "text": [
      "  5%|▍         | 2315/50459 [33:41<11:31:44,  1.16it/s, loss=10.851339]"
     ]
    }
   ],
   "source": [
    "num_epochs = 1\n",
    "save_every_n_batches = 5000\n",
    "\n",
    "multiloss = 1\n",
    "\n",
    "# os.makedirs(PATH/folder_path/subfolder_path, exist_ok=True)\n",
    "\n",
    "loss_history = []\n",
    "\n",
    "for epoch_num, epoch in enumerate(range(num_epochs)):\n",
    "  bar = tqdm(train_loader)\n",
    "\n",
    "  for batch_num, batch in enumerate(bar):\n",
    "\n",
    "    optimizer.zero_grad()\n",
    "    \n",
    "    batch = {key: batch[key].to(device) for key in batch}\n",
    "    gen = model(**batch)\n",
    "\n",
    "    if multiloss:\n",
    "      total_losses = defaultdict(lambda: torch.tensor([0], dtype=torch.float).to(device))\n",
    "    loss = 0\n",
    "    while True: \n",
    "      results = []\n",
    "      try:\n",
    "        for _ in range(100):\n",
    "          results.append(next(gen))\n",
    "        predicts, targets = [torch.concat(pred_or_targ) for pred_or_targ in zip(*results)]\n",
    "        \n",
    "        if multiloss:\n",
    "          losses = using_loss(predicts, targets)\n",
    "          for loss_name, value in losses.items():\n",
    "            total_losses[loss_name] += value\n",
    "        else:\n",
    "          loss += using_loss(predicts, targets)\n",
    "          \n",
    "      except StopIteration:\n",
    "        if len(results) > 0:\n",
    "          predicts, targets = [torch.concat(pred_or_targ) for pred_or_targ in zip(*results)]\n",
    "          \n",
    "          if multiloss:\n",
    "            losses = using_loss(predicts, targets)\n",
    "            for loss_name, value in losses.items():\n",
    "              total_losses[loss_name] += value\n",
    "          else:\n",
    "            loss += using_loss(predicts, targets)\n",
    "        break\n",
    "\n",
    "    if multiloss:\n",
    "      loss = sum(total_losses.values())\n",
    "    loss_dict = {\n",
    "      'loss': f\"{loss.item(): .6f}\",\n",
    "    }\n",
    "    if multiloss:\n",
    "      loss_dict |= {key: f\"{losses[key].item(): .6f}\" for key in losses}\n",
    "      \n",
    "    bar.set_postfix(loss_dict)\n",
    "\n",
    "    # with torch.autograd.detect_anomaly(True):\n",
    "      # loss.backward()\n",
    "      # torch.nn.utils.clip_grad_norm_(parameters=model.parameters(), max_norm=10, norm_type=2)\n",
    "    loss.backward()\n",
    "    # break \n",
    "    optimizer.step()\n",
    "\n",
    "    if (batch_num % 100 == 0):\n",
    "      # torch.cuda.empty_cache()\n",
    "      loss_history.append([epoch_num, batch_num, loss_dict])\n",
    "      # print(f\"{datetime.datetime.now().strftime('%Y-%m-%d %H:%M:%S')}, batch {batch_num}\")\n",
    "\n",
    "    if (batch_num % 1000 == 999):\n",
    "      scheduler.step()\n",
    "\n",
    "    if (batch_num % save_every_n_batches == 0):\n",
    "      prefix = f\"batch_{batch_num}-\"\n",
    "      torch.save(model, PATH/folder_path/subfolder_path/(prefix + f'model.pt'))\n",
    "        \n",
    "      with open(PATH/folder_path/subfolder_path/'history.json', 'w') as f:\n",
    "        f.write(json.dumps(loss_history))  \n",
    "\n",
    "      # torch.cuda.empty_cache()\n",
    "\n",
    "    if (batch_num in [100, 500, 1000, 1500, 2000, 3000, 7500, 12500, 17500, 22500]):\n",
    "        prefix = f\"batch_{batch_num}-\"\n",
    "        torch.save(model, PATH/folder_path/subfolder_path/(prefix + 'model.pt'))\n",
    "        \n",
    "        with open(PATH/folder_path/subfolder_path/'history.json', 'w') as f:\n",
    "          f.write(json.dumps(loss_history))  \n",
    "\n",
    "    # del batch, loss"
   ]
  },
  {
   "cell_type": "code",
   "execution_count": null,
   "metadata": {},
   "outputs": [],
   "source": [
    "inputs = tokenizer('I love you.', return_tensors='pt', add_special_tokens=False)\n",
    "histories = [his.expand(4, *[-1]*(len(his.shape)-1)) for his in model.model.initial_states()['h']]\n",
    "output, next_histories = model.model.forward(inputs['input_ids'][0].to(device), histories)"
   ]
  },
  {
   "cell_type": "code",
   "execution_count": null,
   "metadata": {},
   "outputs": [],
   "source": [
    "output"
   ]
  },
  {
   "cell_type": "code",
   "execution_count": null,
   "metadata": {},
   "outputs": [],
   "source": []
  }
 ],
 "metadata": {
  "accelerator": "GPU",
  "colab": {
   "authorship_tag": "ABX9TyOYhgT3ZRZ8Mnsn8jR0fZTM",
   "gpuType": "T4",
   "provenance": []
  },
  "kernelspec": {
   "display_name": "Python 3 (ipykernel)",
   "language": "python",
   "name": "python3"
  },
  "language_info": {
   "codemirror_mode": {
    "name": "ipython",
    "version": 3
   },
   "file_extension": ".py",
   "mimetype": "text/x-python",
   "name": "python",
   "nbconvert_exporter": "python",
   "pygments_lexer": "ipython3",
   "version": "3.12.2"
  }
 },
 "nbformat": 4,
 "nbformat_minor": 4
}

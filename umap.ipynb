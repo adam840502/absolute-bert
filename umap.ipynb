{
 "cells": [
  {
   "cell_type": "code",
   "execution_count": 1,
   "id": "1bebfa19-defc-4f00-8d37-e041e91ffcae",
   "metadata": {},
   "outputs": [],
   "source": [
    "# !pip install umap-learn"
   ]
  },
  {
   "cell_type": "code",
   "execution_count": 2,
   "id": "d71edd69-23d5-4ab7-bf27-65786a582c4d",
   "metadata": {},
   "outputs": [],
   "source": [
    "import pathlib\n",
    "import numpy as np\n",
    "\n",
    "import matplotlib.pyplot as plt\n",
    "\n",
    "import torch\n",
    "from torch import nn\n",
    "\n",
    "import datasets\n",
    "from transformers import AutoTokenizer\n",
    "\n",
    "import umap"
   ]
  },
  {
   "cell_type": "code",
   "execution_count": 3,
   "id": "5dc22917-4ec5-41cb-b7f8-6c020402dab7",
   "metadata": {},
   "outputs": [],
   "source": [
    "# import model.rotator_lima3 as rotator\n",
    "# subpath = '20240422.11:52:35-batch_size_1024'\n",
    "\n",
    "# import model.rotator_multihead_local_coordinate as rotator\n",
    "# subpath = '20240422.02:23:48-batch_size_1024'\n",
    "# batch_num = 10000\n",
    "\n",
    "import model.rotator_multireslima_rotating_history as rotator\n",
    "subpath = '20240422.02:12:51-batch_size_1024'\n",
    "subpath = '20240424.00:15:13-batch_size_1024' #rotator_lima3, triplet loss\n",
    "subpath = '20240429.22:56:02-batch_size_512' # rotator_lima4_hippo, mse+multiplet, dim128, hdim32, head32, dep3\n",
    "\n",
    "batch_num = 25000"
   ]
  },
  {
   "cell_type": "code",
   "execution_count": null,
   "id": "84bf0607-be6c-413a-9928-7ee6265c89b6",
   "metadata": {},
   "outputs": [],
   "source": [
    "folder_path = pathlib.Path('data/limanet/')\n",
    "\n",
    "model = torch.load(folder_path/subpath/f'batch_{batch_num}-model.pt').cpu()"
   ]
  },
  {
   "cell_type": "code",
   "execution_count": null,
   "id": "434130d1-f44c-4ed0-b8cd-11e00f06b728",
   "metadata": {},
   "outputs": [],
   "source": []
  },
  {
   "cell_type": "code",
   "execution_count": null,
   "id": "8b0dbde8-7b56-4d84-b57d-d080625f55e3",
   "metadata": {},
   "outputs": [],
   "source": []
  },
  {
   "cell_type": "code",
   "execution_count": null,
   "id": "1887a8f2-de22-4b4d-aad2-7aed84221ca0",
   "metadata": {},
   "outputs": [],
   "source": [
    "%time\n",
    "def get_projection(representations, n_neighbors=10, methods=['euclidean', 'cosine'], n_jobs=16):\n",
    "    transed_repr = {}\n",
    "    for method in methods:\n",
    "        reducer = umap.UMAP(n_neighbors=n_neighbors, metric=method, n_jobs=n_jobs)\n",
    "        transed_repr[method] = reducer.fit_transform(representations)\n",
    "    return transed_repr\n",
    "\n",
    "complex_word_repr = model.predictor.all_word_embeddings()\n",
    "word_repr = torch.concat([complex_word_repr.real, complex_word_repr.imag], dim=-1)\n",
    "\n",
    "transed_word = get_projection(word_repr.detach().numpy())\n",
    "transed_angle = get_projection(model.angle_embedding.weight.detach().numpy())\n",
    "\n",
    "del model"
   ]
  },
  {
   "cell_type": "code",
   "execution_count": null,
   "id": "7cb7bfbc-3579-46de-ba40-7c22b188b20f",
   "metadata": {},
   "outputs": [],
   "source": [
    "dataset = datasets.load_dataset('bookcorpus')['train']\n",
    "dataset[:3]"
   ]
  },
  {
   "cell_type": "code",
   "execution_count": null,
   "id": "3e29b6d6-9e94-44f9-a5be-16cb620dde66",
   "metadata": {},
   "outputs": [],
   "source": [
    "tokenizer = AutoTokenizer.from_pretrained('bert-base-uncased')"
   ]
  },
  {
   "cell_type": "code",
   "execution_count": null,
   "id": "699ae094-659e-477b-b967-cac373e67c38",
   "metadata": {},
   "outputs": [],
   "source": []
  },
  {
   "cell_type": "code",
   "execution_count": null,
   "id": "1924c002-1488-4ee6-b179-c18db380f7df",
   "metadata": {},
   "outputs": [],
   "source": [
    "sampling_position = np.random.randint(0, len(dataset))\n",
    "\n",
    "\n",
    "samples = dataset[sampling_position:sampling_position+5]['text']\n",
    "sequences = tokenizer(samples, add_special_tokens=False)['input_ids']\n",
    "\n",
    "representations = {\n",
    "    'word_vector': transed_word,\n",
    "    'word_angle': transed_angle\n",
    "}\n",
    "methods = ['euclidean', 'cosine']\n",
    "\n",
    "fig, axes = plt.subplots(len(methods), len(representations), figsize=[12*len(methods),12*len(representations)])\n",
    "\n",
    "for i, repr_name in enumerate(representations):\n",
    "    for j, method in enumerate(methods):\n",
    "        ax = axes[i, j]\n",
    "        representation = representations[repr_name]\n",
    "        ax.set_title(f'{repr_name}, {method}')\n",
    "        \n",
    "        ax.scatter(*representation[method].T, marker='.', edgecolors='none', alpha=.1)\n",
    "        \n",
    "        for seq in sequences:\n",
    "            positions = representation[method][seq]\n",
    "            ax.plot(*positions.T, alpha=.2)\n",
    "            ax.scatter(*positions.T, marker='x')\n",
    "            \n",
    "            tokens = tokenizer.convert_ids_to_tokens(seq)\n",
    "            \n",
    "            for token, pos in zip(tokens, positions):\n",
    "                # print(token, pos)\n",
    "                ax.annotate(token, pos)"
   ]
  },
  {
   "cell_type": "code",
   "execution_count": null,
   "id": "a3c7dd4e-d75d-4082-a2c8-f7db1999101c",
   "metadata": {},
   "outputs": [],
   "source": [
    "fig.savefig('umap.png')"
   ]
  }
 ],
 "metadata": {
  "kernelspec": {
   "display_name": "Python 3 (ipykernel)",
   "language": "python",
   "name": "python3"
  },
  "language_info": {
   "codemirror_mode": {
    "name": "ipython",
    "version": 3
   },
   "file_extension": ".py",
   "mimetype": "text/x-python",
   "name": "python",
   "nbconvert_exporter": "python",
   "pygments_lexer": "ipython3",
   "version": "3.12.2"
  }
 },
 "nbformat": 4,
 "nbformat_minor": 5
}

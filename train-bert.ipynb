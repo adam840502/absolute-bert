{
 "cells": [
  {
   "cell_type": "code",
   "execution_count": 1,
   "metadata": {
    "colab": {
     "base_uri": "https://localhost:8080/"
    },
    "id": "QsHwepRgHs6m",
    "outputId": "0de98f63-a252-46d6-aef6-ed51bbb25c48"
   },
   "outputs": [],
   "source": [
    "# import os\n",
    "# from pathlib import Path\n",
    "# from google.colab import drive\n",
    "\n",
    "# PATH = \"/content/drive\"\n",
    "# drive.mount(PATH)\n",
    "\n",
    "# folder_path = Path('MyDrive/models/abs_bert')"
   ]
  },
  {
   "cell_type": "code",
   "execution_count": 2,
   "metadata": {
    "id": "BE8QpGXCO9iz"
   },
   "outputs": [],
   "source": [
    "# !pip install --quiet transformers datasets\n",
    "# !pip install --quiet tensorboard\n",
    "# tensorboard --logdir=runs"
   ]
  },
  {
   "cell_type": "code",
   "execution_count": 3,
   "metadata": {
    "colab": {
     "base_uri": "https://localhost:8080/"
    },
    "id": "jCos9wWPHmS3",
    "outputId": "6f563cf5-0189-43f6-c544-d5a30527ba09"
   },
   "outputs": [
    {
     "data": {
      "text/plain": [
       "False"
      ]
     },
     "execution_count": 3,
     "metadata": {},
     "output_type": "execute_result"
    }
   ],
   "source": [
    "import torch\n",
    "device = 'cuda:5' if torch.cuda.is_available() else 'cpu'\n",
    "torch.cuda.is_available()"
   ]
  },
  {
   "cell_type": "code",
   "execution_count": null,
   "metadata": {},
   "outputs": [],
   "source": []
  },
  {
   "cell_type": "code",
   "execution_count": 4,
   "metadata": {
    "id": "dGlSE7acnjve"
   },
   "outputs": [
    {
     "name": "stderr",
     "output_type": "stream",
     "text": [
      "C:\\Python312\\Lib\\site-packages\\tqdm\\auto.py:21: TqdmWarning: IProgress not found. Please update jupyter and ipywidgets. See https://ipywidgets.readthedocs.io/en/stable/user_install.html\n",
      "  from .autonotebook import tqdm as notebook_tqdm\n"
     ]
    }
   ],
   "source": [
    "from collections import defaultdict\n",
    "import os\n",
    "import datetime\n",
    "from pathlib import Path\n",
    "import json\n",
    "from tqdm import tqdm\n",
    "\n",
    "from torch import nn\n",
    "from torch.utils.data import DataLoader\n",
    "import torch.optim.lr_scheduler as lr_scheduler\n",
    "\n",
    "# from datasets import load_dataset\n",
    "from transformers import AutoTokenizer\n",
    "from transformers import BertConfig, BertForMaskedLM\n",
    "\n",
    "import importlib"
   ]
  },
  {
   "cell_type": "code",
   "execution_count": 5,
   "metadata": {},
   "outputs": [],
   "source": [
    "from utils import load_corpus"
   ]
  },
  {
   "cell_type": "code",
   "execution_count": 6,
   "metadata": {
    "colab": {
     "base_uri": "https://localhost:8080/"
    },
    "id": "FjMKJ7VtH1sy",
    "outputId": "96f59f21-da0b-4bd6-cde1-88c26a483b72"
   },
   "outputs": [],
   "source": [
    "# colab\n",
    "# folder_path = Path(folder_path)\n",
    "# os.makedirs(PATH/folder_path, exist_ok=True)\n",
    "\n",
    "# 59\n",
    "PATH = \"data\"\n",
    "folder_path = Path(f\"abs_bert\")\n",
    "os.makedirs(PATH/folder_path, exist_ok=True)"
   ]
  },
  {
   "cell_type": "code",
   "execution_count": 7,
   "metadata": {
    "colab": {
     "base_uri": "https://localhost:8080/"
    },
    "id": "FjMKJ7VtH1sy",
    "outputId": "96f59f21-da0b-4bd6-cde1-88c26a483b72"
   },
   "outputs": [
    {
     "data": {
      "text/plain": [
       "tensor([[ 101, 1045, 2293, 4743, 1012,  102,    0,    0,    0],\n",
       "        [ 101, 7632, 1010, 1045, 1005, 1049, 3960, 1012,  102]])"
      ]
     },
     "execution_count": 7,
     "metadata": {},
     "output_type": "execute_result"
    }
   ],
   "source": [
    "tokenizer_type = 'bert-base-uncased'\n",
    "\n",
    "tokenizer = AutoTokenizer.from_pretrained(tokenizer_type)\n",
    "text = [\"I love bird.\", \"Hi, I'm Bob.\"]\n",
    "tokenized = tokenizer(text, return_tensors='pt', padding=True)\n",
    "tokenized['input_ids']"
   ]
  },
  {
   "cell_type": "code",
   "execution_count": 13,
   "metadata": {
    "colab": {
     "base_uri": "https://localhost:8080/",
     "height": 153,
     "referenced_widgets": [
      "fff2d68968ba4e39bfc7cea47f842558",
      "da358db5ba284536b14b9028d2439cec",
      "a87b48a56fbd47c2a4f9dced3d8f79bc",
      "0731381b11d04e06bb0662d7759d48fd",
      "0ad95c09ec7a49159e79926433686a2d",
      "2459972537b94585af9ac6603e060570",
      "7aa04beb95d14930a48e7f76c898ff45",
      "23b9f3358e0b46ee893cea571ab585dc",
      "3beef72616574b1089d6d0914c98df99",
      "2c4fa4925b034334aa4ad357a417768c",
      "ec60e65ca9d04ee09a6061bf6b8a8554"
     ]
    },
    "id": "OR2HYk5eH30w",
    "outputId": "65c9bb5c-c469-4d31-f4d0-dc6dd37c7d81"
   },
   "outputs": [
    {
     "name": "stdout",
     "output_type": "stream",
     "text": [
      "CPU times: total: 2.8 s\n",
      "Wall time: 3.27 s\n"
     ]
    },
    {
     "data": {
      "text/plain": [
       "{'input_ids': torch.Size([48, 256]),\n",
       " 'token_type_ids': torch.Size([48, 256]),\n",
       " 'attention_mask': torch.Size([48, 256]),\n",
       " 'labels': torch.Size([48, 256])}"
      ]
     },
     "execution_count": 13,
     "metadata": {},
     "output_type": "execute_result"
    }
   ],
   "source": [
    "%%time\n",
    "corpus_name = 'bookcorpus'\n",
    "# corpus_name = 'msmarco'\n",
    "# corpus_name = 'wiki'\n",
    "\n",
    "batch_size = 48\n",
    "masking_probability = .15\n",
    "max_length = 256\n",
    "num_chunks = 1\n",
    "shuffle = True\n",
    "# cache_dir = PATH/Path('MyDrive/data')\n",
    "cache_dir='~/data1-0756727/cache/huggingface'\n",
    "\n",
    "corpus = load_corpus.Corpus_for_transformer(corpus_name,\n",
    "                       tokenizer,\n",
    "                       cache_dir,\n",
    "                       batch_size=batch_size,\n",
    "                       max_length=max_length,\n",
    "                       num_chunks=num_chunks, \n",
    "                       shuffle=False)\n",
    "\n",
    "train_loader = corpus.loader()\n",
    "n = next(iter(train_loader))\n",
    "# print(tokenizer.decode(n['data']))\n",
    "{key: n[key].shape for key in n}"
   ]
  },
  {
   "cell_type": "code",
   "execution_count": 8,
   "metadata": {
    "id": "XdbWKxEpLc6Y"
   },
   "outputs": [],
   "source": [
    "import numpy as np\n",
    "\n",
    "class Sampled_softmax_cross_entropy(nn.Module):\n",
    "  \"\"\"https://douglasorr.github.io/2021-10-training-objectives/3-sampled/article.html\"\"\"\n",
    "\n",
    "  def __init__(self, model, num_sampling=100):\n",
    "    super().__init__()\n",
    "    self.num_sampling = num_sampling\n",
    "    self.model = model\n",
    "\n",
    "  def forward(self, predictions, labels):\n",
    "    \"\"\"\n",
    "    preds: shape [batch_size, dim]\n",
    "    labels: shape [batch_size, dim]\n",
    "    \"\"\"\n",
    "    # batch_sizes = predictions.shape[:-1]\n",
    "\n",
    "    # model = ...  # returns (batch_size x embedding_size)\n",
    "    projection = self.model.word_embeddings()  # shape (n_classes x embedding_size)\n",
    "    n_classes = projection.shape[0]\n",
    "\n",
    "    # 2. Get target label scores, paired_inner_product(pred_emb, label_emb)\n",
    "    label_scores = (predictions * projection[labels, :]).sum(-1) + self.model.bias[labels]\n",
    "\n",
    "    # 3. Sample shared noise & get scores\n",
    "    samples = torch.randint(high=n_classes, size=[self.num_sampling]).to(labels.device)\n",
    "    noise_scores = predictions @ projection[samples, :].T + self.model.bias[None, samples]\n",
    "    noise_scores += np.log(n_classes - 1)\n",
    "\n",
    "    # 4. Reject samples matching target label & correct for remaining samples\n",
    "    reject_samples = (labels[..., None] == samples[None, :]) & (labels[..., None] != -100)  #後面是 collator 會把非預測目標填為 -100\n",
    "    noise_scores -= 1e6 * reject_samples\n",
    "    noise_scores -= torch.log((self.num_sampling - reject_samples.sum(-1, keepdims=True)).float())\n",
    "\n",
    "    # 5. Apply regular softmax cross entropy\n",
    "    scores = torch.cat([label_scores[..., None], noise_scores], dim=-1)\n",
    "    pseudo_label = torch.masked_fill(labels.clone(), labels != -100, 0).view(-1)\n",
    "    loss = torch.nn.functional.cross_entropy(scores.view(-1, scores.shape[-1]), pseudo_label)\n",
    "\n",
    "    return loss"
   ]
  },
  {
   "cell_type": "code",
   "execution_count": 9,
   "metadata": {
    "colab": {
     "base_uri": "https://localhost:8080/"
    },
    "id": "Z-Qdn-ZJS_3E",
    "outputId": "b7bbb8bc-1ed6-4b06-a99f-dc6ebbeeb7c6"
   },
   "outputs": [
    {
     "name": "stdout",
     "output_type": "stream",
     "text": [
      "49670458\n"
     ]
    },
    {
     "data": {
      "text/plain": [
       "AdamW (\n",
       "Parameter Group 0\n",
       "    amsgrad: False\n",
       "    betas: (0.9, 0.999)\n",
       "    capturable: False\n",
       "    differentiable: False\n",
       "    eps: 1e-05\n",
       "    foreach: None\n",
       "    fused: None\n",
       "    initial_lr: 4e-05\n",
       "    lr: 4e-05\n",
       "    maximize: False\n",
       "    weight_decay: 0.01\n",
       ")"
      ]
     },
     "execution_count": 9,
     "metadata": {},
     "output_type": "execute_result"
    }
   ],
   "source": [
    "learning_rate = 4e-5 # for fine tuning\n",
    "\n",
    "model_params = {\n",
    "    'hidden_size': 512,\n",
    "    'vocab_size': tokenizer.vocab_size,\n",
    "    'num_hidden_layers': 8,\n",
    "    'num_attention_heads': 8,\n",
    "    'intermediate_size': 3072,\n",
    "    'max_position_embeddings': 256\n",
    "}\n",
    "loss_params = {\n",
    "  'sampling_word_size': 100,\n",
    "}\n",
    "\n",
    "config = BertConfig(**model_params)\n",
    "model = BertForMaskedLM(config=config).to(device)\n",
    "print(model.num_parameters())\n",
    "\n",
    "# using_loss = Sampled_softmax_cross_entropy(model, num_sampling=loss_params['sampling_word_size'])\n",
    "\n",
    "# optimizer = torch.optim.Adam(model.parameters(), lr=learning_rate)\n",
    "optimizer = torch.optim.AdamW(model.parameters(), lr=learning_rate, eps=1e-5)\n",
    "# scheduler = lr_scheduler.LinearLR(optimizer, total_iters=10, start_factor=1)\n",
    "scheduler = lr_scheduler.CosineAnnealingWarmRestarts(optimizer, 2500, eta_min=1e-6)\n",
    "optimizer"
   ]
  },
  {
   "cell_type": "code",
   "execution_count": 10,
   "metadata": {
    "colab": {
     "base_uri": "https://localhost:8080/",
     "height": 35
    },
    "id": "Gly8rUcRTCqK",
    "outputId": "6a00a948-7b40-4361-8d70-0db1e609b0f7"
   },
   "outputs": [
    {
     "name": "stdout",
     "output_type": "stream",
     "text": [
      "bert-20240711.22:03:17\n"
     ]
    }
   ],
   "source": [
    "time_string = datetime.datetime.now(tz=datetime.timezone(datetime.timedelta(hours=8))).strftime('%Y%m%d.%H:%M:%S')\n",
    "subfolder_path = Path(f\"bert-{time_string}\")\n",
    "\n",
    "os.makedirs(PATH/folder_path/subfolder_path, exist_ok=True)\n",
    "\n",
    "with open(PATH/folder_path/subfolder_path/f'parameters.json', 'w') as f:\n",
    "  f.write(json.dumps({\n",
    "    'tokenizer_type': tokenizer_type,\n",
    "    'model': str(model),\n",
    "    'model_params': str(model_params),\n",
    "    'learning_rate': learning_rate,\n",
    "    'batch_size': batch_size,\n",
    "    'masking_probability': masking_probability,\n",
    "    'shuffle': shuffle,\n",
    "    # 'loss_type': str(using_loss),\n",
    "    'loss_params': loss_params,\n",
    "  }))\n",
    "print(subfolder_path)"
   ]
  },
  {
   "cell_type": "code",
   "execution_count": 11,
   "metadata": {},
   "outputs": [
    {
     "data": {
      "application/vnd.jupyter.widget-view+json": {
       "model_id": "ff830ca4b279481a908399796c53f773",
       "version_major": 2,
       "version_minor": 0
      },
      "text/plain": [
       "  0%|          | 0/5183 [00:00<?, ?it/s]"
      ]
     },
     "metadata": {},
     "output_type": "display_data"
    }
   ],
   "source": [
    "from torch.utils.tensorboard import SummaryWriter\n",
    "\n",
    "# Writer will output to ./runs/ directory by default\n",
    "writer = SummaryWriter(log_dir=PATH/folder_path/subfolder_path)\n",
    "benchmark_writer = benchmark.Benchmarking(writer, tokenizer)"
   ]
  },
  {
   "cell_type": "code",
   "execution_count": null,
   "metadata": {
    "colab": {
     "base_uri": "https://localhost:8080/"
    },
    "id": "oooHFMrpTEek",
    "outputId": "88eaace3-eeaf-4ce8-e1db-657ba049bd09"
   },
   "outputs": [
    {
     "name": "stdout",
     "output_type": "stream",
     "text": [
      "20240711.22:03:17\n"
     ]
    },
    {
     "name": "stderr",
     "output_type": "stream",
     "text": [
      "  0%|          | 0/1541755 [00:00<?, ?it/s]Token indices sequence length is longer than the specified maximum sequence length for this model (546 > 512). Running this sequence through the model will result in indexing errors\n",
      " 15%|█▌        | 233395/1541755 [4:59:41<25:34:02, 14.21it/s, loss=2.912432, final_loss=2.912432]  "
     ]
    }
   ],
   "source": [
    "num_epochs = 2\n",
    "save_every_n_batches = 5000\n",
    "clip_loss = None\n",
    "\n",
    "multiloss = 0\n",
    "\n",
    "\n",
    "print(time_string)\n",
    "\n",
    "# os.makedirs(PATH/folder_path/subfolder_path, exist_ok=True)\n",
    "\n",
    "##############################################################################################################\n",
    "model.train() ################################################################################################\n",
    "# model.eval()\n",
    "##############################################################################################################\n",
    "\n",
    "global_step = 0\n",
    "\n",
    "loss_history = []\n",
    "for epoch_num, epoch in enumerate(range(num_epochs)):\n",
    "  bar = tqdm(train_loader)\n",
    "\n",
    "  for batch_num, batch in enumerate(bar):\n",
    "\n",
    "    optimizer.zero_grad()\n",
    "\n",
    "    batch = {key: batch[key].to(device) for key in batch}\n",
    "    loss = model(**batch).loss\n",
    "\n",
    "    if clip_loss is not None:\n",
    "      final_loss = torch.clip(loss, max=clip_loss)\n",
    "    else:\n",
    "      final_loss = loss\n",
    "\n",
    "    loss_dict = {\n",
    "      'loss': f\"{loss.item(): .6f}\",\n",
    "      'final_loss': f\"{final_loss.item(): .6f}\",\n",
    "    }\n",
    "\n",
    "    if global_step == 0:\n",
    "      writer.add_scalar('Loss/loss', loss, global_step)\n",
    "      benchmark_writer.predict_and_write(model.bert.embeddings.word_embeddings.weight.detach().cpu(), global_step)\n",
    "    \n",
    "    if multiloss:\n",
    "      loss_dict |= {key: f\"{losses[key].item(): .6f}\" for key in losses}\n",
    "\n",
    "    bar.set_postfix(loss_dict)\n",
    "\n",
    "    # with torch.autograd.detect_anomaly(True):\n",
    "      # loss.backward()\n",
    "      # torch.nn.utils.clip_grad_norm_(parameters=model.parameters(), max_norm=10, norm_type=2)\n",
    "\n",
    "    final_loss.backward()\n",
    "    optimizer.step()\n",
    "    global_step += 1\n",
    "    \n",
    "    if (batch_num % 100 == 0):\n",
    "      # torch.cuda.empty_cache()\n",
    "      loss_history.append([epoch_num, batch_num, loss_dict])\n",
    "      # print(f\"{datetime.datetime.now().strftime('%Y-%m-%d %H:%M:%S')}, batch {batch_num}\")\n",
    "\n",
    "    if (global_step % 100 == 0):\n",
    "      writer.add_scalar('Loss/loss', loss, global_step)\n",
    "\n",
    "    if (batch_num % 1000 == 999):\n",
    "      scheduler.step()\n",
    "\n",
    "    if (batch_num % save_every_n_batches == 0):\n",
    "      prefix = f\"epoch_{epoch_num}-batch_{batch_num}-\"\n",
    "      torch.save(model, PATH/folder_path/subfolder_path/f'{prefix}-model.pt')\n",
    "\n",
    "      with open(PATH/folder_path/subfolder_path/f'epoch_{epoch_num}-history.json', 'w') as f:\n",
    "        f.write(json.dumps(loss_history))\n",
    "\n",
    "      # torch.cuda.empty_cache()\n",
    "\n",
    "      benchmark_writer.predict_and_write(model.bert.embeddings.word_embeddings.weight.detach().cpu(), global_step)\n",
    "\n",
    "    if (batch_num in [500, 1000, 1500, 2000, 2500, 7500, 12500, 17500]):\n",
    "      prefix = f\"epoch_{epoch_num}-batch_{batch_num}-\"\n",
    "      torch.save(model, PATH/folder_path/subfolder_path/f'{prefix}-model.pt')\n",
    "\n",
    "      with open(PATH/folder_path/subfolder_path/f'epoch_{epoch_num}-history.json', 'w') as f:\n",
    "        f.write(json.dumps(loss_history))\n",
    "\n",
    "      benchmark_writer.predict_and_write(model.bert.embeddings.word_embeddings.weight.detach().cpu(), global_step)\n",
    "          \n",
    "    # del batch, loss"
   ]
  },
  {
   "cell_type": "code",
   "execution_count": null,
   "metadata": {},
   "outputs": [],
   "source": []
  }
 ],
 "metadata": {
  "accelerator": "GPU",
  "colab": {
   "gpuType": "L4",
   "machine_shape": "hm",
   "provenance": []
  },
  "kernelspec": {
   "display_name": "Python 3 (ipykernel)",
   "language": "python",
   "name": "python3"
  },
  "language_info": {
   "codemirror_mode": {
    "name": "ipython",
    "version": 3
   },
   "file_extension": ".py",
   "mimetype": "text/x-python",
   "name": "python",
   "nbconvert_exporter": "python",
   "pygments_lexer": "ipython3",
   "version": "3.12.0"
  },
  "widgets": {
   "application/vnd.jupyter.widget-state+json": {
    "0731381b11d04e06bb0662d7759d48fd": {
     "model_module": "@jupyter-widgets/controls",
     "model_module_version": "1.5.0",
     "model_name": "HTMLModel",
     "state": {
      "_dom_classes": [],
      "_model_module": "@jupyter-widgets/controls",
      "_model_module_version": "1.5.0",
      "_model_name": "HTMLModel",
      "_view_count": null,
      "_view_module": "@jupyter-widgets/controls",
      "_view_module_version": "1.5.0",
      "_view_name": "HTMLView",
      "description": "",
      "description_tooltip": null,
      "layout": "IPY_MODEL_2c4fa4925b034334aa4ad357a417768c",
      "placeholder": "​",
      "style": "IPY_MODEL_ec60e65ca9d04ee09a6061bf6b8a8554",
      "value": " 41/41 [00:00&lt;00:00, 45.91it/s]"
     }
    },
    "0ad95c09ec7a49159e79926433686a2d": {
     "model_module": "@jupyter-widgets/base",
     "model_module_version": "1.2.0",
     "model_name": "LayoutModel",
     "state": {
      "_model_module": "@jupyter-widgets/base",
      "_model_module_version": "1.2.0",
      "_model_name": "LayoutModel",
      "_view_count": null,
      "_view_module": "@jupyter-widgets/base",
      "_view_module_version": "1.2.0",
      "_view_name": "LayoutView",
      "align_content": null,
      "align_items": null,
      "align_self": null,
      "border": null,
      "bottom": null,
      "display": null,
      "flex": null,
      "flex_flow": null,
      "grid_area": null,
      "grid_auto_columns": null,
      "grid_auto_flow": null,
      "grid_auto_rows": null,
      "grid_column": null,
      "grid_gap": null,
      "grid_row": null,
      "grid_template_areas": null,
      "grid_template_columns": null,
      "grid_template_rows": null,
      "height": null,
      "justify_content": null,
      "justify_items": null,
      "left": null,
      "margin": null,
      "max_height": null,
      "max_width": null,
      "min_height": null,
      "min_width": null,
      "object_fit": null,
      "object_position": null,
      "order": null,
      "overflow": null,
      "overflow_x": null,
      "overflow_y": null,
      "padding": null,
      "right": null,
      "top": null,
      "visibility": null,
      "width": null
     }
    },
    "23b9f3358e0b46ee893cea571ab585dc": {
     "model_module": "@jupyter-widgets/base",
     "model_module_version": "1.2.0",
     "model_name": "LayoutModel",
     "state": {
      "_model_module": "@jupyter-widgets/base",
      "_model_module_version": "1.2.0",
      "_model_name": "LayoutModel",
      "_view_count": null,
      "_view_module": "@jupyter-widgets/base",
      "_view_module_version": "1.2.0",
      "_view_name": "LayoutView",
      "align_content": null,
      "align_items": null,
      "align_self": null,
      "border": null,
      "bottom": null,
      "display": null,
      "flex": null,
      "flex_flow": null,
      "grid_area": null,
      "grid_auto_columns": null,
      "grid_auto_flow": null,
      "grid_auto_rows": null,
      "grid_column": null,
      "grid_gap": null,
      "grid_row": null,
      "grid_template_areas": null,
      "grid_template_columns": null,
      "grid_template_rows": null,
      "height": null,
      "justify_content": null,
      "justify_items": null,
      "left": null,
      "margin": null,
      "max_height": null,
      "max_width": null,
      "min_height": null,
      "min_width": null,
      "object_fit": null,
      "object_position": null,
      "order": null,
      "overflow": null,
      "overflow_x": null,
      "overflow_y": null,
      "padding": null,
      "right": null,
      "top": null,
      "visibility": null,
      "width": null
     }
    },
    "2459972537b94585af9ac6603e060570": {
     "model_module": "@jupyter-widgets/base",
     "model_module_version": "1.2.0",
     "model_name": "LayoutModel",
     "state": {
      "_model_module": "@jupyter-widgets/base",
      "_model_module_version": "1.2.0",
      "_model_name": "LayoutModel",
      "_view_count": null,
      "_view_module": "@jupyter-widgets/base",
      "_view_module_version": "1.2.0",
      "_view_name": "LayoutView",
      "align_content": null,
      "align_items": null,
      "align_self": null,
      "border": null,
      "bottom": null,
      "display": null,
      "flex": null,
      "flex_flow": null,
      "grid_area": null,
      "grid_auto_columns": null,
      "grid_auto_flow": null,
      "grid_auto_rows": null,
      "grid_column": null,
      "grid_gap": null,
      "grid_row": null,
      "grid_template_areas": null,
      "grid_template_columns": null,
      "grid_template_rows": null,
      "height": null,
      "justify_content": null,
      "justify_items": null,
      "left": null,
      "margin": null,
      "max_height": null,
      "max_width": null,
      "min_height": null,
      "min_width": null,
      "object_fit": null,
      "object_position": null,
      "order": null,
      "overflow": null,
      "overflow_x": null,
      "overflow_y": null,
      "padding": null,
      "right": null,
      "top": null,
      "visibility": null,
      "width": null
     }
    },
    "2c4fa4925b034334aa4ad357a417768c": {
     "model_module": "@jupyter-widgets/base",
     "model_module_version": "1.2.0",
     "model_name": "LayoutModel",
     "state": {
      "_model_module": "@jupyter-widgets/base",
      "_model_module_version": "1.2.0",
      "_model_name": "LayoutModel",
      "_view_count": null,
      "_view_module": "@jupyter-widgets/base",
      "_view_module_version": "1.2.0",
      "_view_name": "LayoutView",
      "align_content": null,
      "align_items": null,
      "align_self": null,
      "border": null,
      "bottom": null,
      "display": null,
      "flex": null,
      "flex_flow": null,
      "grid_area": null,
      "grid_auto_columns": null,
      "grid_auto_flow": null,
      "grid_auto_rows": null,
      "grid_column": null,
      "grid_gap": null,
      "grid_row": null,
      "grid_template_areas": null,
      "grid_template_columns": null,
      "grid_template_rows": null,
      "height": null,
      "justify_content": null,
      "justify_items": null,
      "left": null,
      "margin": null,
      "max_height": null,
      "max_width": null,
      "min_height": null,
      "min_width": null,
      "object_fit": null,
      "object_position": null,
      "order": null,
      "overflow": null,
      "overflow_x": null,
      "overflow_y": null,
      "padding": null,
      "right": null,
      "top": null,
      "visibility": null,
      "width": null
     }
    },
    "3beef72616574b1089d6d0914c98df99": {
     "model_module": "@jupyter-widgets/controls",
     "model_module_version": "1.5.0",
     "model_name": "ProgressStyleModel",
     "state": {
      "_model_module": "@jupyter-widgets/controls",
      "_model_module_version": "1.5.0",
      "_model_name": "ProgressStyleModel",
      "_view_count": null,
      "_view_module": "@jupyter-widgets/base",
      "_view_module_version": "1.2.0",
      "_view_name": "StyleView",
      "bar_color": null,
      "description_width": ""
     }
    },
    "7aa04beb95d14930a48e7f76c898ff45": {
     "model_module": "@jupyter-widgets/controls",
     "model_module_version": "1.5.0",
     "model_name": "DescriptionStyleModel",
     "state": {
      "_model_module": "@jupyter-widgets/controls",
      "_model_module_version": "1.5.0",
      "_model_name": "DescriptionStyleModel",
      "_view_count": null,
      "_view_module": "@jupyter-widgets/base",
      "_view_module_version": "1.2.0",
      "_view_name": "StyleView",
      "description_width": ""
     }
    },
    "a87b48a56fbd47c2a4f9dced3d8f79bc": {
     "model_module": "@jupyter-widgets/controls",
     "model_module_version": "1.5.0",
     "model_name": "FloatProgressModel",
     "state": {
      "_dom_classes": [],
      "_model_module": "@jupyter-widgets/controls",
      "_model_module_version": "1.5.0",
      "_model_name": "FloatProgressModel",
      "_view_count": null,
      "_view_module": "@jupyter-widgets/controls",
      "_view_module_version": "1.5.0",
      "_view_name": "ProgressView",
      "bar_style": "success",
      "description": "",
      "description_tooltip": null,
      "layout": "IPY_MODEL_23b9f3358e0b46ee893cea571ab585dc",
      "max": 41,
      "min": 0,
      "orientation": "horizontal",
      "style": "IPY_MODEL_3beef72616574b1089d6d0914c98df99",
      "value": 41
     }
    },
    "da358db5ba284536b14b9028d2439cec": {
     "model_module": "@jupyter-widgets/controls",
     "model_module_version": "1.5.0",
     "model_name": "HTMLModel",
     "state": {
      "_dom_classes": [],
      "_model_module": "@jupyter-widgets/controls",
      "_model_module_version": "1.5.0",
      "_model_name": "HTMLModel",
      "_view_count": null,
      "_view_module": "@jupyter-widgets/controls",
      "_view_module_version": "1.5.0",
      "_view_name": "HTMLView",
      "description": "",
      "description_tooltip": null,
      "layout": "IPY_MODEL_2459972537b94585af9ac6603e060570",
      "placeholder": "​",
      "style": "IPY_MODEL_7aa04beb95d14930a48e7f76c898ff45",
      "value": "Loading dataset shards: 100%"
     }
    },
    "ec60e65ca9d04ee09a6061bf6b8a8554": {
     "model_module": "@jupyter-widgets/controls",
     "model_module_version": "1.5.0",
     "model_name": "DescriptionStyleModel",
     "state": {
      "_model_module": "@jupyter-widgets/controls",
      "_model_module_version": "1.5.0",
      "_model_name": "DescriptionStyleModel",
      "_view_count": null,
      "_view_module": "@jupyter-widgets/base",
      "_view_module_version": "1.2.0",
      "_view_name": "StyleView",
      "description_width": ""
     }
    },
    "fff2d68968ba4e39bfc7cea47f842558": {
     "model_module": "@jupyter-widgets/controls",
     "model_module_version": "1.5.0",
     "model_name": "HBoxModel",
     "state": {
      "_dom_classes": [],
      "_model_module": "@jupyter-widgets/controls",
      "_model_module_version": "1.5.0",
      "_model_name": "HBoxModel",
      "_view_count": null,
      "_view_module": "@jupyter-widgets/controls",
      "_view_module_version": "1.5.0",
      "_view_name": "HBoxView",
      "box_style": "",
      "children": [
       "IPY_MODEL_da358db5ba284536b14b9028d2439cec",
       "IPY_MODEL_a87b48a56fbd47c2a4f9dced3d8f79bc",
       "IPY_MODEL_0731381b11d04e06bb0662d7759d48fd"
      ],
      "layout": "IPY_MODEL_0ad95c09ec7a49159e79926433686a2d"
     }
    }
   }
  }
 },
 "nbformat": 4,
 "nbformat_minor": 4
}

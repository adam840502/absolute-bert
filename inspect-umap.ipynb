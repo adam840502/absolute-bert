{
 "cells": [
  {
   "cell_type": "code",
   "execution_count": 1,
   "id": "1bebfa19-defc-4f00-8d37-e041e91ffcae",
   "metadata": {},
   "outputs": [],
   "source": [
    "# !pip install umap-learn"
   ]
  },
  {
   "cell_type": "code",
   "execution_count": 2,
   "id": "d71edd69-23d5-4ab7-bf27-65786a582c4d",
   "metadata": {},
   "outputs": [],
   "source": [
    "import pathlib\n",
    "import numpy as np\n",
    "\n",
    "import matplotlib.pyplot as plt\n",
    "\n",
    "from sklearn.metrics.pairwise import cosine_similarity\n",
    "\n",
    "import torch\n",
    "from torch import nn\n",
    "\n",
    "import datasets\n",
    "from transformers import AutoTokenizer\n",
    "\n",
    "import umap"
   ]
  },
  {
   "cell_type": "code",
   "execution_count": 3,
   "id": "7cb7bfbc-3579-46de-ba40-7c22b188b20f",
   "metadata": {},
   "outputs": [
    {
     "name": "stderr",
     "output_type": "stream",
     "text": [
      "/home/adam/miniconda3/envs/lima/lib/python3.12/site-packages/datasets/load.py:1461: FutureWarning: The repository for bookcorpus contains custom code which must be executed to correctly load the dataset. You can inspect the repository content at https://hf.co/datasets/bookcorpus\n",
      "You can avoid this message in future by passing the argument `trust_remote_code=True`.\n",
      "Passing `trust_remote_code=True` will be mandatory to load this dataset from the next major release of `datasets`.\n",
      "  warnings.warn(\n"
     ]
    },
    {
     "data": {
      "text/plain": [
       "{'text': ['usually , he would be tearing around the living room , playing with his toys .',\n",
       "  'but just one look at a minion sent him practically catatonic .',\n",
       "  \"that had been megan 's plan when she got him dressed earlier .\"]}"
      ]
     },
     "execution_count": 3,
     "metadata": {},
     "output_type": "execute_result"
    }
   ],
   "source": [
    "dataset = datasets.load_dataset('bookcorpus')['train']\n",
    "\n",
    "tokenizer = AutoTokenizer.from_pretrained('bert-base-uncased')\n",
    "\n",
    "dataset[:3]"
   ]
  },
  {
   "cell_type": "code",
   "execution_count": 4,
   "id": "d193f6db-9957-4923-9d26-e016fdd3d106",
   "metadata": {},
   "outputs": [],
   "source": [
    "subpath = '20240704.20:55:54' # 4 abs_bert, bookcorpus\n",
    "subpath = '20240704.21:19:36' # 5 abs_bert, wiki\n",
    "# subpath = '20240704.21:26:11' # 6 abs_bert, bookcorpus, xavier_init_embedding\n",
    "subpath = '20240704.21:33:23' # 7 abs_bert, wiki, xavier_init_embedding\n",
    "# subpath = '20240709.10:26:55' # abs_architecture, lr 1e-5~1e-3, early exploded\n",
    "subpath = '20240709.11:13:35' # abs_architecture, lr 1e-5~1e-3, exploded at 10000\n",
    "subpath = '20240709.12:14:48' # time_attention, lr 1e-5~1e-3, exploded at before 6000\n",
    "\n",
    "subpath = '20240710.23:13:03' # all1_as_pivot, mask_prob0.15\n",
    "subpath = '20240711.03:00:33' # all1_layerNorm\n",
    "subpath = '20240711.03:33:04' # all1_layerNorm, lr 2e-5\n",
    "subpath = '20240711.03:33:24' # all1_layerNorm, lr 5e-6\n",
    "subpath = '20240711.03:48:45' # all1_layerNorm, lr 1e-6\n",
    "subpath = '20240711.15:40:27' # bookcorpus, lr 4e-5\n",
    "subpath = '20240711.16:14:06' # multi granularity, bookcorpus, lr 4e-5\n",
    "subpath = '20240711.17:23:01' # log_granularity [1,2,2,3,5,5,6,6], bookcorpus, lr 4e-5"
   ]
  },
  {
   "cell_type": "code",
   "execution_count": 5,
   "id": "e114a8de-cca8-45fc-a291-f914b4fa0880",
   "metadata": {},
   "outputs": [
    {
     "name": "stdout",
     "output_type": "stream",
     "text": [
      "weight norms, min: 0.10725504159927368, max: 0.7680855989456177\n",
      "min norms: ['[PAD]', 'gambling', 'benedict', 'mummy', 'mimi', 'mechanism', 'sterile', 'bonfire', 'processing', 'archibald']\n",
      "max norms: ['her', 'in', 'it', 'me', 'was', \"'\", 'to', 'the', 'and', ',']\n",
      "bias norms, min: -0.07141588628292084, max: 0.07863214612007141\n",
      "min norms: ['[PAD]', 'ʼ', 'अ', 'ђ', '##真', '##ර', 'racecourse', '1663', 'ɣ', 'depicts']\n",
      "max norms: ['her', 'a', 'it', 'me', \"'\", 'to', 'and', 'the', '.', ',']\n"
     ]
    },
    {
     "data": {
      "image/png": "[encoded data removed]",
      "text/plain": [
       "<Figure size 900x400 with 2 Axes>"
      ]
     },
     "metadata": {},
     "output_type": "display_data"
    }
   ],
   "source": [
    "epoch_num = 0\n",
    "batch_num = 50000\n",
    "\n",
    "\n",
    "folder_path = pathlib.Path('data/limanet/')\n",
    "\n",
    "model = torch.load(folder_path/subpath/f'epoch_{epoch_num}-batch_{batch_num}-model.pt', map_location='cpu')\n",
    "word_reprs = model.word_embeddings().detach()\n",
    "\n",
    "_, (ax_w, ax_b) = plt.subplots(1, 2, figsize=[9, 4])\n",
    "\n",
    "# weight stats\n",
    "norms = np.linalg.norm(word_reprs, axis=1)\n",
    "indices = norms.argsort()\n",
    "print(f\"weight norms, min: {norms.min()}, max: {norms.max()}\")\n",
    "print(\"min norms:\", tokenizer.convert_ids_to_tokens(indices[:10]))\n",
    "print(\"max norms:\", tokenizer.convert_ids_to_tokens(indices[-10:]))\n",
    "_ = ax_w.hist(norms, bins=100)\n",
    "\n",
    "# bias stats\n",
    "biases = model.bias.detach()\n",
    "indices = biases.argsort()\n",
    "print(f\"bias norms, min: {biases.min()}, max: {biases.max()}\")\n",
    "print(\"min norms:\", tokenizer.convert_ids_to_tokens(indices[:10]))\n",
    "print(\"max norms:\", tokenizer.convert_ids_to_tokens(indices[-10:]))\n",
    "if hasattr(model, 'predictor') and hasattr(model.predictor, 'base_vec'):\n",
    "  print(f\"base vec norm: {model.predictor.base_vec.norm()}\")\n",
    "_ = ax_b.hist(biases, bins=100)"
   ]
  },
  {
   "cell_type": "code",
   "execution_count": 6,
   "id": "1887a8f2-de22-4b4d-aad2-7aed84221ca0",
   "metadata": {},
   "outputs": [],
   "source": [
    "# %%time\n",
    "from collections import defaultdict\n",
    "\n",
    "def get_projection(representations, n_neighbors=10, methods=['euclidean', 'cosine'], n_jobs=16):\n",
    "  transed_repr = {}\n",
    "  for method in methods:\n",
    "    reducer = umap.UMAP(n_neighbors=n_neighbors, metric=method, n_jobs=n_jobs)\n",
    "    transed_repr[method] = reducer.fit_transform(representations)\n",
    "  return transed_repr\n",
    "\n",
    "def grouped_get_projection(representations_dict_groupNames, **kwargs):\n",
    "  \n",
    "  size_repr_len_pairs = [[name, reprs, reprs.shape[0]] for name, reprs in representations_dict_groupNames.items()]\n",
    "  names, reprs, lengths = [*zip(*size_repr_len_pairs)]\n",
    "\n",
    "  transeds = get_projection(torch.cat(reprs))\n",
    "  to_return = defaultdict(defaultdict)\n",
    "  for method, transed in transeds.items():\n",
    "    accum_length = 0\n",
    "    for name, length in zip(names, lengths):\n",
    "      to_return[method][name] = transed[accum_length:accum_length+length]\n",
    "      accum_length += length\n",
    "    \n",
    "  return to_return\n",
    "  \n",
    "\n",
    "pivot = torch.zeros(1, word_reprs.shape[1])\n",
    "pivot[0, 0] = 1\n",
    "origin = torch.zeros(1, word_reprs.shape[1])\n",
    "\n",
    "transeds_dict_methods_groupNames = grouped_get_projection({'word': word_reprs, 'pivot': pivot, 'origin': origin})\n",
    "\n",
    "# transeds_dict_methods = get_projection(torch.cat([word_reprs, pivot]))\n",
    "# transed_words_dict_methods = {name: transed[:-1] for name, transed in transeds_dict_methods.items()} #transed word representations in a dict with methods as keys\n",
    "# transed_pivots_dict_methods = {name: transed[-1:] for name, transed in transeds_dict_methods.items()}\n",
    "vector_norms = np.linalg.norm(word_reprs, axis=1)\n",
    "# del model"
   ]
  },
  {
   "cell_type": "code",
   "execution_count": 7,
   "id": "8b0afb61-9ed5-4f75-946f-1534b34d9ad7",
   "metadata": {},
   "outputs": [],
   "source": [
    "from utils.inspecting import inspect_direction_representing_words\n",
    "\n",
    "def draw_and_annotate(ax, points, word_pos_pairs):\n",
    "  image = ax.scatter(*points.T, marker='.', edgecolors='none', cmap=cmap, c=norms, alpha=.2, vmin=0)\n",
    "\n",
    "  for word, x_y in word_pos_pairs:\n",
    "    ax.annotate(word, x_y, alpha=.7)"
   ]
  },
  {
   "cell_type": "code",
   "execution_count": 8,
   "id": "b8a5116d-f852-4d66-b461-df3595a9d76f",
   "metadata": {},
   "outputs": [
    {
     "data": {
      "text/plain": [
       "0.03952284"
      ]
     },
     "execution_count": 8,
     "metadata": {},
     "output_type": "execute_result"
    },
    {
     "data": {
      "image/png": "[encoded data removed]",
      "text/plain": [
       "<Figure size 640x480 with 1 Axes>"
      ]
     },
     "metadata": {},
     "output_type": "display_data"
    }
   ],
   "source": [
    "sim = cosine_similarity(word_reprs)\n",
    "offdiag_mean = (sim.sum(axis=1) - 1) / (sim.shape[0] - 1)\n",
    "plt.hist(offdiag_mean, bins=200)\n",
    "offdiag_mean.mean()"
   ]
  },
  {
   "cell_type": "code",
   "execution_count": 9,
   "id": "5ae3b5af-df19-49e5-a823-25d6ffd44543",
   "metadata": {},
   "outputs": [
    {
     "name": "stdout",
     "output_type": "stream",
     "text": [
      "['[MASK]', ',', '.', '[SEP]', '[PAD]', '[CLS]', 'the', 'and', 'and', 'i', 'her', 'he', 'him', 'she', 'are', 'is', 'they', 'a', 'am', 'goldberg', 'boone', 'willem', 'uptown', 'wore', '##nesian', '##kk', 'corresponded', 'fielder', 'glider', 'recordings', '1635', 'clair', 'roadside', 'packages', '##oris', 'geelong', '##ied', 'remix', 'volatile', '##31', '±', 'hunted', 'vulcan', 'chip', '##cie', 'aroused', 'au', 'grasped', 'prove', 'nr', 'sexy', 'encounters', 'west', 'copies', 'sweet', 'usd', '##sities', 'slaughter', 'tractor', 'abby', 'qaeda', 'send', 'councils', 'whispering', 'condemned', 'ethnic', 'narrower', 'yerevan', 'a2', 'captives', 'af', 'fossils', 'differently', '49th', 'energy', 'introduced', '##⁻', 'incapable', '##vy', 'noel', 'shadowed', '##vi', 'generous', '##م', 'besides', 'structures', 'andy', 'gaunt', 'dempsey']\n",
      "[103, 1010, 1012, 102, 0, 101, 1996, 1998, 1998, 1045, 2014, 2002, 2032, 2016, 2024, 2003, 2027, 1037, 2572, 18522, 15033, 18811, 28539, 5078, 20281, 19658, 27601, 25000, 18788, 5633, 27426, 17936, 25131, 14555, 21239, 18664, 6340, 6136, 20606, 21486, 1081, 14682, 25993, 9090, 23402, 18391, 8740, 15517, 6011, 17212, 7916, 11340, 2225, 4809, 4086, 13751, 24279, 14574, 16358, 9460, 18659, 4604, 10784, 13550, 10033, 5636, 22546, 23383, 22441, 21496, 21358, 11954, 11543, 25726, 2943, 3107, 30079, 19907, 10736, 10716, 25843, 5737, 12382, 22192, 4661, 5090, 5557, 27534, 28165]\n",
      "['aggression', 'leaks', 'leaks', 'cum', 'felix', 'leaks', 'encounters', 'elephant', 'vice', 'leaks', 'discount', 'grandparents', 'restless', 'encounters', '##21', 'encounters', 'hodge', 'novak', 'choices', 'leaks', 'aggression', 'leaks', 'nobles', 'discount', 'hodge', 'discount', 'grandparents', 'discount', 'leaks', 'sociologist', 'hodge', 'elephant', 'discount', '##ffy', 'choices', 'densely', 'subjects', 'encounters', 'grandparents', 'grandparents', '##bow', 'investigated', 'grapes', 'hodge', 'subjects', 'sociologist', 'discount', 'discount', 'leaks', 'jj', 'suspense', 'grandparents', 'novak', 'discount', 'leaks', 'leaks', 'choices', 'hodge', 'merchant', 'felix', 'president', 'politicians', 'cutter', 'hodge', 'cats', 'leaks', 'sociologist', '##star', 'encounters', 'leaks', 'felix', 'felix', 'leaks', 'landlord', 'encounters', 'aggression', 'subjects', 'discount', 'discount', 'hodge', 'choices', 'subjects', 'hodge', 'discount', 'nobles', 'discount', 'discount', 'leaks', 'nobles', 'candace', 'countryside', 'fungus', 'felix', 'aggression', 'leaks', 'leaks', 'investigated', 'hodge', 'nobles', 'becca', 'hodge', 'discount', 'jets', 'hodge', 'aggression', 'aggression', 'leaks', 'presenting', 'hodge', 'leaks', 'hodge', 'felix', 'aggression', 'felix', 'subjects', 'leaks', 'leaks', 'nobles', 'hodge', 'aggression', 'encounters', 'discount', 'suspense', 'drone', 'leaks', 'culture', 'nobles', 'hodge', 'jeremy', 'hodge', 'subjects', 'hodge', 'drone', 'hodge', 'leaks', 'elephant', 'movies', 'encounters', 'hodge', 'leaks', 'ceased', 'leaks', 'leaks', 'leaks', 'encounters', 'cats', 'leaks', 'leaks', '##gee', 'subjects']\n",
      "[14974 29324 29324 13988  8383 29324 11340 10777  3580 29324 19575 14472\n",
      " 15035 11340 17465 11340 23148 19580  9804 29324 14974 29324 13969 19575\n",
      " 23148 19575 14472 19575 29324 25106 23148 10777 19575 16329  9804 19441\n",
      "  5739 11340 14472 14472 18912 10847 16575 23148  5739 25106 19575 19575\n",
      " 29324 29017 23873 14472 19580 19575 29324 29324  9804 23148  6432  8383\n",
      "  2343  8801 16343 23148  8870 29324 25106 14117 11340 29324  8383  8383\n",
      " 29324 18196 11340 14974  5739 19575 19575 23148  9804  5739 23148 19575\n",
      " 13969 19575 19575 29324 13969 22905 10833 16622  8383 14974 29324 29324\n",
      " 10847 23148 13969 22140 23148 19575  9924 23148 14974 14974 29324 10886\n",
      " 23148 29324 23148  8383 14974  8383  5739 29324 29324 13969 23148 14974\n",
      " 11340 19575 23873 18465 29324  3226 13969 23148  7441 23148  5739 23148\n",
      " 18465 23148 29324 10777  5691 11340 23148 29324  7024 29324 29324 29324\n",
      " 11340  8870 29324 29324 18372  5739]\n"
     ]
    }
   ],
   "source": [
    "wordIdPairs_dict_samplingMethod = {}\n",
    "\n",
    "far_ids = np.where(offdiag_mean < -0.05)[0]\n",
    "tokens = tokenizer.convert_ids_to_tokens(far_ids)\n",
    "wordIdPairs_dict_samplingMethod['far_tokens'] = list(zip(tokens, far_ids))\n",
    "\n",
    "words = ['[MASK]', ',', '.', '[SEP]', '[PAD]', '[CLS]', 'the', 'and', 'and', 'i', 'her', 'he', 'him', 'she', 'are', 'is', 'they', 'a', 'am']\n",
    "samples = np.random.randint(0, tokenizer.vocab_size, [70])\n",
    "word_ids = tokenizer.convert_tokens_to_ids(words)\n",
    "sample_tokens = tokenizer.convert_ids_to_tokens(samples)\n",
    "words = words + sample_tokens\n",
    "ids = word_ids + samples.tolist()\n",
    "wordIdPairs_dict_samplingMethod['random+most_common'] = list(zip(words, ids))\n",
    "print(words, ids, sep='\\n')\n",
    "\n",
    "sampled_vecs = np.random.rand(150, word_reprs.shape[1])\n",
    "sampled_args = cosine_similarity(sampled_vecs, word_reprs).argmax(axis=1)\n",
    "sample_tokens = tokenizer.convert_ids_to_tokens(sampled_args)\n",
    "wordIdPairs_dict_samplingMethod['random_vectors'] = list(zip(sample_tokens, sampled_args))\n",
    "print(sample_tokens, sampled_args, sep='\\n')\n",
    "\n",
    "wordIdPairs_dict_samplingMethod['end_with_ed'] = [[key, id_] for key, id_ in tokenizer.vocab.items() if key[-2:] == 'ed']"
   ]
  },
  {
   "cell_type": "code",
   "execution_count": null,
   "id": "05400e1d-d11b-4bc6-90c9-aa9162d697bb",
   "metadata": {},
   "outputs": [],
   "source": [
    "%%capture --no-stdout --no-display\n",
    "\n",
    "cmap = plt.get_cmap('rainbow')\n",
    "\n",
    "def plot_basics(axes, transeds_dict_groupNames, title_prefix=None):\n",
    "  for ax, (methodName, transeds_dict_groupNames) in zip(axes, transeds_dict_methods_groupNames.items()):\n",
    "    transeds_dict_groupNames = transeds_dict_groupNames.copy()\n",
    "    transed_vecs = transeds_dict_groupNames.pop('word')\n",
    "  \n",
    "    image = ax.scatter(*transed_vecs.T, marker='.', edgecolors='none', s=3, c=norms, cmap=cmap, alpha=.7, vmin=0)\n",
    "    fig.colorbar(image, ax=ax, fraction=0.05, pad=0.05)\n",
    "  \n",
    "    ax.scatter(*transeds_dict_groupNames['pivot'].T, marker='+', color='red', alpha=.7, label='pivot')\n",
    "    ax.scatter(*transeds_dict_groupNames['origin'].T, marker='+', color='blue', alpha=.7, label='origin')\n",
    "    ax.set_title(f\"{title_prefix}: {methodName}\")\n",
    "    ax.legend()\n",
    "\n",
    "\n",
    "fig, axes = plt.subplots(1+len(wordIdPairs_dict_samplingMethod), 2, figsize=[16, 6*(1+len(wordIdPairs_dict_samplingMethod))])\n",
    "\n",
    "plot_basics(axes[0], transeds_dict_methods_groupNames, 'raw')\n",
    "\n",
    "for axes_or_a_row, (samplingMethodName, word_id_pairs) in zip(axes[1:], wordIdPairs_dict_samplingMethod.items()):\n",
    "  plot_basics(axes_or_a_row, transeds_dict_methods_groupNames, samplingMethodName)\n",
    "\n",
    "  for ax, (ProjectingMethodName, transeds_dict_groupNames) in zip(axes_or_a_row, transeds_dict_methods_groupNames.items()):\n",
    "    # print(word_id_pairs)\n",
    "    for word, id_ in word_id_pairs:\n",
    "      # print(word, id_)\n",
    "      ax.annotate(word, transeds_dict_groupNames['word'][id_], alpha=.3)\n",
    "\n",
    "# # fig.savefig(f'image/umap-{subpath}-epoch_{epoch_num}-{batch_num}.png')"
   ]
  },
  {
   "cell_type": "code",
   "execution_count": null,
   "id": "f423724a-6968-45ab-989e-a08a88066c9d",
   "metadata": {},
   "outputs": [],
   "source": []
  },
  {
   "cell_type": "code",
   "execution_count": null,
   "id": "adc1b70a-fd94-4625-b59a-c7fe0869e088",
   "metadata": {},
   "outputs": [],
   "source": []
  }
 ],
 "metadata": {
  "kernelspec": {
   "display_name": "Python 3 (ipykernel)",
   "language": "python",
   "name": "python3"
  },
  "language_info": {
   "codemirror_mode": {
    "name": "ipython",
    "version": 3
   },
   "file_extension": ".py",
   "mimetype": "text/x-python",
   "name": "python",
   "nbconvert_exporter": "python",
   "pygments_lexer": "ipython3",
   "version": "3.12.2"
  }
 },
 "nbformat": 4,
 "nbformat_minor": 5
}

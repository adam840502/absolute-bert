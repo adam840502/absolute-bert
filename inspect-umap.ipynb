{
 "cells": [
  {
   "cell_type": "code",
   "execution_count": 228,
   "id": "1bebfa19-defc-4f00-8d37-e041e91ffcae",
   "metadata": {},
   "outputs": [],
   "source": [
    "# !pip install umap-learn"
   ]
  },
  {
   "cell_type": "code",
   "execution_count": 2,
   "id": "d71edd69-23d5-4ab7-bf27-65786a582c4d",
   "metadata": {},
   "outputs": [],
   "source": [
    "import pathlib\n",
    "import numpy as np\n",
    "\n",
    "import matplotlib.pyplot as plt\n",
    "\n",
    "import torch\n",
    "from torch import nn\n",
    "\n",
    "import datasets\n",
    "from transformers import AutoTokenizer\n",
    "\n",
    "import umap"
   ]
  },
  {
   "cell_type": "code",
   "execution_count": 3,
   "id": "7cb7bfbc-3579-46de-ba40-7c22b188b20f",
   "metadata": {},
   "outputs": [
    {
     "name": "stderr",
     "output_type": "stream",
     "text": [
      "/home/adam/miniconda3/envs/lima/lib/python3.12/site-packages/datasets/load.py:1461: FutureWarning: The repository for bookcorpus contains custom code which must be executed to correctly load the dataset. You can inspect the repository content at https://hf.co/datasets/bookcorpus\n",
      "You can avoid this message in future by passing the argument `trust_remote_code=True`.\n",
      "Passing `trust_remote_code=True` will be mandatory to load this dataset from the next major release of `datasets`.\n",
      "  warnings.warn(\n"
     ]
    },
    {
     "data": {
      "text/plain": [
       "{'text': ['usually , he would be tearing around the living room , playing with his toys .',\n",
       "  'but just one look at a minion sent him practically catatonic .',\n",
       "  \"that had been megan 's plan when she got him dressed earlier .\"]}"
      ]
     },
     "execution_count": 3,
     "metadata": {},
     "output_type": "execute_result"
    }
   ],
   "source": [
    "dataset = datasets.load_dataset('bookcorpus')['train']\n",
    "\n",
    "tokenizer = AutoTokenizer.from_pretrained('bert-base-uncased')\n",
    "\n",
    "dataset[:3]"
   ]
  },
  {
   "cell_type": "code",
   "execution_count": 696,
   "id": "5dc22917-4ec5-41cb-b7f8-6c020402dab7",
   "metadata": {},
   "outputs": [],
   "source": [
    "subpath = '20240704.20:55:54' # 4 abs_bert, bookcorpus\n",
    "subpath = '20240704.21:19:36' # 5 abs_bert, wiki\n",
    "# subpath = '20240704.21:26:11' # 6 abs_bert, bookcorpus, xavier_init_embedding\n",
    "subpath = '20240704.21:33:23' # 7 abs_bert, wiki, xavier_init_embedding\n",
    "# subpath = '20240709.10:26:55' # abs_architecture, lr 1e-5~1e-3, early exploded\n",
    "subpath = '20240709.11:13:35' # abs_architecture, lr 1e-5~1e-3, exploded at 10000\n",
    "subpath = '20240709.12:14:48' # time_attention, lr 1e-5~1e-3, exploded at before 6000\n",
    "subpath = '20240709.14:18:30'\n",
    "subpath = '20240709.15:13:59'\n",
    "subpath = '20240709.16:56:30' \n",
    "subpath = '20240710.02:31:19' # sum_of_softmax\n",
    "# subpath = '20240710.03:33:50' # e1_as_pivot\n",
    "subpath = '20240710.15:09:00' # e1_as_pivot\n",
    "# subpath = '20240710.18:31:50' # sum_of_softmax\n",
    "subpath = '20240710.23:13:03' # all1_as_pivot, mask_prob0.15\n",
    "\n",
    "\n",
    "epoch_num = 0\n",
    "batch_num = 5000"
   ]
  },
  {
   "cell_type": "code",
   "execution_count": 697,
   "id": "043fc760-f58f-4325-8be5-c99368f8889f",
   "metadata": {
    "jupyter": {
     "source_hidden": true
    }
   },
   "outputs": [],
   "source": [
    "import numpy as np\n",
    "import torch\n",
    "import torch.nn as nn\n",
    "\n",
    "class Absolute_attention(nn.Module):\n",
    "  def __init__(self, dim=256, num_heads=16, hidden_dim=None, time_dim=64):\n",
    "    super().__init__()\n",
    "\n",
    "    self.dim = dim\n",
    "    self.num_heads = num_heads\n",
    "    self.time_dim = time_dim\n",
    "\n",
    "    if isinstance(hidden_dim, int):\n",
    "      self.hidden_dim = hidden_dim\n",
    "    else:\n",
    "      assert dim % num_heads == 0\n",
    "      self.hidden_dim = dim // num_heads\n",
    "\n",
    "    # assert self.hidden_dim % 2 == 0\n",
    "    # self.time_embedding = time_embedding\n",
    "    self.time_angle = nn.Parameter(torch.rand(self.num_heads, self.time_dim))\n",
    "    self.head_time_delta = nn.Parameter(torch.rand(self.num_heads))\n",
    "\n",
    "    self.Q = nn.Linear(dim, num_heads * (self.hidden_dim + 1), bias=False)\n",
    "    self.K = nn.Linear(dim, num_heads * self.hidden_dim, bias=False)\n",
    "    self.V = nn.Linear(dim, num_heads * self.hidden_dim, bias=False)\n",
    "    self.O = nn.Linear(num_heads * self.hidden_dim, dim)\n",
    "\n",
    "    self.dropout = nn.Dropout(p=0.5)\n",
    "\n",
    "  def forward(self, tensor, attention_mask):\n",
    "    batch_length = tensor.shape[:2]\n",
    "    # print(f'{tensor.shape=}')\n",
    "    q = self.Q(tensor).view(*batch_length, self.num_heads, self.hidden_dim + 1)\n",
    "    # q = (q + attention_mask[..., None, None])\n",
    "    q = q.softmax(dim=-1)\n",
    "\n",
    "    time_angles = (torch.arange(batch_length[1]).to(self.head_time_delta.device)[:, None, None]\n",
    "                   + self.head_time_delta[None, :, None]) * self.time_angle  # shape: [length, num_heads, dim_time] ?\n",
    "    cosines, sines = time_angles.cos(), time_angles.sin()\n",
    "    time = torch.cat([cosines + sines, cosines - sines], dim=-1) / np.sqrt(self.hidden_dim)  # shape: [length, num_heads, 2*dim_time] ?\n",
    "    q = (1 - q[..., -1, None]) * time\n",
    "    # q shape: [batch_size, length, num_heads, 2*dim_time] = [batch_size, length, 1, 1] * [length, num_heads, 2*dim_time] ?\n",
    "\n",
    "    k = self.K(tensor).view(*batch_length, self.num_heads, self.hidden_dim)  # bthd\n",
    "    k = k.softmax(dim=-1) * attention_mask[..., None, None]\n",
    "\n",
    "    k_time_angles = torch.arange(batch_length[1]).to(self.time_angle.device)[:, None, None] * self.time_angle\n",
    "    k_cosines, k_sines = time_angles.cos(), time_angles.sin()\n",
    "    k_time = torch.cat([k_cosines + k_sines, k_cosines - k_sines], dim=-1) / np.sqrt(self.hidden_dim)\n",
    "\n",
    "    attention = torch.einsum('blhd,thd->blth', q, k_time)\n",
    "\n",
    "    v = self.V(tensor).view(*batch_length, self.num_heads, self.hidden_dim)\n",
    "    adding_comb = torch.einsum('blth,bthd->blhd', attention, v)\n",
    "\n",
    "    output = self.O(adding_comb.reshape(*batch_length, self.dim))\n",
    "\n",
    "    return self.dropout(output)\n",
    "\n",
    "class Absolute_bert(nn.Module):\n",
    "  def __init__(self, vocab_size, dim=256, num_heads=8, hidden_dim=None, depth=8, attention_type=Absolute_attention, dtype=torch.float):\n",
    "    super().__init__()\n",
    "    self.vocab_size = vocab_size\n",
    "    self.dim = dim\n",
    "    self.num_heads = num_heads\n",
    "    self.hidden_dim = hidden_dim\n",
    "    self.depth = depth\n",
    "\n",
    "    self.embedding = nn.Embedding(vocab_size, dim, _weight=torch.nn.init.xavier_normal_(torch.ones([vocab_size, self.dim])))\n",
    "    # self.embedding = nn.Embedding(vocab_size, dim, _weight=torch.rand(vocab_size, self.dim) / np.sqrt(self.dim))\n",
    "\n",
    "    self.layers = nn.ModuleList([Absolute_attention(dim=dim,\n",
    "      num_heads=num_heads,\n",
    "      hidden_dim=hidden_dim\n",
    "      ) for _ in range(depth)])\n",
    "    self.dtype = dtype\n",
    "\n",
    "  def forward(self, input_ids, attention_mask, **kwargs):\n",
    "    # extended_attention_mask = attention_mask.to(dtype=self.dtype)  # fp16 compatibility\n",
    "    # extended_attention_mask = (1.0 - extended_attention_mask) * torch.finfo(self.dtype).min\n",
    "\n",
    "    tensor = self.embedding(input_ids)\n",
    "\n",
    "    for layer in self.layers:\n",
    "      output = layer(tensor, attention_mask)\n",
    "      tensor = tensor + output\n",
    "\n",
    "    return tensor\n",
    "\n",
    "class Absolute_bert_for_masked_LM(nn.Module):\n",
    "  def __init__(self, vocab_size, dim=256, num_heads=8, hidden_dim=None, depth=8, **kwargs):\n",
    "    super().__init__()\n",
    "    self.base_model = Absolute_bert(vocab_size, dim, num_heads, hidden_dim, depth, **kwargs)\n",
    "    self.bias = nn.Parameter(torch.zeros(vocab_size))\n",
    "\n",
    "  def forward(self, input_ids, attention_mask, labels, **kwargs):\n",
    "    tensor = self.base_model(input_ids=input_ids, attention_mask=attention_mask, **kwargs)\n",
    "\n",
    "    return tensor, labels\n",
    "\n",
    "  def word_embeddings(self):\n",
    "    return self.base_model.embedding.weight"
   ]
  },
  {
   "cell_type": "code",
   "execution_count": 698,
   "id": "e114a8de-cca8-45fc-a291-f914b4fa0880",
   "metadata": {},
   "outputs": [
    {
     "name": "stdout",
     "output_type": "stream",
     "text": [
      "weight norms, min: 0.1553989201784134, max: 0.35093221068382263\n",
      "min norms: ['##yon', '©', '##нялся', '1622', 'поступил', '##МФ', 'Never', '938', 'танков', '##ённых']\n",
      "max norms: ['Jones', '1974', '1977', 'City', 'Atlas', '##ksi', 'water', 'aan', '##2', '##є']\n",
      "bias norms, min: -0.00400241743773222, max: 0.024706829339265823\n",
      "min norms: ['[PAD]', '##to', 'Louis', '##koi', '1976', 'de', 'As', None, 'Ê', '##gat']\n",
      "max norms: ['##ova', '##A', 'aan', 'ng', '##lar', '##yi', 'see', 'XVII', 'Harry', '##ча']\n"
     ]
    },
    {
     "data": {
      "image/png": "[encoded data removed]",
      "text/plain": [
       "<Figure size 900x400 with 2 Axes>"
      ]
     },
     "metadata": {},
     "output_type": "display_data"
    }
   ],
   "source": [
    "folder_path = pathlib.Path('data/limanet/')\n",
    "\n",
    "# RNN = torch.load(folder_path/subpath/f'batch_{batch_num}-model.pt', map_location='cpu')\n",
    "model = torch.load(folder_path/subpath/f'epoch_{epoch_num}-batch_{batch_num}-model.pt', map_location='cpu')\n",
    "# model = torch.load(folder_path/subpath/f'batch_{batch_num}-model.pt', map_location='cpu')\n",
    "# model = RNN\n",
    "# model = RNN.model\n",
    "\n",
    "# epoch_num = 0\n",
    "# RNN = torch.load(folder_path/subpath/f'epoch_{epoch_num}-model.pt', map_location='cpu')\n",
    "\n",
    "# word_reprs_complex = model.predictor.all_word_embeddings()\n",
    "# word_reprs = torch.concat([word_reprs_complex.real, word_reprs_complex.imag], dim=-1).detach().numpy()\n",
    "word_reprs = model.word_embeddings().detach()\n",
    "\n",
    "_, (ax_w, ax_b) = plt.subplots(1, 2, figsize=[9, 4])\n",
    "\n",
    "# weight stats\n",
    "norms = np.linalg.norm(word_reprs, axis=1)\n",
    "indices = norms.argsort()\n",
    "print(f\"weight norms, min: {norms.min()}, max: {norms.max()}\")\n",
    "print(\"min norms:\", tokenizer.convert_ids_to_tokens(indices[:10]))\n",
    "print(\"max norms:\", tokenizer.convert_ids_to_tokens(indices[-10:]))\n",
    "_ = ax_w.hist(norms, bins=100)\n",
    "\n",
    "# bias stats\n",
    "biases = model.bias.detach()\n",
    "indices = biases.argsort()\n",
    "print(f\"bias norms, min: {biases.min()}, max: {biases.max()}\")\n",
    "print(\"min norms:\", tokenizer.convert_ids_to_tokens(indices[:10]))\n",
    "print(\"max norms:\", tokenizer.convert_ids_to_tokens(indices[-10:]))\n",
    "if hasattr(model, 'predictor') and hasattr(model.predictor, 'base_vec'):\n",
    "  print(f\"base vec norm: {model.predictor.base_vec.norm()}\")\n",
    "_ = ax_b.hist(biases, bins=100)"
   ]
  },
  {
   "cell_type": "code",
   "execution_count": 699,
   "id": "1887a8f2-de22-4b4d-aad2-7aed84221ca0",
   "metadata": {},
   "outputs": [],
   "source": [
    "# %%time\n",
    "from collections import defaultdict\n",
    "\n",
    "def get_projection(representations, n_neighbors=10, methods=['euclidean', 'cosine'], n_jobs=16):\n",
    "  transed_repr = {}\n",
    "  for method in methods:\n",
    "    reducer = umap.UMAP(n_neighbors=n_neighbors, metric=method, n_jobs=n_jobs)\n",
    "    transed_repr[method] = reducer.fit_transform(representations)\n",
    "  return transed_repr\n",
    "\n",
    "def grouped_get_projection(representations_dict_groupNames, **kwargs):\n",
    "  \n",
    "  size_repr_len_pairs = [[name, reprs, reprs.shape[0]] for name, reprs in representations_dict_groupNames.items()]\n",
    "  names, reprs, lengths = [*zip(*size_repr_len_pairs)]\n",
    "\n",
    "  transeds = get_projection(torch.cat(reprs))\n",
    "  to_return = defaultdict(defaultdict)\n",
    "  for method, transed in transeds.items():\n",
    "    accum_length = 0\n",
    "    for name, length in zip(names, lengths):\n",
    "      to_return[method][name] = transed[accum_length:accum_length+length]\n",
    "      accum_length += length\n",
    "    \n",
    "  return to_return\n",
    "  \n",
    "\n",
    "pivot = torch.zeros(1, word_reprs.shape[1])\n",
    "pivot[0, 0] = 1\n",
    "origin = torch.zeros(1, word_reprs.shape[1])\n",
    "\n",
    "transeds_dict_methods_groupNames = grouped_get_projection({'word': word_reprs, 'pivot': pivot, 'origin': origin})\n",
    "\n",
    "# transeds_dict_methods = get_projection(torch.cat([word_reprs, pivot]))\n",
    "# transed_words_dict_methods = {name: transed[:-1] for name, transed in transeds_dict_methods.items()} #transed word representations in a dict with methods as keys\n",
    "# transed_pivots_dict_methods = {name: transed[-1:] for name, transed in transeds_dict_methods.items()}\n",
    "vector_norms = np.linalg.norm(word_reprs, axis=1)\n",
    "# del model"
   ]
  },
  {
   "cell_type": "code",
   "execution_count": null,
   "id": "6545de90-4a07-41bb-899b-270eea1457f2",
   "metadata": {},
   "outputs": [],
   "source": []
  },
  {
   "cell_type": "code",
   "execution_count": 700,
   "id": "8b0afb61-9ed5-4f75-946f-1534b34d9ad7",
   "metadata": {},
   "outputs": [],
   "source": [
    "from utils.inspecting import inspect_direction_representing_words\n",
    "\n",
    "def draw_and_annotate(ax, points, word_pos_pairs):\n",
    "  image = ax.scatter(*points.T, marker='.', edgecolors='none', cmap=cmap, c=norms, alpha=.2, vmin=0)\n",
    "\n",
    "  for word, x_y in word_pos_pairs:\n",
    "    ax.annotate(word, x_y, alpha=.7)"
   ]
  },
  {
   "cell_type": "code",
   "execution_count": 701,
   "id": "1924c002-1488-4ee6-b179-c18db380f7df",
   "metadata": {
    "jupyter": {
     "source_hidden": true
    }
   },
   "outputs": [],
   "source": [
    "# vector_norms = np.linalg.norm(word_reprs, axis=1)\n",
    "# # angle_norms = np.linalg.norm(angle_reprs, axis=1)\n",
    "\n",
    "# # sampling_position = np.random.randint(0, len(dataset))\n",
    "# # samples = dataset[sampling_position:sampling_position+3]['text']\n",
    "# # sequences = tokenizer(samples, add_special_tokens=False)['input_ids']\n",
    "\n",
    "# representations = {\n",
    "#     'word_vector': (transed_word, vector_norms),\n",
    "#     # 'word_angle': (transed_angle, angle_norms)\n",
    "# }\n",
    "# methods = ['euclidean', 'cosine']\n",
    "\n",
    "# fig, axes = plt.subplots(len(methods), max(2, len(representations)), figsize=[12*len(methods),12*len(representations)])\n",
    "# cmap = plt.get_cmap('rainbow')\n",
    "# for i, repr_name in enumerate(representations):\n",
    "#   for j, method in enumerate(methods):\n",
    "#     ax = axes[i, j]\n",
    "#     representation, norms = representations[repr_name]\n",
    "\n",
    "#     ax.set_title(f'{repr_name}, {method}')\n",
    "\n",
    "#     draw_and_annotate(ax, representation[method], zip(words, representation[method][ids]))\n",
    "    \n",
    "#     fig.colorbar(image, cmap=cmap, ax=ax)\n",
    "\n",
    "#     # for seq in sequences:\n",
    "#     #   positions = representation[method][seq]\n",
    "#     #   ax.plot(*positions.T, alpha=.3)\n",
    "#     #   ax.scatter(*positions.T, marker='x')\n",
    "\n",
    "#     #   tokens = tokenizer.convert_ids_to_tokens(seq)\n",
    "\n",
    "#     #   for token, pos in zip(tokens, positions):\n",
    "#     #     # print(token, pos)\n",
    "#     #     ax.annotate(token, pos)\n",
    "\n",
    "\n",
    "\n",
    "# # fig.savefig(f'image/umap-{subpath}-epoch_{epoch_num}-{batch_num}.png')"
   ]
  },
  {
   "cell_type": "code",
   "execution_count": 702,
   "id": "b8a5116d-f852-4d66-b461-df3595a9d76f",
   "metadata": {},
   "outputs": [
    {
     "data": {
      "text/plain": [
       "0.14553696"
      ]
     },
     "execution_count": 702,
     "metadata": {},
     "output_type": "execute_result"
    },
    {
     "data": {
      "image/png": "[encoded data removed]",
      "text/plain": [
       "<Figure size 640x480 with 1 Axes>"
      ]
     },
     "metadata": {},
     "output_type": "display_data"
    }
   ],
   "source": [
    "sim = cosine_similarity(w)\n",
    "offdiag_mean = (sim.sum(axis=1) - 1) / (sim.shape[0] - 1)\n",
    "plt.hist(offdiag_mean, bins=200)\n",
    "offdiag_mean.mean()"
   ]
  },
  {
   "cell_type": "code",
   "execution_count": 703,
   "id": "15703846-5882-471f-95b8-9a38e4976fd5",
   "metadata": {},
   "outputs": [],
   "source": [
    "wordIdPairs_dict_samplingMethod = {}"
   ]
  },
  {
   "cell_type": "code",
   "execution_count": 704,
   "id": "bd65dedc-082f-451d-bdae-96651d2a4928",
   "metadata": {},
   "outputs": [],
   "source": [
    "far_ids = np.where(offdiag_mean < -0.05)[0]\n",
    "tokens = tokenizer.convert_ids_to_tokens(far_ids)\n",
    "wordIdPairs_dict_samplingMethod['far_tokens'] = list(zip(tokens, far_ids))"
   ]
  },
  {
   "cell_type": "code",
   "execution_count": 705,
   "id": "3a1094e2-67d4-4f13-94b0-2704bbf150f4",
   "metadata": {},
   "outputs": [
    {
     "name": "stdout",
     "output_type": "stream",
     "text": [
      "['[MASK]', ',', '.', '[SEP]', '[PAD]', '[CLS]', 'the', 'and', 'and', 'i', 'her', 'he', 'him', 'she', 'are', 'is', 'they', 'a', 'am', 'Другог', 'Ser', 'law', 'Улица', 'Kitchen', 'representatives', 'za', 'wants', '##cas', 'peak', '545', 'Plate', '##иже', 'properties', 'Сил', 'Þ', '##oca', '##rapher', 'span', 'cruise', '243', '250', 'br', '##ece', '##vestor', '##дии', 'може', 'Need', 'encountered', '1750', 'messe', '##rath', 'Bird', '##vy', '##TD', 'персонажей', 'тата', 'properties', 'Rote', 'Lover', 'проектов', 'самого', '##сел', '##струмент', '##ssia', 'Риме', 'dro', 'рата', 'Having', 'написал', '##рак', 'борьбы', '##шение', 'oni', 'collapsed', '##osing', '##анган', 'зависит', '191', 'promoting', '##lf', '##ds', 'син', '##цену', '##inal', '##работал', 'Pere', 'Ponte', 'align', 'formation']\n",
      "[4, 16, 18, 3, 0, 2, 531, 537, 537, 76, 852, 674, 1155, 1080, 707, 550, 983, 68, 782, 24677, 12764, 2519, 24817, 23055, 15710, 740, 14552, 5038, 10972, 15616, 15135, 26217, 7948, 27177, 146, 14078, 28109, 16165, 27619, 8041, 1956, 10906, 8380, 23969, 10528, 2430, 9616, 23490, 7188, 26310, 13658, 5664, 3598, 26578, 24424, 5514, 7948, 21598, 17617, 26403, 10353, 21665, 25014, 19813, 29338, 10821, 9898, 15773, 14561, 8995, 17290, 9728, 9606, 26101, 25498, 28686, 28316, 7219, 17938, 11320, 2525, 6407, 28192, 12047, 23084, 10737, 10291, 21054, 4075]\n"
     ]
    }
   ],
   "source": [
    "words = ['[MASK]', ',', '.', '[SEP]', '[PAD]', '[CLS]', 'the', 'and', 'and', 'i', 'her', 'he', 'him', 'she', 'are', 'is', 'they', 'a', 'am']\n",
    "\n",
    "samples = np.random.randint(0, tokenizer.vocab_size, [70])\n",
    "\n",
    "word_ids = tokenizer.convert_tokens_to_ids(words)\n",
    "sample_tokens = tokenizer.convert_ids_to_tokens(samples)\n",
    "words = words + sample_tokens\n",
    "ids = word_ids + samples.tolist()\n",
    "\n",
    "wordIdPairs_dict_samplingMethod['random+most_common'] = list(zip(words, ids))\n",
    "print(words, ids, sep='\\n')"
   ]
  },
  {
   "cell_type": "code",
   "execution_count": 706,
   "id": "e173dd20-c9e4-4d6c-8c14-096ec12d5ded",
   "metadata": {},
   "outputs": [
    {
     "name": "stdout",
     "output_type": "stream",
     "text": [
      "['Paris', '1974', '1894', 'Even', 'joined', 'Paris', 'published', 'published', 'Owen', '1889', 'published', 'Paris', 'Even', '1974', 'published', 'joined', 'joined', 'Paris', 'Even', 'water', '##ido', 'Even', 'Paris', '1974', 'published', '##ido', '1894', 'published', 'Paris', '##ate', '1974', 'bol', '##ys', '1974', 'published', 'Crazy', 'published', '1974', 'Paris', 'три', 'Paris', 'Even', 'published', 'joined', 'published', 'Paris', '1889', '1889', '1894', 'joined', 'Anna', 'published', '##є', 'published', 'water', '##ido', '##ido', 'received', '1894', 'joined', '1894', 'joined', 'received', '##ido', '1889', 'joined', 'Paris', '1889', 'published', 'Even', 'Paris', 'Paris', '##ate', '##eg', '1889', 'Paris', 'little', '1897', '1889', 'Paris', '##ate', '1974', 'Men', 'published', 'published', '##ня', 'Paris', '1974', '##ys', 'Paris', '1889', 'Paris', 'Paris', '1974', 'Even', 'Men', 'received', '1889', 'published', 'published', 'published', 'Paris', 'joined', '1974', 'bol', 'Even', 'Paris', 'Paris', 'Hill', 'Paris', '1889', '1974', '1889', '1894', 'received', 'Paris', '1889', 'Paris', 'Paris', '1894', 'Paris', 'published', 'Even', 'Hill', 'Awards', 'Paris', 'published', '1974', 'water', 'Jack', '1974', '1894', '##ном', 'Paris', '1889', 'Paris', '##є', '1974', 'Even', 'What', 'received', 'Paris', 'Paris', '1974', '1974', '1974', '1894', 'joined', 'Paris', 'little']\n",
      "[1011 1007 2344 8902 2867 1011 2009 2009 7320 2235 2009 1011 8902 1007\n",
      " 2009 2867 2867 1011 8902 1998 2011 8902 1011 1007 2009 2011 2344 2009\n",
      " 1011 2081 1007 2942 2212 1007 2009 9152 2009 1007 1011 2517 1011 8902\n",
      " 2009 2867 2009 1011 2235 2235 2344 2867 2006 2009 1996 2009 1998 2011\n",
      " 2011 2003 2344 2867 2344 2867 2003 2011 2235 2867 1011 2235 2009 8902\n",
      " 1011 1011 2081 2638 2235 1011 4246 2137 2235 1011 2081 1007 2405 2009\n",
      " 2009 2251 1011 1007 2212 1011 2235 1011 1011 1007 8902 2405 2003 2235\n",
      " 2009 2009 2009 1011 2867 1007 2942 8902 1011 1011 2000 1011 2235 1007\n",
      " 2235 2344 2003 1011 2235 1011 1011 2344 1011 2009 8902 2000 2038 1011\n",
      " 2009 1007 1998 2030 1007 2344 2058 1011 2235 1011 1996 1007 8902 2106\n",
      " 2003 1011 1011 1007 1007 1007 2344 2867 1011 4246]\n"
     ]
    }
   ],
   "source": [
    "sampled_vecs = np.random.rand(150, word_reprs.shape[1])\n",
    "sampled_args = cosine_similarity(sampled_vecs, word_reprs).argmax(axis=1)\n",
    "\n",
    "sample_tokens = tokenizer.convert_ids_to_tokens(sampled_args)\n",
    "\n",
    "wordIdPairs_dict_samplingMethod['random_vectors'] = list(zip(sample_tokens, sampled_args))\n",
    "print(sample_tokens, sampled_args, sep='\\n')"
   ]
  },
  {
   "cell_type": "code",
   "execution_count": 707,
   "id": "9e5165f1-86cf-4887-9a7f-f8d6f394194d",
   "metadata": {},
   "outputs": [],
   "source": [
    "wordIdPairs_dict_samplingMethod['end_with_ed'] = [[key, id_] for key, id_ in tokenizer.vocab.items() if key[-2:] == 'ed']"
   ]
  },
  {
   "cell_type": "code",
   "execution_count": null,
   "id": "61ef0a12-6e8f-40f6-a7bd-9e4e3f8dafb3",
   "metadata": {},
   "outputs": [],
   "source": []
  },
  {
   "cell_type": "code",
   "execution_count": 710,
   "id": "2ddd3707-7204-4dc1-a0c3-f57589ea0703",
   "metadata": {},
   "outputs": [],
   "source": [
    "cmap = plt.get_cmap('rainbow')\n",
    "\n",
    "def plot_basics(axes, transeds_dict_groupNames, title_prefix=None):\n",
    "  for ax, (methodName, transeds_dict_groupNames) in zip(axes, transeds_dict_methods_groupNames.items()):\n",
    "    transeds_dict_groupNames = transeds_dict_groupNames.copy()\n",
    "    transed_vecs = transeds_dict_groupNames.pop('word')\n",
    "  \n",
    "    image = ax.scatter(*transed_vecs.T, marker='.', edgecolors='none', s=3, c=norms, cmap=cmap, alpha=.7, vmin=0)\n",
    "    fig.colorbar(image, ax=ax, fraction=0.05, pad=0.05)\n",
    "  \n",
    "    ax.scatter(*transeds_dict_groupNames['pivot'].T, marker='+', color='red', alpha=.7, label='pivot')\n",
    "    ax.scatter(*transeds_dict_groupNames['origin'].T, marker='+', color='blue', alpha=.7, label='origin')\n",
    "    ax.set_title(f\"{title_prefix}: {methodName}\")\n",
    "    ax.legend()"
   ]
  },
  {
   "cell_type": "code",
   "execution_count": null,
   "id": "7b89db88-38df-45e8-8e6b-a538cfcc5767",
   "metadata": {},
   "outputs": [],
   "source": [
    "%%capture --no-stdout --no-display\n",
    "fig, axes = plt.subplots(1+len(wordIdPairs_dict_samplingMethod), 2, figsize=[16, 6*(1+len(wordIdPairs_dict_samplingMethod))])\n",
    "\n",
    "plot_basics(axes[0], transeds_dict_methods_groupNames, 'raw')\n",
    "\n",
    "for axes_or_a_row, (samplingMethodName, word_id_pairs) in zip(axes[1:], wordIdPairs_dict_samplingMethod.items()):\n",
    "  plot_basics(axes_or_a_row, transeds_dict_methods_groupNames, samplingMethodName)\n",
    "\n",
    "  for ax, (ProjectingMethodName, transeds_dict_groupNames) in zip(axes_or_a_row, transeds_dict_methods_groupNames.items()):\n",
    "    # print(word_id_pairs)\n",
    "    for word, id_ in word_id_pairs:\n",
    "      # print(word, id_)\n",
    "      ax.annotate(word, transeds_dict_groupNames['word'][id_], alpha=.3)"
   ]
  },
  {
   "cell_type": "code",
   "execution_count": null,
   "id": "fc0ba569-f1be-49bb-86dc-300afb2067e6",
   "metadata": {},
   "outputs": [],
   "source": []
  }
 ],
 "metadata": {
  "kernelspec": {
   "display_name": "Python 3 (ipykernel)",
   "language": "python",
   "name": "python3"
  },
  "language_info": {
   "codemirror_mode": {
    "name": "ipython",
    "version": 3
   },
   "file_extension": ".py",
   "mimetype": "text/x-python",
   "name": "python",
   "nbconvert_exporter": "python",
   "pygments_lexer": "ipython3",
   "version": "3.12.2"
  }
 },
 "nbformat": 4,
 "nbformat_minor": 5
}

{
 "cells": [
  {
   "cell_type": "code",
   "execution_count": 2,
   "id": "8993056f-c602-4f78-8db0-9e743dd27d4e",
   "metadata": {},
   "outputs": [],
   "source": [
    "import pathlib\n",
    "import numpy as np\n",
    "\n",
    "import matplotlib.pyplot as plt\n",
    "\n",
    "import torch\n",
    "from torch import nn\n",
    "\n",
    "import datasets\n",
    "from transformers import AutoTokenizer\n",
    "\n",
    "import umap"
   ]
  },
  {
   "cell_type": "code",
   "execution_count": 3,
   "id": "2b03f39e-7e27-4427-8c41-2c32dc59b04e",
   "metadata": {},
   "outputs": [
    {
     "name": "stderr",
     "output_type": "stream",
     "text": [
      "/home/adam/miniconda3/envs/lima/lib/python3.12/site-packages/datasets/load.py:1461: FutureWarning: The repository for bookcorpus contains custom code which must be executed to correctly load the dataset. You can inspect the repository content at https://hf.co/datasets/bookcorpus\n",
      "You can avoid this message in future by passing the argument `trust_remote_code=True`.\n",
      "Passing `trust_remote_code=True` will be mandatory to load this dataset from the next major release of `datasets`.\n",
      "  warnings.warn(\n"
     ]
    },
    {
     "data": {
      "text/plain": [
       "{'text': ['usually , he would be tearing around the living room , playing with his toys .',\n",
       "  'but just one look at a minion sent him practically catatonic .',\n",
       "  \"that had been megan 's plan when she got him dressed earlier .\"]}"
      ]
     },
     "execution_count": 3,
     "metadata": {},
     "output_type": "execute_result"
    }
   ],
   "source": [
    "dataset = datasets.load_dataset('bookcorpus')['train']\n",
    "tokenizer = AutoTokenizer.from_pretrained('bert-base-uncased')\n",
    "\n",
    "dataset[:3]"
   ]
  },
  {
   "cell_type": "code",
   "execution_count": 4,
   "id": "05349014-3edb-4a0a-9c80-9207d89c99d5",
   "metadata": {},
   "outputs": [],
   "source": []
  },
  {
   "cell_type": "code",
   "execution_count": 201,
   "id": "b7ac73c1-a037-4f1a-b395-e1c534acc3f7",
   "metadata": {},
   "outputs": [],
   "source": [
    "subpath = '20240704.20:55:54' # 4 abs_bert, bookcorpus\n",
    "subpath = '20240704.21:19:36' # 5 abs_bert, wiki\n",
    "# subpath = '20240704.21:26:11' # 6 abs_bert, bookcorpus, xavier_init_embedding\n",
    "subpath = '20240704.21:33:23' # 7 abs_bert, wiki, xavier_init_embedding\n",
    "# subpath = '20240709.10:26:55' # abs_architecture, lr 1e-5~1e-3, early exploded\n",
    "subpath = '20240709.11:13:35' # abs_architecture, lr 1e-5~1e-3, exploded at 10000\n",
    "subpath = '20240709.12:14:48' # time_attention, lr 1e-5~1e-3, exploded at before 6000\n",
    "\n",
    "subpath = '20240710.23:13:03' # all1_as_pivot, mask_prob0.15\n",
    "subpath = '20240711.03:33:04' # all1_layerNorm, lr 2e-5\n",
    "subpath = '20240711.03:33:24' # all1_layerNorm, lr 5e-6\n",
    "subpath = '20240711.03:48:45' # all1_layerNorm, lr 1e-6\n",
    "subpath = '20240711.15:40:27' # bookcorpus, lr 4e-5\n",
    "# subpath = '20240711.16:14:06' # multi granularity, bookcorpus, lr 4e-5 (寫錯, granularity 都很小)\n",
    "# subpath = '20240711.17:01:29' # log_granularity [1,2,3,5,6,7,8,9], bookcorpus, lr 4e-5\n",
    "# subpath = '20240711.17:23:01' # log_granularity [1,2,2,3,5,5,6,6], bookcorpus, lr 4e-5"
   ]
  },
  {
   "cell_type": "code",
   "execution_count": 202,
   "id": "e6858c5e-1792-4a54-ac65-194c89cb6ca4",
   "metadata": {},
   "outputs": [
    {
     "name": "stdout",
     "output_type": "stream",
     "text": [
      "weight norms, min: 0.10950691998004913, max: 0.9543152451515198\n",
      "min norms: ['[PAD]', 'yin', 'moose', 'tigers', 'grenade', 'pudding', 'mario', 'commando', 'browning', 'atlas']\n",
      "max norms: ['of', 'a', \"'\", 'in', 'it', 'was', 'the', 'to', 'and', ',']\n",
      "bias norms, min: -0.14250768721103668, max: 0.13480718433856964\n",
      "min norms: ['[PAD]', 'chennai', '##貝', 'ussr', '##е', '1845', 'haryana', '1883', '1709', 'migrants']\n",
      "max norms: ['in', 'it', 'a', 'was', \"'\", 'to', 'and', 'the', ',', '.']\n"
     ]
    },
    {
     "data": {
      "image/png": "[encoded data removed]",
      "text/plain": [
       "<Figure size 900x400 with 2 Axes>"
      ]
     },
     "metadata": {},
     "output_type": "display_data"
    }
   ],
   "source": [
    "epoch_num = 0\n",
    "batch_num = 100000\n",
    "\n",
    "\n",
    "folder_path = pathlib.Path('data/limanet/')\n",
    "\n",
    "model = torch.load(folder_path/subpath/f'epoch_{epoch_num}-batch_{batch_num}-model.pt', map_location='cpu')\n",
    "word_reprs = model.word_embeddings().detach()\n",
    "\n",
    "_, (ax_w, ax_b) = plt.subplots(1, 2, figsize=[9, 4])\n",
    "\n",
    "# weight stats\n",
    "norms = np.linalg.norm(word_reprs, axis=1)\n",
    "indices = norms.argsort()\n",
    "print(f\"weight norms, min: {norms.min()}, max: {norms.max()}\")\n",
    "print(\"min norms:\", tokenizer.convert_ids_to_tokens(indices[:10]))\n",
    "print(\"max norms:\", tokenizer.convert_ids_to_tokens(indices[-10:]))\n",
    "_ = ax_w.hist(norms, bins=100)\n",
    "\n",
    "# bias stats\n",
    "biases = model.bias.detach()\n",
    "indices = biases.argsort()\n",
    "print(f\"bias norms, min: {biases.min()}, max: {biases.max()}\")\n",
    "print(\"min norms:\", tokenizer.convert_ids_to_tokens(indices[:10]))\n",
    "print(\"max norms:\", tokenizer.convert_ids_to_tokens(indices[-10:]))\n",
    "if hasattr(model, 'predictor') and hasattr(model.predictor, 'base_vec'):\n",
    "  print(f\"base vec norm: {model.predictor.base_vec.norm()}\")\n",
    "_ = ax_b.hist(biases, bins=100)"
   ]
  },
  {
   "cell_type": "code",
   "execution_count": 203,
   "id": "da917ee3-0e83-452e-a0c1-62e051aad22c",
   "metadata": {},
   "outputs": [],
   "source": [
    "sentence = ['I love to [MASK].', 'Hi, how are [MASK]?']\n",
    "inputs = tokenizer(sentence, return_tensors='pt', padding=True, add_special_tokens=False)\n",
    "inputs\n",
    "\n",
    "res = model(**inputs)[0]"
   ]
  },
  {
   "cell_type": "code",
   "execution_count": 204,
   "id": "e614f288-8951-44fb-a921-1dc1c7003865",
   "metadata": {},
   "outputs": [
    {
     "data": {
      "text/plain": [
       "(['i', 'love', 'to', '[MASK]', '.', 'hi', ',', 'how', 'are', '[MASK]', '?'],\n",
       " array([3, 9]))"
      ]
     },
     "execution_count": 204,
     "metadata": {},
     "output_type": "execute_result"
    }
   ],
   "source": [
    "ids = tokenizer.encode(sentence, add_special_tokens=False)\n",
    "mask_pos = np.where([(id_ == tokenizer.vocab['[MASK]']) for id_ in ids])[0]\n",
    "tokenizer.convert_ids_to_tokens(ids), mask_pos"
   ]
  },
  {
   "cell_type": "code",
   "execution_count": 205,
   "id": "d6261123-3ac4-4fcc-8838-d968ac6094b2",
   "metadata": {},
   "outputs": [],
   "source": [
    "n_tops = 10\n",
    "\n",
    "score = res @ word_reprs.T\n",
    "preds = score.argsort(dim=2).flip(2)[:, :, :n_tops]"
   ]
  },
  {
   "cell_type": "code",
   "execution_count": 206,
   "id": "ca9f4cb4-a720-406c-8104-6ccdce0026f6",
   "metadata": {},
   "outputs": [
    {
     "name": "stdout",
     "output_type": "stream",
     "text": [
      "i      ['love', 'i', 'want', 'do', 'have', 'hate', 'know', 'need', 'to', 'you']\n",
      "love   ['love', 'want', 'do', 'need', 'you', 'to', 'have', 'know', 'feel', 'hate']\n",
      "to     ['love', 'do', 'ask', 'you', 'know', 'me', 'see', 'want', 'tell', 'him']\n",
      "[MASK] ['me', 'do', 'him', 'know', 'you', 'love', '.', 'ask', 'her', 'say']\n",
      ".      ['it', '.', 'you', 'me', 'him', 'do', 'her', 'them', 'love', 'that']\n",
      "[PAD]  ['.', 'mr', 'me', 'it', 'you', 'mrs', 'him', 'dr', 'now', 'i']\n",
      "\n",
      "hi     [',', 'and', 'oh', 'so', 'hi', 'no', 'what', 'yes', 'to', 'god']\n",
      ",      [',', 'you', 'and', 'what', 'it', 'that', 'to', 'we', 'where', 'much']\n",
      "how    ['you', ',', 'what', 'we', 'they', 'it', 'why', 'that', 'are', 'how']\n",
      "are    ['you', 'he', 'they', 'it', 'she', 'we', 'what', 'i', ',', 'that']\n",
      "[MASK] ['you', 'it', 'that', 'he', ',', 'she', 'what', 'they', 'we', 'i']\n",
      "?      ['you', 'what', 'it', 'doing', 'they', 'that', 'he', 'we', 'there', 'dead']\n",
      "\n"
     ]
    }
   ],
   "source": [
    "for truth_ids, sample in zip(inputs['input_ids'], preds):\n",
    "  truth_tokens = tokenizer.convert_ids_to_tokens(truth_ids)\n",
    "  max_length = max([len(token) for token in truth_tokens])\n",
    "  \n",
    "  for token, candidates in zip(truth_tokens, sample):\n",
    "    print(token.ljust(max_length), tokenizer.convert_ids_to_tokens(candidates))\n",
    "  print()"
   ]
  },
  {
   "cell_type": "code",
   "execution_count": null,
   "id": "ff723a90-17e5-4e25-9713-ede5f84d4997",
   "metadata": {},
   "outputs": [],
   "source": []
  },
  {
   "cell_type": "code",
   "execution_count": null,
   "id": "bded4313-aef9-41ae-9629-ab6ac68b40c4",
   "metadata": {},
   "outputs": [],
   "source": []
  }
 ],
 "metadata": {
  "kernelspec": {
   "display_name": "Python 3 (ipykernel)",
   "language": "python",
   "name": "python3"
  },
  "language_info": {
   "codemirror_mode": {
    "name": "ipython",
    "version": 3
   },
   "file_extension": ".py",
   "mimetype": "text/x-python",
   "name": "python",
   "nbconvert_exporter": "python",
   "pygments_lexer": "ipython3",
   "version": "3.12.2"
  }
 },
 "nbformat": 4,
 "nbformat_minor": 5
}
